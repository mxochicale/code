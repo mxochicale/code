{
 "cells": [
  {
   "cell_type": "code",
   "execution_count": 1,
   "id": "4e058a0f",
   "metadata": {
    "ExecuteTime": {
     "end_time": "2022-02-14T12:24:12.774361Z",
     "start_time": "2022-02-14T12:24:11.849809Z"
    }
   },
   "outputs": [],
   "source": [
    "import numpy as np\n",
    "import pandas as pd\n",
    "import seaborn as sns\n",
    "import matplotlib.pyplot as plt\n",
    "\n",
    "import torch\n",
    "import torch.nn as nn\n",
    "import torch.optim as optim\n",
    "from torch.utils.data import Dataset, DataLoader\n",
    "\n",
    "from sklearn.preprocessing import StandardScaler    \n",
    "from sklearn.model_selection import train_test_split\n",
    "from sklearn.metrics import confusion_matrix, classification_report"
   ]
  },
  {
   "cell_type": "code",
   "execution_count": 2,
   "id": "f300278f",
   "metadata": {
    "ExecuteTime": {
     "end_time": "2022-02-14T12:24:12.841556Z",
     "start_time": "2022-02-14T12:24:12.775501Z"
    }
   },
   "outputs": [
    {
     "data": {
      "text/plain": [
       "<AxesSubplot:xlabel='Class_att', ylabel='count'>"
      ]
     },
     "execution_count": 2,
     "metadata": {},
     "output_type": "execute_result"
    },
    {
     "data": {
      "image/png": "[encoded data removed]",
      "text/plain": [
       "<Figure size 432x288 with 1 Axes>"
      ]
     },
     "metadata": {
      "needs_background": "light"
     },
     "output_type": "display_data"
    }
   ],
   "source": [
    "df = pd.read_csv(\"Dataset_spine.csv\")\n",
    "df.head()\n",
    "#310 Observations, 13 Attributes (12 Numeric Predictors, 1 Binary Class Attribute - No Demographics)\n",
    "\n",
    "sns.countplot(x = 'Class_att', data=df)"
   ]
  },
  {
   "cell_type": "code",
   "execution_count": 3,
   "id": "e194dba0",
   "metadata": {
    "ExecuteTime": {
     "end_time": "2022-02-14T12:24:12.846771Z",
     "start_time": "2022-02-14T12:24:12.842604Z"
    }
   },
   "outputs": [],
   "source": [
    "\n",
    "df['Class_att'] = df['Class_att'].astype('category')\n",
    "encode_map = {\n",
    "    'Abnormal': 1,\n",
    "    'Normal': 0\n",
    "}\n",
    "\n",
    "df['Class_att'].replace(encode_map, inplace=True)\n",
    "\n"
   ]
  },
  {
   "cell_type": "code",
   "execution_count": 4,
   "id": "52671e0e",
   "metadata": {
    "ExecuteTime": {
     "end_time": "2022-02-14T12:24:12.849845Z",
     "start_time": "2022-02-14T12:24:12.847811Z"
    }
   },
   "outputs": [],
   "source": [
    "X = df.iloc[:, 0:-2]\n",
    "y = df.iloc[:, -2]\n"
   ]
  },
  {
   "cell_type": "code",
   "execution_count": 5,
   "id": "df4ec63e",
   "metadata": {
    "ExecuteTime": {
     "end_time": "2022-02-14T12:24:12.853342Z",
     "start_time": "2022-02-14T12:24:12.850674Z"
    }
   },
   "outputs": [],
   "source": [
    "# Train Test Split\n",
    "# We now split our data into train and test sets. We’ve selected 33% percent of out data to be in the test set.\n",
    "\n",
    "X_train, X_test, y_train, y_test = train_test_split(X, y, test_size=0.33, random_state=69)"
   ]
  },
  {
   "cell_type": "code",
   "execution_count": 6,
   "id": "60f7097f",
   "metadata": {
    "ExecuteTime": {
     "end_time": "2022-02-14T12:24:12.858625Z",
     "start_time": "2022-02-14T12:24:12.854002Z"
    }
   },
   "outputs": [
    {
     "name": "stdout",
     "output_type": "stream",
     "text": [
      "(207, 12)\n"
     ]
    }
   ],
   "source": [
    "# Standardize Input\n",
    "# For neural networks to train properly, we need to standardize the input values. \n",
    "# We standardize features by removing the mean and scaling to unit variance. T\n",
    "\n",
    "scaler = StandardScaler()\n",
    "X_train = scaler.fit_transform(X_train)\n",
    "X_test = scaler.transform(X_test)\n",
    "\n",
    "print(X_train.shape)\n"
   ]
  },
  {
   "cell_type": "code",
   "execution_count": 7,
   "id": "b002fe8e",
   "metadata": {
    "ExecuteTime": {
     "end_time": "2022-02-14T12:24:12.862152Z",
     "start_time": "2022-02-14T12:24:12.859350Z"
    }
   },
   "outputs": [],
   "source": [
    "# Model Parameters\n",
    "\n",
    "EPOCHS = 50\n",
    "BATCH_SIZE = 64\n",
    "LEARNING_RATE = 0.001\n"
   ]
  },
  {
   "cell_type": "code",
   "execution_count": 8,
   "id": "369ec3de",
   "metadata": {
    "ExecuteTime": {
     "end_time": "2022-02-14T12:24:12.885449Z",
     "start_time": "2022-02-14T12:24:12.862966Z"
    }
   },
   "outputs": [],
   "source": [
    "# Define Custom Dataloaders\n",
    "\n",
    "## train data\n",
    "class TrainData(Dataset):\n",
    "    def __init__(self, X_data, y_data):\n",
    "        self.X_data = X_data\n",
    "        self.y_data = y_data\n",
    "        \n",
    "    def __getitem__(self, index):\n",
    "        return self.X_data[index], self.y_data[index]\n",
    "        \n",
    "    def __len__ (self):\n",
    "        return len(self.X_data)\n",
    "\n",
    "\n",
    "train_data = TrainData(torch.FloatTensor(X_train), \n",
    "                       torch.FloatTensor(y_train))\n",
    "\n",
    "\n",
    "## test data    \n",
    "class TestData(Dataset):    \n",
    "    def __init__(self, X_data):\n",
    "        self.X_data = X_data\n",
    "        \n",
    "    def __getitem__(self, index):\n",
    "        return self.X_data[index]\n",
    "        \n",
    "    def __len__ (self):\n",
    "        return len(self.X_data)\n",
    "    \n",
    "\n",
    "test_data = TestData(torch.FloatTensor(X_test))"
   ]
  },
  {
   "cell_type": "code",
   "execution_count": 9,
   "id": "5d950d5e",
   "metadata": {
    "ExecuteTime": {
     "end_time": "2022-02-14T12:24:12.888601Z",
     "start_time": "2022-02-14T12:24:12.886434Z"
    }
   },
   "outputs": [],
   "source": [
    "train_loader = DataLoader(dataset=train_data, batch_size=BATCH_SIZE, shuffle=True)\n",
    "test_loader = DataLoader(dataset=test_data, batch_size=1)"
   ]
  },
  {
   "cell_type": "code",
   "execution_count": 10,
   "id": "9c8a43bb",
   "metadata": {
    "ExecuteTime": {
     "end_time": "2022-02-14T12:24:12.917927Z",
     "start_time": "2022-02-14T12:24:12.889671Z"
    }
   },
   "outputs": [
    {
     "name": "stdout",
     "output_type": "stream",
     "text": [
      "cuda:0\n"
     ]
    }
   ],
   "source": [
    "class BinaryClassification(nn.Module):\n",
    "    def __init__(self):\n",
    "        super(BinaryClassification, self).__init__()        # Number of input features is 12.\n",
    "        self.layer_1 = nn.Linear(12, 64) \n",
    "        self.layer_2 = nn.Linear(64, 64)\n",
    "        self.layer_out = nn.Linear(64, 1) \n",
    "        \n",
    "        self.relu = nn.ReLU()\n",
    "        self.dropout = nn.Dropout(p=0.1)\n",
    "        self.batchnorm1 = nn.BatchNorm1d(64)\n",
    "        self.batchnorm2 = nn.BatchNorm1d(64)\n",
    "        \n",
    "    def forward(self, inputs):\n",
    "        x = self.relu(self.layer_1(inputs))\n",
    "        x = self.batchnorm1(x)\n",
    "        x = self.relu(self.layer_2(x))\n",
    "        x = self.batchnorm2(x)\n",
    "        x = self.dropout(x)\n",
    "        x = self.layer_out(x)\n",
    "        \n",
    "        return x\n",
    "    \n",
    "device = torch.device(\"cuda:0\" if torch.cuda.is_available() else \"cpu\")\n",
    "print(device)    "
   ]
  },
  {
   "cell_type": "code",
   "execution_count": 11,
   "id": "8f4451c5",
   "metadata": {
    "ExecuteTime": {
     "end_time": "2022-02-14T12:24:13.765400Z",
     "start_time": "2022-02-14T12:24:12.918751Z"
    }
   },
   "outputs": [
    {
     "name": "stdout",
     "output_type": "stream",
     "text": [
      "BinaryClassification(\n",
      "  (layer_1): Linear(in_features=12, out_features=64, bias=True)\n",
      "  (layer_2): Linear(in_features=64, out_features=64, bias=True)\n",
      "  (layer_out): Linear(in_features=64, out_features=1, bias=True)\n",
      "  (relu): ReLU()\n",
      "  (dropout): Dropout(p=0.1, inplace=False)\n",
      "  (batchnorm1): BatchNorm1d(64, eps=1e-05, momentum=0.1, affine=True, track_running_stats=True)\n",
      "  (batchnorm2): BatchNorm1d(64, eps=1e-05, momentum=0.1, affine=True, track_running_stats=True)\n",
      ")\n"
     ]
    }
   ],
   "source": [
    "model = BinaryClassification()\n",
    "model.to(device)\n",
    "print(model)\n",
    "criterion = nn.BCEWithLogitsLoss()\n",
    "optimizer = optim.Adam(model.parameters(), lr=LEARNING_RATE)"
   ]
  },
  {
   "cell_type": "code",
   "execution_count": 12,
   "id": "f4e02ac6",
   "metadata": {
    "ExecuteTime": {
     "end_time": "2022-02-14T12:24:13.769201Z",
     "start_time": "2022-02-14T12:24:13.766374Z"
    }
   },
   "outputs": [],
   "source": [
    "def binary_acc(y_pred, y_test):\n",
    "    y_pred_tag = torch.round(torch.sigmoid(y_pred))\n",
    "\n",
    "    correct_results_sum = (y_pred_tag == y_test).sum().float()\n",
    "    acc = correct_results_sum/y_test.shape[0]\n",
    "    acc = torch.round(acc * 100)\n",
    "    \n",
    "    return acc"
   ]
  },
  {
   "cell_type": "code",
   "execution_count": 13,
   "id": "1899e2aa",
   "metadata": {
    "ExecuteTime": {
     "end_time": "2022-02-14T12:24:14.538109Z",
     "start_time": "2022-02-14T12:24:13.770030Z"
    }
   },
   "outputs": [
    {
     "name": "stdout",
     "output_type": "stream",
     "text": [
      "Epoch 001: | Loss: 0.73083 | Acc: 49.250\n",
      "Epoch 002: | Loss: 0.60701 | Acc: 67.250\n",
      "Epoch 003: | Loss: 0.52536 | Acc: 76.000\n",
      "Epoch 004: | Loss: 0.52768 | Acc: 75.000\n",
      "Epoch 005: | Loss: 0.47416 | Acc: 75.500\n",
      "Epoch 006: | Loss: 0.42898 | Acc: 81.750\n",
      "Epoch 007: | Loss: 0.43073 | Acc: 78.750\n",
      "Epoch 008: | Loss: 0.40748 | Acc: 77.250\n",
      "Epoch 009: | Loss: 0.36950 | Acc: 85.250\n",
      "Epoch 010: | Loss: 0.37452 | Acc: 83.500\n",
      "Epoch 011: | Loss: 0.35933 | Acc: 84.750\n",
      "Epoch 012: | Loss: 0.32784 | Acc: 89.250\n",
      "Epoch 013: | Loss: 0.42771 | Acc: 80.500\n",
      "Epoch 014: | Loss: 0.31136 | Acc: 89.750\n",
      "Epoch 015: | Loss: 0.31985 | Acc: 88.500\n",
      "Epoch 016: | Loss: 0.30742 | Acc: 88.000\n",
      "Epoch 017: | Loss: 0.27564 | Acc: 92.250\n",
      "Epoch 018: | Loss: 0.31520 | Acc: 88.500\n",
      "Epoch 019: | Loss: 0.31406 | Acc: 91.750\n",
      "Epoch 020: | Loss: 0.24970 | Acc: 94.250\n",
      "Epoch 021: | Loss: 0.27328 | Acc: 92.000\n",
      "Epoch 022: | Loss: 0.24837 | Acc: 90.000\n",
      "Epoch 023: | Loss: 0.23508 | Acc: 91.250\n",
      "Epoch 024: | Loss: 0.22006 | Acc: 93.750\n",
      "Epoch 025: | Loss: 0.25263 | Acc: 93.250\n",
      "Epoch 026: | Loss: 0.22615 | Acc: 92.250\n",
      "Epoch 027: | Loss: 0.18810 | Acc: 95.000\n",
      "Epoch 028: | Loss: 0.22168 | Acc: 90.250\n",
      "Epoch 029: | Loss: 0.21817 | Acc: 90.750\n",
      "Epoch 030: | Loss: 0.18799 | Acc: 96.000\n",
      "Epoch 031: | Loss: 0.18601 | Acc: 95.000\n",
      "Epoch 032: | Loss: 0.17231 | Acc: 95.000\n",
      "Epoch 033: | Loss: 0.16959 | Acc: 96.500\n",
      "Epoch 034: | Loss: 0.17161 | Acc: 93.750\n",
      "Epoch 035: | Loss: 0.18155 | Acc: 92.750\n",
      "Epoch 036: | Loss: 0.14119 | Acc: 96.500\n",
      "Epoch 037: | Loss: 0.23492 | Acc: 92.000\n",
      "Epoch 038: | Loss: 0.14367 | Acc: 96.250\n",
      "Epoch 039: | Loss: 0.16618 | Acc: 95.250\n",
      "Epoch 040: | Loss: 0.12962 | Acc: 98.250\n",
      "Epoch 041: | Loss: 0.11053 | Acc: 99.250\n",
      "Epoch 042: | Loss: 0.13978 | Acc: 96.500\n",
      "Epoch 043: | Loss: 0.14446 | Acc: 96.500\n",
      "Epoch 044: | Loss: 0.13404 | Acc: 94.250\n",
      "Epoch 045: | Loss: 0.13448 | Acc: 95.500\n",
      "Epoch 046: | Loss: 0.13619 | Acc: 94.750\n",
      "Epoch 047: | Loss: 0.12434 | Acc: 97.000\n",
      "Epoch 048: | Loss: 0.11212 | Acc: 97.250\n",
      "Epoch 049: | Loss: 0.11449 | Acc: 96.750\n",
      "Epoch 050: | Loss: 0.13802 | Acc: 94.750\n"
     ]
    }
   ],
   "source": [
    "model.train()\n",
    "for e in range(1, EPOCHS+1):\n",
    "    epoch_loss = 0\n",
    "    epoch_acc = 0\n",
    "    for X_batch, y_batch in train_loader:\n",
    "        X_batch, y_batch = X_batch.to(device), y_batch.to(device)\n",
    "        optimizer.zero_grad()\n",
    "        \n",
    "        y_pred = model(X_batch)\n",
    "        \n",
    "        loss = criterion(y_pred, y_batch.unsqueeze(1))\n",
    "        acc = binary_acc(y_pred, y_batch.unsqueeze(1))\n",
    "        \n",
    "        loss.backward()\n",
    "        optimizer.step()\n",
    "        \n",
    "        epoch_loss += loss.item()\n",
    "        epoch_acc += acc.item()\n",
    "        \n",
    "\n",
    "    print(f'Epoch {e+0:03}: | Loss: {epoch_loss/len(train_loader):.5f} | Acc: {epoch_acc/len(train_loader):.3f}')"
   ]
  },
  {
   "cell_type": "code",
   "execution_count": 14,
   "id": "503d7496",
   "metadata": {
    "ExecuteTime": {
     "end_time": "2022-02-14T12:24:14.568431Z",
     "start_time": "2022-02-14T12:24:14.539122Z"
    }
   },
   "outputs": [
    {
     "name": "stdout",
     "output_type": "stream",
     "text": [
      "[1.0, 0.0, 1.0, 1.0, 1.0, 1.0, 0.0, 1.0, 0.0, 1.0, 1.0, 1.0, 1.0, 1.0, 1.0, 0.0, 0.0, 0.0, 1.0, 1.0, 1.0, 1.0, 1.0, 1.0, 0.0, 1.0, 0.0, 1.0, 1.0, 1.0, 0.0, 0.0, 0.0, 1.0, 1.0, 1.0, 1.0, 0.0, 1.0, 1.0, 0.0, 0.0, 1.0, 1.0, 0.0, 1.0, 1.0, 1.0, 1.0, 1.0, 1.0, 1.0, 0.0, 1.0, 1.0, 0.0, 0.0, 1.0, 1.0, 1.0, 1.0, 1.0, 0.0, 1.0, 1.0, 1.0, 0.0, 1.0, 1.0, 0.0, 0.0, 1.0, 1.0, 1.0, 0.0, 1.0, 0.0, 0.0, 1.0, 1.0, 0.0, 0.0, 0.0, 1.0, 1.0, 1.0, 1.0, 1.0, 1.0, 1.0, 1.0, 0.0, 0.0, 1.0, 0.0, 1.0, 1.0, 1.0, 0.0, 0.0, 0.0, 1.0, 0.0]\n"
     ]
    }
   ],
   "source": [
    "y_pred_list = []\n",
    "model.eval()\n",
    "with torch.no_grad():\n",
    "    for X_batch in test_loader:\n",
    "        X_batch = X_batch.to(device)\n",
    "        y_test_pred = model(X_batch)\n",
    "        y_test_pred = torch.sigmoid(y_test_pred)\n",
    "        y_pred_tag = torch.round(y_test_pred)\n",
    "        y_pred_list.append(y_pred_tag.cpu().numpy())\n",
    "        \n",
    "y_pred_list = [a.squeeze().tolist() for a in y_pred_list]\n",
    "\n",
    "print(y_pred_list)"
   ]
  },
  {
   "cell_type": "code",
   "execution_count": 15,
   "id": "25b414e0",
   "metadata": {
    "ExecuteTime": {
     "end_time": "2022-02-14T12:24:14.575258Z",
     "start_time": "2022-02-14T12:24:14.569217Z"
    }
   },
   "outputs": [
    {
     "name": "stdout",
     "output_type": "stream",
     "text": [
      "              precision    recall  f1-score   support\n",
      "\n",
      "           0       0.66      0.74      0.70        31\n",
      "           1       0.88      0.83      0.86        72\n",
      "\n",
      "    accuracy                           0.81       103\n",
      "   macro avg       0.77      0.79      0.78       103\n",
      "weighted avg       0.81      0.81      0.81       103\n",
      "\n"
     ]
    }
   ],
   "source": [
    "#confusion_matrix\n",
    "confusion_matrix(y_test, y_pred_list)\n",
    "print(classification_report(y_test, y_pred_list))"
   ]
  },
  {
   "cell_type": "code",
   "execution_count": 16,
   "id": "31c66e12",
   "metadata": {
    "ExecuteTime": {
     "end_time": "2022-02-14T12:24:14.650886Z",
     "start_time": "2022-02-14T12:24:14.576053Z"
    }
   },
   "outputs": [
    {
     "data": {
      "image/png": "[encoded data removed]",
      "text/plain": [
       "<Figure size 504x360 with 2 Axes>"
      ]
     },
     "metadata": {
      "needs_background": "light"
     },
     "output_type": "display_data"
    }
   ],
   "source": [
    "\n",
    "confusion_matrix_df = pd.DataFrame(confusion_matrix(y_test, y_pred_list))\n",
    "\n",
    "fig, ax = plt.subplots(figsize=(7,5))         \n",
    "sns.heatmap(confusion_matrix_df, annot=True, ax=ax)\n",
    "plt.show()"
   ]
  },
  {
   "cell_type": "code",
   "execution_count": null,
   "id": "22c59952",
   "metadata": {},
   "outputs": [],
   "source": []
  }
 ],
 "metadata": {
  "kernelspec": {
   "display_name": "Python 3 (ipykernel)",
   "language": "python",
   "name": "python3"
  },
  "language_info": {
   "codemirror_mode": {
    "name": "ipython",
    "version": 3
   },
   "file_extension": ".py",
   "mimetype": "text/x-python",
   "name": "python",
   "nbconvert_exporter": "python",
   "pygments_lexer": "ipython3",
   "version": "3.8.12"
  }
 },
 "nbformat": 4,
 "nbformat_minor": 5
}
