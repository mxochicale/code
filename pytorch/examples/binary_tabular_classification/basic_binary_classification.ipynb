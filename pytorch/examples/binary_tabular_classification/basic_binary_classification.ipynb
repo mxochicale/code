{
 "cells": [
  {
   "cell_type": "code",
   "execution_count": 1,
   "id": "4d1bdc2d",
   "metadata": {
    "ExecuteTime": {
     "end_time": "2022-02-14T11:36:11.449650Z",
     "start_time": "2022-02-14T11:36:11.172191Z"
    }
   },
   "outputs": [],
   "source": [
    "import torch\n",
    "import torch.nn as nn\n",
    "from torch.utils.data import Dataset, DataLoader, SubsetRandomSampler\n",
    "\n",
    "# https://towardsdatascience.com/pytorch-vision-binary-image-classification-d9a227705cf9 "
   ]
  },
  {
   "cell_type": "code",
   "execution_count": 2,
   "id": "a07fa9f5",
   "metadata": {
    "ExecuteTime": {
     "end_time": "2022-02-14T11:36:11.473956Z",
     "start_time": "2022-02-14T11:36:11.450602Z"
    }
   },
   "outputs": [
    {
     "name": "stdout",
     "output_type": "stream",
     "text": [
      "Y Pred: \n",
      " tensor([[1.2000, 2.3000, 3.4000],\n",
      "        [7.8000, 8.9000, 9.1000]], requires_grad=True)\n",
      "\n",
      "Y Pred shape:  torch.Size([2, 3]) \n",
      "\n",
      "==================================================\n",
      "\n",
      "Y Train: \n",
      " tensor([[1, 0, 1],\n",
      "        [0, 0, 1]])\n",
      "\n",
      "Y Train shape:  torch.Size([2, 3])\n"
     ]
    }
   ],
   "source": [
    "############################\n",
    "### Binary Classification\n",
    "# y_train has two classes - 0 and 1. \n",
    "# We use this BCE loss function in the situation when the final output \n",
    "# from the network is a single value (final dense layer is of size 1) that lies between 0 and 1.\n",
    "\n",
    "\n",
    "y_pred = torch.tensor([[1.2, 2.3, 3.4], [7.8, 8.9, 9.1]], requires_grad = True)\n",
    "print(\"Y Pred: \\n\", y_pred)\n",
    "print(\"\\nY Pred shape: \", y_pred.shape, \"\\n\")\n",
    "print(\"=\" * 50)\n",
    "y_train = torch.tensor([[1, 0, 1], [0, 0, 1]])\n",
    "print(\"\\nY Train: \\n\", y_train)\n",
    "print(\"\\nY Train shape: \", y_train.shape)\n",
    "\n"
   ]
  },
  {
   "cell_type": "code",
   "execution_count": 3,
   "id": "58f1742f",
   "metadata": {
    "ExecuteTime": {
     "end_time": "2022-02-14T11:36:11.488000Z",
     "start_time": "2022-02-14T11:36:11.474674Z"
    }
   },
   "outputs": [
    {
     "name": "stdout",
     "output_type": "stream",
     "text": [
      "Y Pred: \n",
      " tensor([[1.2000, 2.3000, 3.4000],\n",
      "        [7.8000, 8.9000, 9.1000]], requires_grad=True)\n",
      "\n",
      "Y Pred Sigmoid: \n",
      " tensor([[0.7685, 0.9089, 0.9677],\n",
      "        [0.9996, 0.9999, 0.9999]], grad_fn=<SigmoidBackward>)\n",
      "\n",
      "Y Train: \n",
      " tensor([[1., 0., 1.],\n",
      "        [0., 0., 1.]])\n",
      "\n",
      "BCE Loss\n",
      " tensor(3.2321, grad_fn=<BinaryCrossEntropyBackward>)\n"
     ]
    }
   ],
   "source": [
    "\n",
    "#Binary Cross Entropy Loss — torch.nn.BCELoss()\n",
    "bce_loss = nn.BCELoss()\n",
    "y_pred_sigmoid = torch.sigmoid(y_pred)\n",
    "print(\"Y Pred: \\n\", y_pred)\n",
    "print(\"\\nY Pred Sigmoid: \\n\", y_pred_sigmoid)\n",
    "print(\"\\nY Train: \\n\", y_train.float())\n",
    "output = bce_loss(y_pred_sigmoid, y_train.float())\n",
    "print(\"\\nBCE Loss\\n\", output)\n",
    "output.backward()\n"
   ]
  },
  {
   "cell_type": "code",
   "execution_count": 4,
   "id": "65c6ba1e",
   "metadata": {
    "ExecuteTime": {
     "end_time": "2022-02-14T11:36:11.492372Z",
     "start_time": "2022-02-14T11:36:11.488907Z"
    }
   },
   "outputs": [
    {
     "name": "stdout",
     "output_type": "stream",
     "text": [
      "Y Pred: \n",
      " tensor([[1.2000, 2.3000, 3.4000],\n",
      "        [7.8000, 8.9000, 9.1000]], requires_grad=True)\n",
      "\n",
      "Y Train: \n",
      " tensor([[1., 0., 1.],\n",
      "        [0., 0., 1.]])\n",
      "\n",
      "BCE Loss\n",
      " tensor(3.2321, grad_fn=<BinaryCrossEntropyWithLogitsBackward>)\n"
     ]
    }
   ],
   "source": [
    "#############################\n",
    "# Binary Cross Entropy with Logits Loss — torch.nn.BCEWithLogitsLoss()\n",
    "# The input and output have to be the same size and have the dtype float. \n",
    "# This class combines Sigmoid and BCELoss into a single class. \n",
    "# This version is numerically more stable than using Sigmoid and BCELoss individually.\n",
    "\n",
    "bce_logits_loss = nn.BCEWithLogitsLoss()\n",
    "print(\"Y Pred: \\n\", y_pred)\n",
    "print(\"\\nY Train: \\n\", y_train.float())\n",
    "output = bce_logits_loss(y_pred, y_train.float())\n",
    "print(\"\\nBCE Loss\\n\", output)\n",
    "output.backward()\n"
   ]
  },
  {
   "cell_type": "code",
   "execution_count": 5,
   "id": "dbfa9a1b",
   "metadata": {
    "ExecuteTime": {
     "end_time": "2022-02-14T11:36:11.540175Z",
     "start_time": "2022-02-14T11:36:11.493224Z"
    }
   },
   "outputs": [
    {
     "name": "stdout",
     "output_type": "stream",
     "text": [
      "Y Pred: \n",
      " tensor([[1.2000, 2.3000, 3.4000, 1.0000],\n",
      "        [4.5000, 5.6000, 6.7000, 1.0000],\n",
      "        [7.8000, 8.9000, 9.1000, 1.0000],\n",
      "        [7.8000, 8.9000, 9.1000, 1.0000]], requires_grad=True)\n",
      "\n",
      "Y Pred shape:  torch.Size([4, 4]) \n",
      "\n",
      "==================================================\n",
      "\n",
      "Y Train: \n",
      " tensor([0, 1, 2, 3])\n",
      "\n",
      "Y Train shape:  torch.Size([4])\n"
     ]
    }
   ],
   "source": [
    "################################\n",
    "################################\n",
    "################################\n",
    "################################\n",
    "## Multiclass Classification\n",
    "# Let’s define the actual and predicted output tensors in order to calculate the loss.\n",
    "# y_train has 4 classes 0, 1, 2, and 3.\n",
    "\n",
    "y_pred = torch.tensor([[1.2, 2.3, 3.4, 1.0], [4.5, 5.6, 6.7, 1.0], [7.8, 8.9, 9.1, 1.0], [7.8, 8.9, 9.1, 1.0]], requires_grad = True)\n",
    "print(\"Y Pred: \\n\", y_pred)\n",
    "print(\"\\nY Pred shape: \", y_pred.shape, \"\\n\")\n",
    "print(\"=\" * 50)\n",
    "y_train = torch.tensor([0, 1, 2, 3])\n",
    "print(\"\\nY Train: \\n\", y_train)\n",
    "print(\"\\nY Train shape: \", y_train.shape)\n"
   ]
  },
  {
   "cell_type": "code",
   "execution_count": 6,
   "id": "590487f1",
   "metadata": {
    "ExecuteTime": {
     "end_time": "2022-02-14T11:36:11.543734Z",
     "start_time": "2022-02-14T11:36:11.540957Z"
    }
   },
   "outputs": [
    {
     "name": "stdout",
     "output_type": "stream",
     "text": [
      "Y Pred: \n",
      " tensor([[1.2000, 2.3000, 3.4000, 1.0000],\n",
      "        [4.5000, 5.6000, 6.7000, 1.0000],\n",
      "        [7.8000, 8.9000, 9.1000, 1.0000],\n",
      "        [7.8000, 8.9000, 9.1000, 1.0000]], requires_grad=True)\n",
      "\n",
      "Y Train: \n",
      " tensor([0, 1, 2, 3])\n"
     ]
    }
   ],
   "source": [
    "# # CrossEntropyLoss — torch.nn.CrossEntropyLoss()\n",
    "# # This class combines LogSoftmax and NLLLoss into a single class.\n",
    "\n",
    "ce_loss = nn.CrossEntropyLoss()\n",
    "print(\"Y Pred: \\n\", y_pred)\n",
    "print(\"\\nY Train: \\n\", y_train)\n",
    "output = ce_loss(y_pred, y_train)\n",
    "# print(\"\\nNLL Loss\\n\", output)\n",
    "# output.backward()"
   ]
  },
  {
   "cell_type": "code",
   "execution_count": null,
   "id": "7bc693b9",
   "metadata": {},
   "outputs": [],
   "source": []
  },
  {
   "cell_type": "code",
   "execution_count": null,
   "id": "538c1628",
   "metadata": {},
   "outputs": [],
   "source": []
  },
  {
   "cell_type": "code",
   "execution_count": null,
   "id": "b1149968",
   "metadata": {},
   "outputs": [],
   "source": []
  }
 ],
 "metadata": {
  "kernelspec": {
   "display_name": "Python 3 (ipykernel)",
   "language": "python",
   "name": "python3"
  },
  "language_info": {
   "codemirror_mode": {
    "name": "ipython",
    "version": 3
   },
   "file_extension": ".py",
   "mimetype": "text/x-python",
   "name": "python",
   "nbconvert_exporter": "python",
   "pygments_lexer": "ipython3",
   "version": "3.8.12"
  }
 },
 "nbformat": 4,
 "nbformat_minor": 5
}
