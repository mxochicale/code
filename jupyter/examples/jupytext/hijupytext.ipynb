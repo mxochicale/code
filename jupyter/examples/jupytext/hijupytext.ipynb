{
 "cells": [
  {
   "cell_type": "markdown",
   "id": "2b5154d8",
   "metadata": {},
   "source": [
    "# Simple Equation\n",
    "Let us now implement the following equation\n",
    "$$y=x^2$$\n",
    "where $x=36$"
   ]
  },
  {
   "cell_type": "code",
   "execution_count": 2,
   "id": "ee531dbd",
   "metadata": {},
   "outputs": [
    {
     "name": "stdout",
     "output_type": "stream",
     "text": [
      "1296\n"
     ]
    }
   ],
   "source": [
    "x=36\n",
    "y=x*x\n",
    "print(y)"
   ]
  },
  {
   "cell_type": "code",
   "execution_count": 3,
   "id": "c2a23fdd",
   "metadata": {},
   "outputs": [],
   "source": [
    "#empty cell"
   ]
  },
  {
   "cell_type": "markdown",
   "id": "078a415b",
   "metadata": {},
   "source": [
    "## Nested loop section"
   ]
  },
  {
   "cell_type": "code",
   "execution_count": 10,
   "id": "ad3ab576",
   "metadata": {},
   "outputs": [
    {
     "name": "stdout",
     "output_type": "stream",
     "text": [
      "  numbers[i]: [11, 22, 33]\n",
      "     index: 11; count 0\n",
      "     index: 22; count 1\n",
      "     index: 33; count 2\n",
      "  numbers[i]: [4, 5, 6]\n",
      "     index: 4; count 3\n",
      "     index: 5; count 4\n",
      "     index: 6; count 5\n",
      "  numbers[i]: [7, 8, 9]\n",
      "     index: 7; count 6\n",
      "     index: 8; count 7\n",
      "     index: 9; count 8\n"
     ]
    }
   ],
   "source": [
    "# https://pynative.com/python-nested-loops/\n",
    "numbers = [[11, 22, 33], \n",
    "           [4, 5, 6], \n",
    "           [7, 8, 9]]\n",
    "\n",
    "cnt = 0\n",
    "for i in numbers:\n",
    "    print(f'  numbers[i]: {i}')\n",
    "    for j in i:\n",
    "        print(f'     index: {j}; count {cnt}')\n",
    "        cnt = cnt + 1"
   ]
  },
  {
   "cell_type": "code",
   "execution_count": null,
   "id": "e414d878",
   "metadata": {},
   "outputs": [],
   "source": []
  },
  {
   "cell_type": "code",
   "execution_count": null,
   "id": "d01dda92",
   "metadata": {},
   "outputs": [],
   "source": []
  }
 ],
 "metadata": {
  "jupytext": {
   "formats": "ipynb,py:light"
  },
  "kernelspec": {
   "display_name": "Python 3 (ipykernel)",
   "language": "python",
   "name": "python3"
  },
  "language_info": {
   "codemirror_mode": {
    "name": "ipython",
    "version": 3
   },
   "file_extension": ".py",
   "mimetype": "text/x-python",
   "name": "python",
   "nbconvert_exporter": "python",
   "pygments_lexer": "ipython3",
   "version": "3.11.0"
  }
 },
 "nbformat": 4,
 "nbformat_minor": 5
}
