{
 "cells": [
  {
   "cell_type": "code",
   "execution_count": 1,
   "id": "parental-things",
   "metadata": {},
   "outputs": [],
   "source": [
    "import pandas as pd\n",
    "import numpy as np\n",
    "import random\n",
    "import os, glob"
   ]
  },
  {
   "cell_type": "code",
   "execution_count": 2,
   "id": "immediate-meditation",
   "metadata": {},
   "outputs": [],
   "source": [
    "data_dir = '../data/'"
   ]
  },
  {
   "cell_type": "markdown",
   "id": "purple-poetry",
   "metadata": {},
   "source": [
    "# Extract information from filenames and save as table"
   ]
  },
  {
   "cell_type": "code",
   "execution_count": 3,
   "id": "fuzzy-knight",
   "metadata": {},
   "outputs": [
    {
     "data": {
      "text/plain": [
       "['../data/data_states/massratio10/1032.txt',\n",
       " '../data/data_states/massratio10/54.txt',\n",
       " '../data/data_states/massratio10/856.txt',\n",
       " '../data/data_states/massratio10/377.txt',\n",
       " '../data/data_states/massratio10/64.txt']"
      ]
     },
     "execution_count": 3,
     "metadata": {},
     "output_type": "execute_result"
    }
   ],
   "source": [
    "# read the files\n",
    "files = glob.glob(data_dir + '/**/*.txt', recursive=True)\n",
    "files[:5]"
   ]
  },
  {
   "cell_type": "code",
   "execution_count": 4,
   "id": "spoken-tumor",
   "metadata": {},
   "outputs": [
    {
     "data": {
      "text/plain": [
       "['1', '1', '1', '1', '1']"
      ]
     },
     "execution_count": 4,
     "metadata": {},
     "output_type": "execute_result"
    }
   ],
   "source": [
    "# get mass ratios (divide by 10 to get true ratio)\n",
    "massratios=[file.split('/')[-2][9:] for file in files]\n",
    "massratios=[mr if mr=='inf' else mr[:-1] for mr in massratios]\n",
    "massratios[:5]"
   ]
  },
  {
   "cell_type": "code",
   "execution_count": 5,
   "id": "fuzzy-telling",
   "metadata": {},
   "outputs": [
    {
     "data": {
      "text/plain": [
       "[1032, 54, 856, 377, 64]"
      ]
     },
     "execution_count": 5,
     "metadata": {},
     "output_type": "execute_result"
    }
   ],
   "source": [
    "# get state numbers\n",
    "state_numbers = [int(file.split('/')[-1].split('.')[0]) for file in files]\n",
    "state_numbers[:5]"
   ]
  },
  {
   "cell_type": "code",
   "execution_count": 6,
   "id": "funded-genealogy",
   "metadata": {},
   "outputs": [
    {
     "data": {
      "text/plain": [
       "[False, False, False, False, False]"
      ]
     },
     "execution_count": 6,
     "metadata": {},
     "output_type": "execute_result"
    }
   ],
   "source": [
    "# assign an integrability label\n",
    "def check_integrability(mass_ratio):\n",
    "    if mass_ratio=='10' or mass_ratio == 'inf':\n",
    "        return True\n",
    "    else: \n",
    "        return False\n",
    "is_integrable = [check_integrability(rat) for rat in massratios]\n",
    "is_integrable[:5]"
   ]
  },
  {
   "cell_type": "code",
   "execution_count": 7,
   "id": "together-scoop",
   "metadata": {},
   "outputs": [],
   "source": [
    "# coerce to data frame\n",
    "df = pd.DataFrame({'path': files,\n",
    "                   'mass_ratio': massratios,\n",
    "                   'state_number': state_numbers,\n",
    "                   'is_integrable': is_integrable}).\\\n",
    "sort_values(['mass_ratio', 'state_number']).\\\n",
    "reset_index(drop=True)"
   ]
  },
  {
   "cell_type": "code",
   "execution_count": 8,
   "id": "distant-federation",
   "metadata": {},
   "outputs": [
    {
     "data": {
      "text/html": [
       "<div>\n",
       "<style scoped>\n",
       "    .dataframe tbody tr th:only-of-type {\n",
       "        vertical-align: middle;\n",
       "    }\n",
       "\n",
       "    .dataframe tbody tr th {\n",
       "        vertical-align: top;\n",
       "    }\n",
       "\n",
       "    .dataframe thead th {\n",
       "        text-align: right;\n",
       "    }\n",
       "</style>\n",
       "<table border=\"1\" class=\"dataframe\">\n",
       "  <thead>\n",
       "    <tr style=\"text-align: right;\">\n",
       "      <th></th>\n",
       "      <th>path</th>\n",
       "      <th>mass_ratio</th>\n",
       "      <th>state_number</th>\n",
       "      <th>is_integrable</th>\n",
       "    </tr>\n",
       "  </thead>\n",
       "  <tbody>\n",
       "    <tr>\n",
       "      <th>0</th>\n",
       "      <td>../data/data_states/massratio10/0.txt</td>\n",
       "      <td>1</td>\n",
       "      <td>0</td>\n",
       "      <td>False</td>\n",
       "    </tr>\n",
       "    <tr>\n",
       "      <th>1</th>\n",
       "      <td>../data/data_states/massratio10/1.txt</td>\n",
       "      <td>1</td>\n",
       "      <td>1</td>\n",
       "      <td>False</td>\n",
       "    </tr>\n",
       "    <tr>\n",
       "      <th>2</th>\n",
       "      <td>../data/data_states/massratio10/2.txt</td>\n",
       "      <td>1</td>\n",
       "      <td>2</td>\n",
       "      <td>False</td>\n",
       "    </tr>\n",
       "    <tr>\n",
       "      <th>3</th>\n",
       "      <td>../data/data_states/massratio10/3.txt</td>\n",
       "      <td>1</td>\n",
       "      <td>3</td>\n",
       "      <td>False</td>\n",
       "    </tr>\n",
       "    <tr>\n",
       "      <th>4</th>\n",
       "      <td>../data/data_states/massratio10/4.txt</td>\n",
       "      <td>1</td>\n",
       "      <td>4</td>\n",
       "      <td>False</td>\n",
       "    </tr>\n",
       "    <tr>\n",
       "      <th>...</th>\n",
       "      <td>...</td>\n",
       "      <td>...</td>\n",
       "      <td>...</td>\n",
       "      <td>...</td>\n",
       "    </tr>\n",
       "    <tr>\n",
       "      <th>4195</th>\n",
       "      <td>../data/data_states/massratioinf/1045.txt</td>\n",
       "      <td>inf</td>\n",
       "      <td>1045</td>\n",
       "      <td>True</td>\n",
       "    </tr>\n",
       "    <tr>\n",
       "      <th>4196</th>\n",
       "      <td>../data/data_states/massratioinf/1046.txt</td>\n",
       "      <td>inf</td>\n",
       "      <td>1046</td>\n",
       "      <td>True</td>\n",
       "    </tr>\n",
       "    <tr>\n",
       "      <th>4197</th>\n",
       "      <td>../data/data_states/massratioinf/1047.txt</td>\n",
       "      <td>inf</td>\n",
       "      <td>1047</td>\n",
       "      <td>True</td>\n",
       "    </tr>\n",
       "    <tr>\n",
       "      <th>4198</th>\n",
       "      <td>../data/data_states/massratioinf/1048.txt</td>\n",
       "      <td>inf</td>\n",
       "      <td>1048</td>\n",
       "      <td>True</td>\n",
       "    </tr>\n",
       "    <tr>\n",
       "      <th>4199</th>\n",
       "      <td>../data/data_states/massratioinf/1049.txt</td>\n",
       "      <td>inf</td>\n",
       "      <td>1049</td>\n",
       "      <td>True</td>\n",
       "    </tr>\n",
       "  </tbody>\n",
       "</table>\n",
       "<p>4200 rows × 4 columns</p>\n",
       "</div>"
      ],
      "text/plain": [
       "                                           path mass_ratio  state_number  \\\n",
       "0         ../data/data_states/massratio10/0.txt          1             0   \n",
       "1         ../data/data_states/massratio10/1.txt          1             1   \n",
       "2         ../data/data_states/massratio10/2.txt          1             2   \n",
       "3         ../data/data_states/massratio10/3.txt          1             3   \n",
       "4         ../data/data_states/massratio10/4.txt          1             4   \n",
       "...                                         ...        ...           ...   \n",
       "4195  ../data/data_states/massratioinf/1045.txt        inf          1045   \n",
       "4196  ../data/data_states/massratioinf/1046.txt        inf          1046   \n",
       "4197  ../data/data_states/massratioinf/1047.txt        inf          1047   \n",
       "4198  ../data/data_states/massratioinf/1048.txt        inf          1048   \n",
       "4199  ../data/data_states/massratioinf/1049.txt        inf          1049   \n",
       "\n",
       "      is_integrable  \n",
       "0             False  \n",
       "1             False  \n",
       "2             False  \n",
       "3             False  \n",
       "4             False  \n",
       "...             ...  \n",
       "4195           True  \n",
       "4196           True  \n",
       "4197           True  \n",
       "4198           True  \n",
       "4199           True  \n",
       "\n",
       "[4200 rows x 4 columns]"
      ]
     },
     "execution_count": 8,
     "metadata": {},
     "output_type": "execute_result"
    }
   ],
   "source": [
    "df"
   ]
  },
  {
   "cell_type": "markdown",
   "id": "genuine-wellington",
   "metadata": {},
   "source": [
    "# Get train/test split"
   ]
  },
  {
   "cell_type": "code",
   "execution_count": 9,
   "id": "invisible-oxide",
   "metadata": {},
   "outputs": [
    {
     "name": "stdout",
     "output_type": "stream",
     "text": [
      "Number of test samples: 630\n"
     ]
    }
   ],
   "source": [
    "test_ratio=0.15\n",
    "test_num = int(test_ratio*df.shape[0])\n",
    "print(\"Number of test samples:\", test_num)\n",
    "test_ix = random.sample(range(df.shape[0]), test_num)"
   ]
  },
  {
   "cell_type": "code",
   "execution_count": 10,
   "id": "leading-mobile",
   "metadata": {},
   "outputs": [],
   "source": [
    "# set the split variable\n",
    "df[\"is_test\"] = False\n",
    "df.iloc[test_ix, -1]=True"
   ]
  },
  {
   "cell_type": "code",
   "execution_count": 11,
   "id": "automatic-whole",
   "metadata": {},
   "outputs": [
    {
     "data": {
      "text/html": [
       "<div>\n",
       "<style scoped>\n",
       "    .dataframe tbody tr th:only-of-type {\n",
       "        vertical-align: middle;\n",
       "    }\n",
       "\n",
       "    .dataframe tbody tr th {\n",
       "        vertical-align: top;\n",
       "    }\n",
       "\n",
       "    .dataframe thead th {\n",
       "        text-align: right;\n",
       "    }\n",
       "</style>\n",
       "<table border=\"1\" class=\"dataframe\">\n",
       "  <thead>\n",
       "    <tr style=\"text-align: right;\">\n",
       "      <th></th>\n",
       "      <th>path</th>\n",
       "      <th>mass_ratio</th>\n",
       "      <th>state_number</th>\n",
       "      <th>is_integrable</th>\n",
       "      <th>is_test</th>\n",
       "    </tr>\n",
       "  </thead>\n",
       "  <tbody>\n",
       "    <tr>\n",
       "      <th>1467</th>\n",
       "      <td>../data/data_states/massratio20/417.txt</td>\n",
       "      <td>2</td>\n",
       "      <td>417</td>\n",
       "      <td>False</td>\n",
       "      <td>True</td>\n",
       "    </tr>\n",
       "    <tr>\n",
       "      <th>2490</th>\n",
       "      <td>../data/data_states/massratio50/390.txt</td>\n",
       "      <td>5</td>\n",
       "      <td>390</td>\n",
       "      <td>False</td>\n",
       "      <td>False</td>\n",
       "    </tr>\n",
       "    <tr>\n",
       "      <th>43</th>\n",
       "      <td>../data/data_states/massratio10/43.txt</td>\n",
       "      <td>1</td>\n",
       "      <td>43</td>\n",
       "      <td>False</td>\n",
       "      <td>False</td>\n",
       "    </tr>\n",
       "    <tr>\n",
       "      <th>3665</th>\n",
       "      <td>../data/data_states/massratioinf/515.txt</td>\n",
       "      <td>inf</td>\n",
       "      <td>515</td>\n",
       "      <td>True</td>\n",
       "      <td>False</td>\n",
       "    </tr>\n",
       "    <tr>\n",
       "      <th>2785</th>\n",
       "      <td>../data/data_states/massratio50/685.txt</td>\n",
       "      <td>5</td>\n",
       "      <td>685</td>\n",
       "      <td>False</td>\n",
       "      <td>False</td>\n",
       "    </tr>\n",
       "    <tr>\n",
       "      <th>100</th>\n",
       "      <td>../data/data_states/massratio10/100.txt</td>\n",
       "      <td>1</td>\n",
       "      <td>100</td>\n",
       "      <td>False</td>\n",
       "      <td>False</td>\n",
       "    </tr>\n",
       "    <tr>\n",
       "      <th>193</th>\n",
       "      <td>../data/data_states/massratio10/193.txt</td>\n",
       "      <td>1</td>\n",
       "      <td>193</td>\n",
       "      <td>False</td>\n",
       "      <td>False</td>\n",
       "    </tr>\n",
       "    <tr>\n",
       "      <th>559</th>\n",
       "      <td>../data/data_states/massratio10/559.txt</td>\n",
       "      <td>1</td>\n",
       "      <td>559</td>\n",
       "      <td>False</td>\n",
       "      <td>True</td>\n",
       "    </tr>\n",
       "    <tr>\n",
       "      <th>2434</th>\n",
       "      <td>../data/data_states/massratio50/334.txt</td>\n",
       "      <td>5</td>\n",
       "      <td>334</td>\n",
       "      <td>False</td>\n",
       "      <td>False</td>\n",
       "    </tr>\n",
       "    <tr>\n",
       "      <th>2792</th>\n",
       "      <td>../data/data_states/massratio50/692.txt</td>\n",
       "      <td>5</td>\n",
       "      <td>692</td>\n",
       "      <td>False</td>\n",
       "      <td>False</td>\n",
       "    </tr>\n",
       "  </tbody>\n",
       "</table>\n",
       "</div>"
      ],
      "text/plain": [
       "                                          path mass_ratio  state_number  \\\n",
       "1467   ../data/data_states/massratio20/417.txt          2           417   \n",
       "2490   ../data/data_states/massratio50/390.txt          5           390   \n",
       "43      ../data/data_states/massratio10/43.txt          1            43   \n",
       "3665  ../data/data_states/massratioinf/515.txt        inf           515   \n",
       "2785   ../data/data_states/massratio50/685.txt          5           685   \n",
       "100    ../data/data_states/massratio10/100.txt          1           100   \n",
       "193    ../data/data_states/massratio10/193.txt          1           193   \n",
       "559    ../data/data_states/massratio10/559.txt          1           559   \n",
       "2434   ../data/data_states/massratio50/334.txt          5           334   \n",
       "2792   ../data/data_states/massratio50/692.txt          5           692   \n",
       "\n",
       "      is_integrable  is_test  \n",
       "1467          False     True  \n",
       "2490          False    False  \n",
       "43            False    False  \n",
       "3665           True    False  \n",
       "2785          False    False  \n",
       "100           False    False  \n",
       "193           False    False  \n",
       "559           False     True  \n",
       "2434          False    False  \n",
       "2792          False    False  "
      ]
     },
     "execution_count": 11,
     "metadata": {},
     "output_type": "execute_result"
    }
   ],
   "source": [
    "df.sample(10)"
   ]
  },
  {
   "cell_type": "code",
   "execution_count": 12,
   "id": "proved-commodity",
   "metadata": {},
   "outputs": [
    {
     "data": {
      "text/plain": [
       "is_test\n",
       "False    3570\n",
       "True      630\n",
       "dtype: int64"
      ]
     },
     "execution_count": 12,
     "metadata": {},
     "output_type": "execute_result"
    }
   ],
   "source": [
    "df.value_counts('is_test')"
   ]
  },
  {
   "cell_type": "code",
   "execution_count": 13,
   "id": "baking-capability",
   "metadata": {},
   "outputs": [],
   "source": [
    "df.to_csv(data_dir+'states.csv')"
   ]
  },
  {
   "cell_type": "markdown",
   "id": "opened-alcohol",
   "metadata": {},
   "source": [
    "# Load the images"
   ]
  },
  {
   "cell_type": "code",
   "execution_count": 14,
   "id": "involved-classic",
   "metadata": {},
   "outputs": [],
   "source": [
    "# this function \n",
    "def load_image_array(path):\n",
    "    a = np.loadtxt(path, delimiter=' ')\n",
    "    return a"
   ]
  },
  {
   "cell_type": "code",
   "execution_count": 15,
   "id": "strong-synthesis",
   "metadata": {},
   "outputs": [],
   "source": [
    "images = df.path.apply(lambda x: np.loadtxt(x, delimiter=' '))"
   ]
  },
  {
   "cell_type": "code",
   "execution_count": 16,
   "id": "important-founder",
   "metadata": {},
   "outputs": [],
   "source": [
    "df['image'] = images"
   ]
  },
  {
   "cell_type": "code",
   "execution_count": 17,
   "id": "metallic-brooklyn",
   "metadata": {},
   "outputs": [
    {
     "data": {
      "text/html": [
       "<div>\n",
       "<style scoped>\n",
       "    .dataframe tbody tr th:only-of-type {\n",
       "        vertical-align: middle;\n",
       "    }\n",
       "\n",
       "    .dataframe tbody tr th {\n",
       "        vertical-align: top;\n",
       "    }\n",
       "\n",
       "    .dataframe thead th {\n",
       "        text-align: right;\n",
       "    }\n",
       "</style>\n",
       "<table border=\"1\" class=\"dataframe\">\n",
       "  <thead>\n",
       "    <tr style=\"text-align: right;\">\n",
       "      <th></th>\n",
       "      <th>path</th>\n",
       "      <th>mass_ratio</th>\n",
       "      <th>state_number</th>\n",
       "      <th>is_integrable</th>\n",
       "      <th>is_test</th>\n",
       "      <th>image</th>\n",
       "    </tr>\n",
       "  </thead>\n",
       "  <tbody>\n",
       "    <tr>\n",
       "      <th>0</th>\n",
       "      <td>../data/data_states/massratio10/0.txt</td>\n",
       "      <td>1</td>\n",
       "      <td>0</td>\n",
       "      <td>False</td>\n",
       "      <td>False</td>\n",
       "      <td>[[0.0, 0.0, 0.0, 0.0, 0.0, 0.0, 0.0, 0.0, 0.0,...</td>\n",
       "    </tr>\n",
       "    <tr>\n",
       "      <th>1</th>\n",
       "      <td>../data/data_states/massratio10/1.txt</td>\n",
       "      <td>1</td>\n",
       "      <td>1</td>\n",
       "      <td>False</td>\n",
       "      <td>False</td>\n",
       "      <td>[[0.0, 0.0, 0.0, 0.0, 0.0, 0.0, 0.0, 0.0, 0.0,...</td>\n",
       "    </tr>\n",
       "    <tr>\n",
       "      <th>2</th>\n",
       "      <td>../data/data_states/massratio10/2.txt</td>\n",
       "      <td>1</td>\n",
       "      <td>2</td>\n",
       "      <td>False</td>\n",
       "      <td>True</td>\n",
       "      <td>[[0.0, 0.0, 0.0, 0.0, 0.0, 0.0, 0.0, 0.0, 0.0,...</td>\n",
       "    </tr>\n",
       "    <tr>\n",
       "      <th>3</th>\n",
       "      <td>../data/data_states/massratio10/3.txt</td>\n",
       "      <td>1</td>\n",
       "      <td>3</td>\n",
       "      <td>False</td>\n",
       "      <td>False</td>\n",
       "      <td>[[0.0, 0.0, 0.0, 0.0, 0.0, 0.0, 0.0, 0.0, 0.0,...</td>\n",
       "    </tr>\n",
       "    <tr>\n",
       "      <th>4</th>\n",
       "      <td>../data/data_states/massratio10/4.txt</td>\n",
       "      <td>1</td>\n",
       "      <td>4</td>\n",
       "      <td>False</td>\n",
       "      <td>True</td>\n",
       "      <td>[[0.0, 0.0, 0.0, 0.0, 0.0, 0.0, 0.0, 0.0, 0.0,...</td>\n",
       "    </tr>\n",
       "  </tbody>\n",
       "</table>\n",
       "</div>"
      ],
      "text/plain": [
       "                                    path mass_ratio  state_number  \\\n",
       "0  ../data/data_states/massratio10/0.txt          1             0   \n",
       "1  ../data/data_states/massratio10/1.txt          1             1   \n",
       "2  ../data/data_states/massratio10/2.txt          1             2   \n",
       "3  ../data/data_states/massratio10/3.txt          1             3   \n",
       "4  ../data/data_states/massratio10/4.txt          1             4   \n",
       "\n",
       "   is_integrable  is_test                                              image  \n",
       "0          False    False  [[0.0, 0.0, 0.0, 0.0, 0.0, 0.0, 0.0, 0.0, 0.0,...  \n",
       "1          False    False  [[0.0, 0.0, 0.0, 0.0, 0.0, 0.0, 0.0, 0.0, 0.0,...  \n",
       "2          False     True  [[0.0, 0.0, 0.0, 0.0, 0.0, 0.0, 0.0, 0.0, 0.0,...  \n",
       "3          False    False  [[0.0, 0.0, 0.0, 0.0, 0.0, 0.0, 0.0, 0.0, 0.0,...  \n",
       "4          False     True  [[0.0, 0.0, 0.0, 0.0, 0.0, 0.0, 0.0, 0.0, 0.0,...  "
      ]
     },
     "execution_count": 17,
     "metadata": {},
     "output_type": "execute_result"
    }
   ],
   "source": [
    "df.head()"
   ]
  },
  {
   "cell_type": "markdown",
   "id": "directed-frontier",
   "metadata": {},
   "source": [
    "# Pickle it"
   ]
  },
  {
   "cell_type": "code",
   "execution_count": 18,
   "id": "thrown-decision",
   "metadata": {},
   "outputs": [],
   "source": [
    "df.to_pickle(data_dir+'states.pkl')"
   ]
  }
 ],
 "metadata": {
  "kernelspec": {
   "display_name": "Python 3",
   "language": "python",
   "name": "python3"
  },
  "language_info": {
   "codemirror_mode": {
    "name": "ipython",
    "version": 3
   },
   "file_extension": ".py",
   "mimetype": "text/x-python",
   "name": "python",
   "nbconvert_exporter": "python",
   "pygments_lexer": "ipython3",
   "version": "3.8.8"
  }
 },
 "nbformat": 4,
 "nbformat_minor": 5
}
