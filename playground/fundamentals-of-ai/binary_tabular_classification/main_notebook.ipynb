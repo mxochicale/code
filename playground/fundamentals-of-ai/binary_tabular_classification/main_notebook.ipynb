{
 "cells": [
  {
   "cell_type": "code",
   "execution_count": 1,
   "id": "4e058a0f",
   "metadata": {
    "ExecuteTime": {
     "end_time": "2022-02-16T13:44:21.393104Z",
     "start_time": "2022-02-16T13:44:20.408149Z"
    }
   },
   "outputs": [],
   "source": [
    "import numpy as np\n",
    "import pandas as pd\n",
    "import seaborn as sns\n",
    "import matplotlib.pyplot as plt\n",
    "\n",
    "import torch\n",
    "import torch.nn as nn\n",
    "import torch.optim as optim\n",
    "from torch.utils.data import Dataset, DataLoader\n",
    "\n",
    "from sklearn.preprocessing import StandardScaler    \n",
    "from sklearn.model_selection import train_test_split\n",
    "from sklearn.metrics import confusion_matrix, classification_report\n",
    "\n",
    "## Reference\n",
    "# https://towardsdatascience.com/pytorch-tabular-binary-classification-a0368da5bb89  "
   ]
  },
  {
   "cell_type": "code",
   "execution_count": 2,
   "id": "f300278f",
   "metadata": {
    "ExecuteTime": {
     "end_time": "2022-02-16T13:44:21.458294Z",
     "start_time": "2022-02-16T13:44:21.394329Z"
    }
   },
   "outputs": [
    {
     "data": {
      "text/plain": [
       "<AxesSubplot:xlabel='Class_att', ylabel='count'>"
      ]
     },
     "execution_count": 2,
     "metadata": {},
     "output_type": "execute_result"
    },
    {
     "data": {
      "image/png": "[encoded data removed]",
      "text/plain": [
       "<Figure size 432x288 with 1 Axes>"
      ]
     },
     "metadata": {
      "needs_background": "light"
     },
     "output_type": "display_data"
    }
   ],
   "source": [
    "df = pd.read_csv(\"Dataset_spine.csv\")\n",
    "df.head()\n",
    "#310 Observations, 13 Attributes (12 Numeric Predictors, 1 Binary Class Attribute - No Demographics)\n",
    "\n",
    "sns.countplot(x = 'Class_att', data=df)"
   ]
  },
  {
   "cell_type": "code",
   "execution_count": 3,
   "id": "e194dba0",
   "metadata": {
    "ExecuteTime": {
     "end_time": "2022-02-16T13:44:21.462661Z",
     "start_time": "2022-02-16T13:44:21.459087Z"
    }
   },
   "outputs": [],
   "source": [
    "\n",
    "df['Class_att'] = df['Class_att'].astype('category')\n",
    "encode_map = {\n",
    "    'Abnormal': 1,\n",
    "    'Normal': 0\n",
    "}\n",
    "\n",
    "df['Class_att'].replace(encode_map, inplace=True)\n",
    "\n"
   ]
  },
  {
   "cell_type": "code",
   "execution_count": 4,
   "id": "52671e0e",
   "metadata": {
    "ExecuteTime": {
     "end_time": "2022-02-16T13:44:21.465917Z",
     "start_time": "2022-02-16T13:44:21.463608Z"
    }
   },
   "outputs": [],
   "source": [
    "# Create Input and Output Data\n",
    "# The last column is our output. The input is all the columns but the last one. \n",
    "\n",
    "X = df.iloc[:, 0:-2]\n",
    "y = df.iloc[:, -2]\n"
   ]
  },
  {
   "cell_type": "code",
   "execution_count": 5,
   "id": "df4ec63e",
   "metadata": {
    "ExecuteTime": {
     "end_time": "2022-02-16T13:44:21.470262Z",
     "start_time": "2022-02-16T13:44:21.466682Z"
    }
   },
   "outputs": [
    {
     "name": "stdout",
     "output_type": "stream",
     "text": [
      "(207, 12)\n",
      "(103, 12)\n",
      "(207,)\n",
      "(103,)\n"
     ]
    }
   ],
   "source": [
    "# Train Test Split\n",
    "# We now split our data into train and test sets. We’ve selected 33% percent of out data to be in the test set.\n",
    "\n",
    "X_train, X_test, y_train, y_test = train_test_split(X, y, test_size=0.33, random_state=69)\n",
    "\n",
    "print(X_train.shape)\n",
    "print(X_test.shape)\n",
    "\n",
    "print(y_train.shape)\n",
    "print(y_test.shape)\n"
   ]
  },
  {
   "cell_type": "code",
   "execution_count": 6,
   "id": "60f7097f",
   "metadata": {
    "ExecuteTime": {
     "end_time": "2022-02-16T13:44:21.476191Z",
     "start_time": "2022-02-16T13:44:21.470922Z"
    }
   },
   "outputs": [
    {
     "name": "stdout",
     "output_type": "stream",
     "text": [
      "(207, 12)\n",
      "(103, 12)\n"
     ]
    }
   ],
   "source": [
    "# Standardize Input\n",
    "# For neural networks to train properly, we need to standardize the input values. \n",
    "# We standardize features by removing the mean and scaling to unit variance. \n",
    "\n",
    "scaler = StandardScaler()\n",
    "X_train = scaler.fit_transform(X_train)\n",
    "X_test = scaler.transform(X_test)\n",
    "\n",
    "print(X_train.shape)\n",
    "print(X_test.shape)\n"
   ]
  },
  {
   "cell_type": "code",
   "execution_count": 7,
   "id": "b002fe8e",
   "metadata": {
    "ExecuteTime": {
     "end_time": "2022-02-16T13:44:21.478506Z",
     "start_time": "2022-02-16T13:44:21.476886Z"
    }
   },
   "outputs": [],
   "source": [
    "# Model Parameters\n",
    "\n",
    "EPOCHS = 200\n",
    "BATCH_SIZE = 128\n",
    "LEARNING_RATE = 0.001\n"
   ]
  },
  {
   "cell_type": "code",
   "execution_count": 8,
   "id": "369ec3de",
   "metadata": {
    "ExecuteTime": {
     "end_time": "2022-02-16T13:44:21.505206Z",
     "start_time": "2022-02-16T13:44:21.479165Z"
    }
   },
   "outputs": [],
   "source": [
    "# Define Custom Dataloaders\n",
    "\n",
    "## train data\n",
    "class TrainData(Dataset):\n",
    "    def __init__(self, X_data, y_data):\n",
    "        self.X_data = X_data\n",
    "        self.y_data = y_data\n",
    "        \n",
    "    def __getitem__(self, index):\n",
    "        return self.X_data[index], self.y_data[index]\n",
    "        \n",
    "    def __len__ (self):\n",
    "        return len(self.X_data)\n",
    "\n",
    "\n",
    "## test data    \n",
    "class TestData(Dataset):    \n",
    "    def __init__(self, X_data):\n",
    "        self.X_data = X_data\n",
    "        \n",
    "    def __getitem__(self, index):\n",
    "        return self.X_data[index]\n",
    "        \n",
    "    def __len__ (self):\n",
    "        return len(self.X_data)\n",
    "    \n",
    "\n",
    "train_data = TrainData(torch.FloatTensor(X_train), torch.FloatTensor(y_train))    \n",
    "test_data = TestData(torch.FloatTensor(X_test))"
   ]
  },
  {
   "cell_type": "code",
   "execution_count": 9,
   "id": "5d950d5e",
   "metadata": {
    "ExecuteTime": {
     "end_time": "2022-02-16T13:44:21.516525Z",
     "start_time": "2022-02-16T13:44:21.509438Z"
    }
   },
   "outputs": [
    {
     "name": "stdout",
     "output_type": "stream",
     "text": [
      "2\n",
      "103\n"
     ]
    }
   ],
   "source": [
    "train_loader = DataLoader(dataset=train_data, batch_size=BATCH_SIZE, shuffle=True)\n",
    "test_loader = DataLoader(dataset=test_data, batch_size=1)\n",
    "\n",
    "print(train_loader.__len__())\n",
    "print(test_loader.__len__())"
   ]
  },
  {
   "cell_type": "code",
   "execution_count": 10,
   "id": "9c8a43bb",
   "metadata": {
    "ExecuteTime": {
     "end_time": "2022-02-16T13:44:21.524839Z",
     "start_time": "2022-02-16T13:44:21.517995Z"
    }
   },
   "outputs": [
    {
     "name": "stdout",
     "output_type": "stream",
     "text": [
      "cpu\n"
     ]
    },
    {
     "name": "stderr",
     "output_type": "stream",
     "text": [
      "/home/mx19/anaconda3/envs/codeVE/lib/python3.8/site-packages/torch/cuda/__init__.py:52: UserWarning: CUDA initialization: CUDA unknown error - this may be due to an incorrectly set up environment, e.g. changing env variable CUDA_VISIBLE_DEVICES after program start. Setting the available devices to be zero. (Triggered internally at  /tmp/pip-req-build-pma2oi4d/c10/cuda/CUDAFunctions.cpp:115.)\n",
      "  return torch._C._cuda_getDeviceCount() > 0\n"
     ]
    }
   ],
   "source": [
    "class BinaryClassification(nn.Module):\n",
    "    def __init__(self):\n",
    "        super(BinaryClassification, self).__init__()        # Number of input features is 12.\n",
    "        self.layer_1 = nn.Linear(12, 64) \n",
    "        self.layer_2 = nn.Linear(64, 64)\n",
    "        self.layer_out = nn.Linear(64, 1) \n",
    "        \n",
    "        self.relu = nn.ReLU()\n",
    "        self.dropout = nn.Dropout(p=0.1)\n",
    "        self.batchnorm1 = nn.BatchNorm1d(64)\n",
    "        self.batchnorm2 = nn.BatchNorm1d(64)\n",
    "        \n",
    "    def forward(self, inputs):\n",
    "        x = self.relu(self.layer_1(inputs))\n",
    "        x = self.batchnorm1(x)\n",
    "        x = self.relu(self.layer_2(x))\n",
    "        x = self.batchnorm2(x)\n",
    "        x = self.dropout(x)\n",
    "        x = self.layer_out(x)\n",
    "        \n",
    "        return x\n",
    "    \n",
    "device = torch.device(\"cuda:0\" if torch.cuda.is_available() else \"cpu\")\n",
    "print(device)    "
   ]
  },
  {
   "cell_type": "code",
   "execution_count": 11,
   "id": "8f4451c5",
   "metadata": {
    "ExecuteTime": {
     "end_time": "2022-02-16T13:44:21.528800Z",
     "start_time": "2022-02-16T13:44:21.525689Z"
    }
   },
   "outputs": [
    {
     "name": "stdout",
     "output_type": "stream",
     "text": [
      "BinaryClassification(\n",
      "  (layer_1): Linear(in_features=12, out_features=64, bias=True)\n",
      "  (layer_2): Linear(in_features=64, out_features=64, bias=True)\n",
      "  (layer_out): Linear(in_features=64, out_features=1, bias=True)\n",
      "  (relu): ReLU()\n",
      "  (dropout): Dropout(p=0.1, inplace=False)\n",
      "  (batchnorm1): BatchNorm1d(64, eps=1e-05, momentum=0.1, affine=True, track_running_stats=True)\n",
      "  (batchnorm2): BatchNorm1d(64, eps=1e-05, momentum=0.1, affine=True, track_running_stats=True)\n",
      ")\n"
     ]
    }
   ],
   "source": [
    "model = BinaryClassification()\n",
    "model.to(device)\n",
    "print(model)\n",
    "loss_func = nn.BCEWithLogitsLoss()\n",
    "#loss_func = nn.CrossEntropyLoss() #nn.CrossEntropyLoss expects the targets to contain the class indices in the range [0, nb_classes-1]\n",
    "\n",
    "optimizer = optim.Adam(model.parameters(), lr=LEARNING_RATE)"
   ]
  },
  {
   "cell_type": "code",
   "execution_count": 12,
   "id": "f4e02ac6",
   "metadata": {
    "ExecuteTime": {
     "end_time": "2022-02-16T13:44:21.531314Z",
     "start_time": "2022-02-16T13:44:21.529456Z"
    }
   },
   "outputs": [],
   "source": [
    "def binary_acc(y_pred, y_test):\n",
    "    y_pred_tag = torch.round(torch.sigmoid(y_pred))\n",
    "\n",
    "    correct_results_sum = (y_pred_tag == y_test).sum().float()\n",
    "    acc = correct_results_sum/y_test.shape[0]\n",
    "    acc = torch.round(acc * 100)\n",
    "    \n",
    "    return acc"
   ]
  },
  {
   "cell_type": "code",
   "execution_count": 13,
   "id": "1899e2aa",
   "metadata": {
    "ExecuteTime": {
     "end_time": "2022-02-16T13:44:22.069004Z",
     "start_time": "2022-02-16T13:44:21.531919Z"
    },
    "scrolled": true
   },
   "outputs": [
    {
     "name": "stdout",
     "output_type": "stream",
     "text": [
      "Epoch 001: | Loss: 0.74866 | Acc: 48.000\n",
      "Epoch 002: | Loss: 0.66536 | Acc: 54.000\n",
      "Epoch 003: | Loss: 0.60275 | Acc: 65.000\n",
      "Epoch 004: | Loss: 0.58109 | Acc: 70.500\n",
      "Epoch 005: | Loss: 0.55674 | Acc: 74.000\n",
      "Epoch 006: | Loss: 0.52388 | Acc: 77.500\n",
      "Epoch 007: | Loss: 0.50918 | Acc: 78.000\n",
      "Epoch 008: | Loss: 0.49474 | Acc: 76.500\n",
      "Epoch 009: | Loss: 0.47745 | Acc: 78.500\n",
      "Epoch 010: | Loss: 0.44834 | Acc: 79.500\n",
      "Epoch 011: | Loss: 0.43680 | Acc: 81.000\n",
      "Epoch 012: | Loss: 0.42477 | Acc: 82.000\n",
      "Epoch 013: | Loss: 0.40941 | Acc: 84.000\n",
      "Epoch 014: | Loss: 0.40370 | Acc: 85.000\n",
      "Epoch 015: | Loss: 0.37530 | Acc: 87.000\n",
      "Epoch 016: | Loss: 0.38129 | Acc: 86.000\n",
      "Epoch 017: | Loss: 0.36923 | Acc: 86.500\n",
      "Epoch 018: | Loss: 0.36153 | Acc: 86.500\n",
      "Epoch 019: | Loss: 0.34480 | Acc: 88.500\n",
      "Epoch 020: | Loss: 0.36749 | Acc: 84.500\n",
      "Epoch 021: | Loss: 0.32444 | Acc: 90.000\n",
      "Epoch 022: | Loss: 0.31017 | Acc: 91.000\n",
      "Epoch 023: | Loss: 0.29262 | Acc: 91.500\n",
      "Epoch 024: | Loss: 0.31133 | Acc: 89.500\n",
      "Epoch 025: | Loss: 0.29675 | Acc: 90.000\n",
      "Epoch 026: | Loss: 0.27183 | Acc: 91.500\n",
      "Epoch 027: | Loss: 0.25668 | Acc: 93.500\n",
      "Epoch 028: | Loss: 0.26375 | Acc: 91.500\n",
      "Epoch 029: | Loss: 0.25164 | Acc: 91.000\n",
      "Epoch 030: | Loss: 0.24362 | Acc: 92.500\n",
      "Epoch 031: | Loss: 0.22790 | Acc: 93.500\n",
      "Epoch 032: | Loss: 0.23276 | Acc: 92.000\n",
      "Epoch 033: | Loss: 0.22216 | Acc: 92.500\n",
      "Epoch 034: | Loss: 0.21005 | Acc: 94.500\n",
      "Epoch 035: | Loss: 0.21149 | Acc: 94.000\n",
      "Epoch 036: | Loss: 0.20677 | Acc: 93.500\n",
      "Epoch 037: | Loss: 0.18727 | Acc: 95.000\n",
      "Epoch 038: | Loss: 0.18465 | Acc: 93.000\n",
      "Epoch 039: | Loss: 0.17552 | Acc: 97.000\n",
      "Epoch 040: | Loss: 0.16340 | Acc: 97.000\n",
      "Epoch 041: | Loss: 0.17170 | Acc: 97.000\n",
      "Epoch 042: | Loss: 0.14440 | Acc: 98.000\n",
      "Epoch 043: | Loss: 0.15076 | Acc: 97.500\n",
      "Epoch 044: | Loss: 0.14641 | Acc: 96.000\n",
      "Epoch 045: | Loss: 0.14631 | Acc: 97.000\n",
      "Epoch 046: | Loss: 0.11875 | Acc: 99.500\n",
      "Epoch 047: | Loss: 0.12284 | Acc: 98.500\n",
      "Epoch 048: | Loss: 0.11580 | Acc: 99.000\n",
      "Epoch 049: | Loss: 0.10838 | Acc: 99.000\n",
      "Epoch 050: | Loss: 0.10485 | Acc: 98.500\n",
      "Epoch 051: | Loss: 0.09881 | Acc: 100.000\n",
      "Epoch 052: | Loss: 0.09420 | Acc: 99.500\n",
      "Epoch 053: | Loss: 0.11196 | Acc: 98.500\n",
      "Epoch 054: | Loss: 0.09326 | Acc: 99.000\n",
      "Epoch 055: | Loss: 0.09016 | Acc: 99.500\n",
      "Epoch 056: | Loss: 0.08902 | Acc: 99.000\n",
      "Epoch 057: | Loss: 0.08616 | Acc: 99.500\n",
      "Epoch 058: | Loss: 0.08848 | Acc: 99.000\n",
      "Epoch 059: | Loss: 0.07411 | Acc: 99.000\n",
      "Epoch 060: | Loss: 0.06895 | Acc: 99.500\n",
      "Epoch 061: | Loss: 0.06922 | Acc: 99.500\n",
      "Epoch 062: | Loss: 0.06145 | Acc: 99.500\n",
      "Epoch 063: | Loss: 0.06319 | Acc: 99.500\n",
      "Epoch 064: | Loss: 0.06639 | Acc: 99.500\n",
      "Epoch 065: | Loss: 0.07149 | Acc: 99.500\n",
      "Epoch 066: | Loss: 0.05665 | Acc: 100.000\n",
      "Epoch 067: | Loss: 0.06335 | Acc: 100.000\n",
      "Epoch 068: | Loss: 0.05276 | Acc: 100.000\n",
      "Epoch 069: | Loss: 0.04915 | Acc: 100.000\n",
      "Epoch 070: | Loss: 0.04922 | Acc: 99.500\n",
      "Epoch 071: | Loss: 0.05089 | Acc: 100.000\n",
      "Epoch 072: | Loss: 0.04758 | Acc: 99.500\n",
      "Epoch 073: | Loss: 0.04652 | Acc: 100.000\n",
      "Epoch 074: | Loss: 0.04131 | Acc: 100.000\n",
      "Epoch 075: | Loss: 0.04314 | Acc: 100.000\n",
      "Epoch 076: | Loss: 0.03714 | Acc: 100.000\n",
      "Epoch 077: | Loss: 0.03457 | Acc: 100.000\n",
      "Epoch 078: | Loss: 0.03298 | Acc: 100.000\n",
      "Epoch 079: | Loss: 0.03407 | Acc: 100.000\n",
      "Epoch 080: | Loss: 0.03978 | Acc: 100.000\n",
      "Epoch 081: | Loss: 0.03046 | Acc: 100.000\n",
      "Epoch 082: | Loss: 0.02887 | Acc: 100.000\n",
      "Epoch 083: | Loss: 0.03420 | Acc: 100.000\n",
      "Epoch 084: | Loss: 0.03900 | Acc: 99.500\n",
      "Epoch 085: | Loss: 0.03230 | Acc: 100.000\n",
      "Epoch 086: | Loss: 0.02686 | Acc: 100.000\n",
      "Epoch 087: | Loss: 0.02566 | Acc: 100.000\n",
      "Epoch 088: | Loss: 0.02584 | Acc: 100.000\n",
      "Epoch 089: | Loss: 0.02651 | Acc: 100.000\n",
      "Epoch 090: | Loss: 0.02592 | Acc: 100.000\n",
      "Epoch 091: | Loss: 0.02283 | Acc: 100.000\n",
      "Epoch 092: | Loss: 0.02020 | Acc: 100.000\n",
      "Epoch 093: | Loss: 0.02077 | Acc: 100.000\n",
      "Epoch 094: | Loss: 0.02035 | Acc: 100.000\n",
      "Epoch 095: | Loss: 0.02262 | Acc: 100.000\n",
      "Epoch 096: | Loss: 0.02261 | Acc: 100.000\n",
      "Epoch 097: | Loss: 0.02161 | Acc: 100.000\n",
      "Epoch 098: | Loss: 0.01753 | Acc: 100.000\n",
      "Epoch 099: | Loss: 0.01788 | Acc: 100.000\n",
      "Epoch 100: | Loss: 0.01818 | Acc: 100.000\n",
      "Epoch 101: | Loss: 0.01949 | Acc: 100.000\n",
      "Epoch 102: | Loss: 0.01661 | Acc: 100.000\n",
      "Epoch 103: | Loss: 0.02200 | Acc: 100.000\n",
      "Epoch 104: | Loss: 0.01563 | Acc: 100.000\n",
      "Epoch 105: | Loss: 0.01486 | Acc: 100.000\n",
      "Epoch 106: | Loss: 0.01907 | Acc: 100.000\n",
      "Epoch 107: | Loss: 0.01760 | Acc: 100.000\n",
      "Epoch 108: | Loss: 0.01330 | Acc: 100.000\n",
      "Epoch 109: | Loss: 0.01503 | Acc: 100.000\n",
      "Epoch 110: | Loss: 0.01410 | Acc: 100.000\n",
      "Epoch 111: | Loss: 0.01514 | Acc: 100.000\n",
      "Epoch 112: | Loss: 0.01438 | Acc: 100.000\n",
      "Epoch 113: | Loss: 0.01236 | Acc: 100.000\n",
      "Epoch 114: | Loss: 0.01228 | Acc: 100.000\n",
      "Epoch 115: | Loss: 0.02432 | Acc: 100.000\n",
      "Epoch 116: | Loss: 0.01499 | Acc: 100.000\n",
      "Epoch 117: | Loss: 0.01318 | Acc: 100.000\n",
      "Epoch 118: | Loss: 0.01703 | Acc: 100.000\n",
      "Epoch 119: | Loss: 0.01260 | Acc: 100.000\n",
      "Epoch 120: | Loss: 0.01017 | Acc: 100.000\n",
      "Epoch 121: | Loss: 0.01654 | Acc: 100.000\n",
      "Epoch 122: | Loss: 0.01012 | Acc: 100.000\n",
      "Epoch 123: | Loss: 0.01241 | Acc: 100.000\n",
      "Epoch 124: | Loss: 0.00982 | Acc: 100.000\n",
      "Epoch 125: | Loss: 0.01329 | Acc: 100.000\n",
      "Epoch 126: | Loss: 0.00877 | Acc: 100.000\n",
      "Epoch 127: | Loss: 0.00912 | Acc: 100.000\n",
      "Epoch 128: | Loss: 0.01013 | Acc: 100.000\n",
      "Epoch 129: | Loss: 0.01670 | Acc: 100.000\n",
      "Epoch 130: | Loss: 0.01061 | Acc: 100.000\n",
      "Epoch 131: | Loss: 0.00957 | Acc: 100.000\n",
      "Epoch 132: | Loss: 0.01080 | Acc: 100.000\n",
      "Epoch 133: | Loss: 0.00883 | Acc: 100.000\n",
      "Epoch 134: | Loss: 0.00796 | Acc: 100.000\n",
      "Epoch 135: | Loss: 0.00885 | Acc: 100.000\n",
      "Epoch 136: | Loss: 0.00715 | Acc: 100.000\n",
      "Epoch 137: | Loss: 0.00759 | Acc: 100.000\n",
      "Epoch 138: | Loss: 0.00743 | Acc: 100.000\n",
      "Epoch 139: | Loss: 0.01234 | Acc: 100.000\n",
      "Epoch 140: | Loss: 0.00928 | Acc: 100.000\n",
      "Epoch 141: | Loss: 0.00674 | Acc: 100.000\n",
      "Epoch 142: | Loss: 0.00573 | Acc: 100.000\n",
      "Epoch 143: | Loss: 0.00558 | Acc: 100.000\n",
      "Epoch 144: | Loss: 0.00659 | Acc: 100.000\n",
      "Epoch 145: | Loss: 0.01386 | Acc: 100.000\n",
      "Epoch 146: | Loss: 0.00639 | Acc: 100.000\n",
      "Epoch 147: | Loss: 0.00791 | Acc: 100.000\n",
      "Epoch 148: | Loss: 0.00720 | Acc: 100.000\n",
      "Epoch 149: | Loss: 0.00798 | Acc: 100.000\n",
      "Epoch 150: | Loss: 0.00665 | Acc: 100.000\n",
      "Epoch 151: | Loss: 0.00655 | Acc: 100.000\n",
      "Epoch 152: | Loss: 0.00562 | Acc: 100.000\n",
      "Epoch 153: | Loss: 0.00716 | Acc: 100.000\n",
      "Epoch 154: | Loss: 0.00513 | Acc: 100.000\n",
      "Epoch 155: | Loss: 0.00596 | Acc: 100.000\n",
      "Epoch 156: | Loss: 0.00560 | Acc: 100.000\n",
      "Epoch 157: | Loss: 0.00588 | Acc: 100.000\n",
      "Epoch 158: | Loss: 0.00688 | Acc: 100.000\n",
      "Epoch 159: | Loss: 0.00720 | Acc: 100.000\n",
      "Epoch 160: | Loss: 0.00516 | Acc: 100.000\n",
      "Epoch 161: | Loss: 0.00480 | Acc: 100.000\n",
      "Epoch 162: | Loss: 0.00505 | Acc: 100.000\n",
      "Epoch 163: | Loss: 0.00718 | Acc: 100.000\n",
      "Epoch 164: | Loss: 0.00571 | Acc: 100.000\n",
      "Epoch 165: | Loss: 0.00513 | Acc: 100.000\n",
      "Epoch 166: | Loss: 0.00513 | Acc: 100.000\n",
      "Epoch 167: | Loss: 0.00901 | Acc: 100.000\n",
      "Epoch 168: | Loss: 0.00384 | Acc: 100.000\n",
      "Epoch 169: | Loss: 0.00464 | Acc: 100.000\n",
      "Epoch 170: | Loss: 0.00435 | Acc: 100.000\n",
      "Epoch 171: | Loss: 0.00518 | Acc: 100.000\n",
      "Epoch 172: | Loss: 0.00504 | Acc: 100.000\n",
      "Epoch 173: | Loss: 0.00389 | Acc: 100.000\n",
      "Epoch 174: | Loss: 0.00435 | Acc: 100.000\n",
      "Epoch 175: | Loss: 0.00394 | Acc: 100.000\n",
      "Epoch 176: | Loss: 0.00463 | Acc: 100.000\n",
      "Epoch 177: | Loss: 0.00471 | Acc: 100.000\n",
      "Epoch 178: | Loss: 0.00472 | Acc: 100.000\n",
      "Epoch 179: | Loss: 0.00820 | Acc: 100.000\n",
      "Epoch 180: | Loss: 0.00572 | Acc: 100.000\n",
      "Epoch 181: | Loss: 0.00360 | Acc: 100.000\n",
      "Epoch 182: | Loss: 0.00382 | Acc: 100.000\n",
      "Epoch 183: | Loss: 0.00330 | Acc: 100.000\n",
      "Epoch 184: | Loss: 0.00349 | Acc: 100.000\n",
      "Epoch 185: | Loss: 0.00622 | Acc: 100.000\n",
      "Epoch 186: | Loss: 0.00444 | Acc: 100.000\n",
      "Epoch 187: | Loss: 0.00450 | Acc: 100.000\n",
      "Epoch 188: | Loss: 0.00376 | Acc: 100.000\n",
      "Epoch 189: | Loss: 0.00744 | Acc: 100.000\n",
      "Epoch 190: | Loss: 0.00392 | Acc: 100.000\n",
      "Epoch 191: | Loss: 0.00481 | Acc: 100.000\n",
      "Epoch 192: | Loss: 0.00443 | Acc: 100.000\n",
      "Epoch 193: | Loss: 0.00380 | Acc: 100.000\n",
      "Epoch 194: | Loss: 0.00307 | Acc: 100.000\n",
      "Epoch 195: | Loss: 0.00423 | Acc: 100.000\n",
      "Epoch 196: | Loss: 0.00328 | Acc: 100.000\n",
      "Epoch 197: | Loss: 0.00329 | Acc: 100.000\n",
      "Epoch 198: | Loss: 0.00283 | Acc: 100.000\n",
      "Epoch 199: | Loss: 0.00349 | Acc: 100.000\n",
      "Epoch 200: | Loss: 0.00317 | Acc: 100.000\n"
     ]
    }
   ],
   "source": [
    "loss_stats = {\n",
    "    'loss': [],\n",
    "    'acc': []\n",
    "}\n",
    "\n",
    "model.train()\n",
    "\n",
    "for e in range(1, EPOCHS+1):\n",
    "    epoch_loss = 0\n",
    "    epoch_acc = 0\n",
    "    for X_batch, y_batch in train_loader:\n",
    "        X_batch, y_batch = X_batch.to(device), y_batch.to(device)\n",
    "        optimizer.zero_grad()\n",
    "        \n",
    "        y_pred = model(X_batch)\n",
    "        \n",
    "        #print(f'y_pred.shape{y_pred.shape}')\n",
    "        #print(f'y_batch.unsqueeze(1).shape{y_batch.unsqueeze(1).shape}')\n",
    "        \n",
    "        \n",
    "        loss = loss_func(y_pred, y_batch.unsqueeze(1))\n",
    "        acc = binary_acc(y_pred, y_batch.unsqueeze(1))\n",
    "        \n",
    "        #y_pred = torch.tensor(y_pred, dtype=torch.long, device=device)\n",
    "        #y_batch = torch.tensor(y_batch, dtype=torch.long, device=device)\n",
    "#         loss = loss_func(y_pred, y_batch.squeeze(1))\n",
    "#         acc = binary_acc(y_pred, y_batch.squeeze(1))\n",
    "#         #loss = loss_func(y_pred, y_batch)\n",
    "#         #acc = binary_acc(y_pred, y_batch)\n",
    "        \n",
    "        \n",
    "        loss.backward()\n",
    "        optimizer.step()\n",
    "        \n",
    "        epoch_loss += loss.item()\n",
    "        epoch_acc += acc.item()\n",
    "\n",
    "    loss_stats['loss'].append(epoch_loss/len(train_loader))\n",
    "    loss_stats['acc'].append(epoch_acc/len(train_loader))\n",
    "\n",
    "\n",
    "    print(f'Epoch {e+0:03}: | Loss: {epoch_loss/len(train_loader):.5f} | Acc: {epoch_acc/len(train_loader):.3f}')\n",
    "    \n",
    "    \n",
    "    \n",
    "\n"
   ]
  },
  {
   "cell_type": "code",
   "execution_count": 14,
   "id": "503d7496",
   "metadata": {
    "ExecuteTime": {
     "end_time": "2022-02-16T13:44:22.193631Z",
     "start_time": "2022-02-16T13:44:22.069827Z"
    }
   },
   "outputs": [
    {
     "name": "stdout",
     "output_type": "stream",
     "text": [
      "     epochs variable       value\n",
      "0         0     loss    0.748663\n",
      "1         1     loss    0.665358\n",
      "2         2     loss    0.602746\n",
      "3         3     loss    0.581095\n",
      "4         4     loss    0.556745\n",
      "..      ...      ...         ...\n",
      "395     195      acc  100.000000\n",
      "396     196      acc  100.000000\n",
      "397     197      acc  100.000000\n",
      "398     198      acc  100.000000\n",
      "399     199      acc  100.000000\n",
      "\n",
      "[400 rows x 3 columns]\n"
     ]
    },
    {
     "data": {
      "text/plain": [
       "Text(0.5, 1.0, 'Train-Val Accuracy/Epoch')"
      ]
     },
     "execution_count": 14,
     "metadata": {},
     "output_type": "execute_result"
    },
    {
     "data": {
      "image/png": "[encoded data removed]",
      "text/plain": [
       "<Figure size 576x576 with 1 Axes>"
      ]
     },
     "metadata": {
      "needs_background": "light"
     },
     "output_type": "display_data"
    }
   ],
   "source": [
    "#print(loss_stats)\n",
    "loss_stats_df = pd.DataFrame.from_dict(loss_stats).reset_index().melt(id_vars=['index']).rename(columns={\"index\":\"epochs\"})     \n",
    "print(loss_stats_df)\n",
    "fig = plt.figure(figsize=(8, 8))\n",
    "sns.lineplot(data= loss_stats_df, x = \"epochs\", y=\"value\", hue=\"variable\").set_title('Train-Val Accuracy/Epoch')\n",
    "\n"
   ]
  },
  {
   "cell_type": "code",
   "execution_count": 15,
   "id": "25b414e0",
   "metadata": {
    "ExecuteTime": {
     "end_time": "2022-02-16T13:44:22.215263Z",
     "start_time": "2022-02-16T13:44:22.194743Z"
    }
   },
   "outputs": [
    {
     "name": "stdout",
     "output_type": "stream",
     "text": [
      "[0.0, 1.0, 1.0, 1.0, 1.0, 1.0, 0.0, 1.0, 0.0, 1.0, 1.0, 1.0, 1.0, 1.0, 1.0, 0.0, 0.0, 1.0, 1.0, 1.0, 1.0, 1.0, 1.0, 1.0, 0.0, 1.0, 0.0, 1.0, 1.0, 1.0, 1.0, 0.0, 1.0, 1.0, 1.0, 1.0, 1.0, 0.0, 1.0, 1.0, 1.0, 0.0, 1.0, 1.0, 0.0, 1.0, 1.0, 1.0, 1.0, 1.0, 1.0, 1.0, 1.0, 1.0, 1.0, 1.0, 0.0, 1.0, 1.0, 1.0, 0.0, 1.0, 1.0, 1.0, 1.0, 1.0, 0.0, 1.0, 1.0, 1.0, 0.0, 1.0, 1.0, 1.0, 0.0, 1.0, 1.0, 0.0, 1.0, 1.0, 0.0, 1.0, 1.0, 1.0, 0.0, 1.0, 1.0, 1.0, 1.0, 1.0, 1.0, 1.0, 0.0, 1.0, 1.0, 1.0, 1.0, 1.0, 0.0, 1.0, 0.0, 1.0, 0.0]\n",
      "              precision    recall  f1-score   support\n",
      "\n",
      "           0       0.83      0.61      0.70        31\n",
      "           1       0.85      0.94      0.89        72\n",
      "\n",
      "    accuracy                           0.84       103\n",
      "   macro avg       0.84      0.78      0.80       103\n",
      "weighted avg       0.84      0.84      0.84       103\n",
      "\n"
     ]
    }
   ],
   "source": [
    "y_pred_list = []\n",
    "model.eval()\n",
    "with torch.no_grad():\n",
    "    for X_batch in test_loader:\n",
    "        X_batch = X_batch.to(device)\n",
    "        y_test_pred = model(X_batch)\n",
    "        y_test_pred = torch.sigmoid(y_test_pred)\n",
    "        y_pred_tag = torch.round(y_test_pred)\n",
    "        y_pred_list.append(y_pred_tag.cpu().numpy())\n",
    "        \n",
    "y_pred_list = [a.squeeze().tolist() for a in y_pred_list]\n",
    "\n",
    "print(y_pred_list)\n",
    "\n",
    "\n",
    "#confusion_matrix\n",
    "confusion_matrix(y_test, y_pred_list)\n",
    "print(classification_report(y_test, y_pred_list))"
   ]
  },
  {
   "cell_type": "code",
   "execution_count": 16,
   "id": "31c66e12",
   "metadata": {
    "ExecuteTime": {
     "end_time": "2022-02-16T13:44:22.303758Z",
     "start_time": "2022-02-16T13:44:22.216332Z"
    }
   },
   "outputs": [
    {
     "data": {
      "image/png": "[encoded data removed]",
      "text/plain": [
       "<Figure size 504x360 with 2 Axes>"
      ]
     },
     "metadata": {
      "needs_background": "light"
     },
     "output_type": "display_data"
    }
   ],
   "source": [
    "\n",
    "confusion_matrix_df = pd.DataFrame(confusion_matrix(y_test, y_pred_list))\n",
    "\n",
    "fig, ax = plt.subplots(figsize=(7,5))         \n",
    "sns.heatmap(confusion_matrix_df, annot=True, ax=ax)\n",
    "plt.show()"
   ]
  },
  {
   "cell_type": "code",
   "execution_count": null,
   "id": "22c59952",
   "metadata": {},
   "outputs": [],
   "source": []
  },
  {
   "cell_type": "code",
   "execution_count": null,
   "id": "e719e186",
   "metadata": {},
   "outputs": [],
   "source": []
  }
 ],
 "metadata": {
  "kernelspec": {
   "display_name": "Python 3 (ipykernel)",
   "language": "python",
   "name": "python3"
  },
  "language_info": {
   "codemirror_mode": {
    "name": "ipython",
    "version": 3
   },
   "file_extension": ".py",
   "mimetype": "text/x-python",
   "name": "python",
   "nbconvert_exporter": "python",
   "pygments_lexer": "ipython3",
   "version": "3.8.12"
  }
 },
 "nbformat": 4,
 "nbformat_minor": 5
}
