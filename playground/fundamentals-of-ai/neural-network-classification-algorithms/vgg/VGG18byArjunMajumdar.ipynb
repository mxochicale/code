{
 "cells": [
  {
   "cell_type": "markdown",
   "metadata": {
    "id": "jZOD2mGIeyEJ"
   },
   "source": [
    "# VGG-18 CNN: PyTorch & CIFAR-10\n",
    "\n",
    "\n",
    "## Introduction\n",
    "End-to-end programming tutorial\n",
    "1. Progress bar - training model\n",
    "2. Train model with _early stopping criterion_\n",
    "3. Learning rate scheduler\n",
    "4. Compare between learning rate scheduler and early stopping criterion\n",
    "\n",
    "\n",
    "## See script and model files\n",
    "```\n",
    "cd $HOME/repositories/code/playground/fundamentals-of-ai/neural-network-classification-algorithms/vgg\n",
    "```\n",
    "\n",
    "\n",
    "## Reference\n",
    "https://github.com/arjun-majumdar/CNN_Classifications/blob/master/VGG18_Dropout_PyTorch.ipynb  \n",
    "https://github.com/arjun-majumdar/CNN_Classifications  "
   ]
  },
  {
   "cell_type": "code",
   "execution_count": 18,
   "metadata": {
    "ExecuteTime": {
     "end_time": "2022-03-09T22:28:19.043889Z",
     "start_time": "2022-03-09T22:28:19.038228Z"
    },
    "id": "7hpnDY7Mfb8b"
   },
   "outputs": [],
   "source": [
    "## Specify GPU to be used-\n",
    "##%env CUDA_DEVICE_ORDER=PCI_BUS_ID\n",
    "##%env CUDA_VISIBLE_DEVICES = 2"
   ]
  },
  {
   "cell_type": "code",
   "execution_count": 19,
   "metadata": {
    "ExecuteTime": {
     "end_time": "2022-03-09T22:28:19.456282Z",
     "start_time": "2022-03-09T22:28:19.453893Z"
    },
    "id": "cM6Ih3nVq0Gh"
   },
   "outputs": [],
   "source": [
    "import torch\n",
    "import torch.nn as nn\n",
    "import torch.nn.functional as F\n",
    "import torchvision\n",
    "import torchvision.transforms as transforms\n",
    "\n",
    "from tqdm import tqdm\n",
    "from tqdm import trange\n",
    "import matplotlib.pyplot as plt\n",
    "import numpy as np\n",
    "import os"
   ]
  },
  {
   "cell_type": "code",
   "execution_count": 20,
   "metadata": {
    "ExecuteTime": {
     "end_time": "2022-03-09T22:28:20.119529Z",
     "start_time": "2022-03-09T22:28:20.114127Z"
    },
    "colab": {
     "base_uri": "https://localhost:8080/"
    },
    "id": "_H9KbTonq0Q9",
    "outputId": "41b72a44-64e1-44c2-a917-615e9adafb76"
   },
   "outputs": [
    {
     "name": "stdout",
     "output_type": "stream",
     "text": [
      "currently available device: cuda\n"
     ]
    }
   ],
   "source": [
    "# Device configuration-\n",
    "device = torch.device('cuda' if torch.cuda.is_available() else 'cpu')\n",
    "print(f\"currently available device: {device}\")"
   ]
  },
  {
   "cell_type": "code",
   "execution_count": 21,
   "metadata": {
    "ExecuteTime": {
     "end_time": "2022-03-09T22:28:21.491085Z",
     "start_time": "2022-03-09T22:28:21.483270Z"
    },
    "colab": {
     "base_uri": "https://localhost:8080/"
    },
    "id": "f2CJ2XyNq9Nd",
    "outputId": "3e5961db-ccb3-4be4-9207-21d280f44beb"
   },
   "outputs": [
    {
     "name": "stdout",
     "output_type": "stream",
     "text": [
      "PyTorch version: 1.10.0\n"
     ]
    }
   ],
   "source": [
    "print(f\"PyTorch version: {torch.__version__}\")"
   ]
  },
  {
   "cell_type": "code",
   "execution_count": 22,
   "metadata": {
    "ExecuteTime": {
     "end_time": "2022-03-09T22:28:22.232570Z",
     "start_time": "2022-03-09T22:28:22.230486Z"
    },
    "id": "uV1m3vD0rBee"
   },
   "outputs": [],
   "source": [
    "# Hyper-parameters-\n",
    "num_epochs = 2 #65\n",
    "BATCH_SIZE = 128\n",
    "LEARNING_RATE = 0.01"
   ]
  },
  {
   "cell_type": "code",
   "execution_count": 23,
   "metadata": {
    "ExecuteTime": {
     "end_time": "2022-03-09T22:28:22.804671Z",
     "start_time": "2022-03-09T22:28:22.794228Z"
    },
    "id": "9R6Sc5v6rD8M"
   },
   "outputs": [],
   "source": [
    "# Define transformations for training and test sets-\n",
    "transform_train = transforms.Compose(\n",
    "    [\n",
    "      transforms.RandomCrop(32, padding = 4),\n",
    "      transforms.RandomHorizontalFlip(),\n",
    "      transforms.ToTensor(),\n",
    "      transforms.Normalize((0.4914, 0.4822, 0.4465), (0.2023, 0.1994, 0.2010)),\n",
    "     ]\n",
    "     )\n",
    "\n",
    "transform_test = transforms.Compose(\n",
    "    [\n",
    "      transforms.ToTensor(),\n",
    "      transforms.Normalize((0.4914, 0.4822, 0.4465), (0.2023, 0.1994, 0.2010)),\n",
    "     ]\n",
    "     )"
   ]
  },
  {
   "cell_type": "code",
   "execution_count": 24,
   "metadata": {
    "ExecuteTime": {
     "end_time": "2022-03-09T22:28:24.317375Z",
     "start_time": "2022-03-09T22:28:23.384787Z"
    },
    "colab": {
     "base_uri": "https://localhost:8080/",
     "height": 101
    },
    "id": "4ddOxdkirHPN",
    "outputId": "764e40cc-2f3c-482f-bbb1-542c39d0d1f9"
   },
   "outputs": [
    {
     "name": "stdout",
     "output_type": "stream",
     "text": [
      "Files already downloaded and verified\n",
      "Files already downloaded and verified\n"
     ]
    }
   ],
   "source": [
    "# Load dataset-\n",
    "train_dataset = torchvision.datasets.CIFAR10(\n",
    "        root = '../data', train = True,\n",
    "        download = True, transform = transform_train\n",
    "        )\n",
    "\n",
    "test_dataset = torchvision.datasets.CIFAR10(\n",
    "        root = '../data', train = False,\n",
    "        download = True, transform = transform_test\n",
    "        )"
   ]
  },
  {
   "cell_type": "code",
   "execution_count": 25,
   "metadata": {
    "ExecuteTime": {
     "end_time": "2022-03-09T22:28:24.540020Z",
     "start_time": "2022-03-09T22:28:24.537787Z"
    },
    "colab": {
     "base_uri": "https://localhost:8080/"
    },
    "id": "FW8h3ztJrU5_",
    "outputId": "643be603-0775-412b-9a3d-7dfbe5df1887"
   },
   "outputs": [
    {
     "name": "stdout",
     "output_type": "stream",
     "text": [
      "len(train_dataset) = 50000 & len(test_dataset) = 10000\n"
     ]
    }
   ],
   "source": [
    "print(f\"len(train_dataset) = {len(train_dataset)} & len(test_dataset) = {len(test_dataset)}\")"
   ]
  },
  {
   "cell_type": "code",
   "execution_count": 26,
   "metadata": {
    "ExecuteTime": {
     "end_time": "2022-03-09T22:28:25.440344Z",
     "start_time": "2022-03-09T22:28:25.434830Z"
    },
    "id": "cydrwaW7rbnV"
   },
   "outputs": [],
   "source": [
    "# Create training and testing loaders-\n",
    "train_loader = torch.utils.data.DataLoader(\n",
    "        train_dataset, batch_size = BATCH_SIZE,\n",
    "        shuffle = True\n",
    "        )\n",
    "\n",
    "test_loader = torch.utils.data.DataLoader(\n",
    "        test_dataset, batch_size = BATCH_SIZE,\n",
    "        shuffle = False\n",
    "        )"
   ]
  },
  {
   "cell_type": "code",
   "execution_count": 27,
   "metadata": {
    "ExecuteTime": {
     "end_time": "2022-03-09T22:28:26.086067Z",
     "start_time": "2022-03-09T22:28:26.082112Z"
    },
    "colab": {
     "base_uri": "https://localhost:8080/"
    },
    "id": "62AgWl9jrfzW",
    "outputId": "0972fead-2556-4cea-9ff4-8f50eabf6cef"
   },
   "outputs": [
    {
     "name": "stdout",
     "output_type": "stream",
     "text": [
      "len(train_loader) = 391 & len(test_loader) = 79\n"
     ]
    }
   ],
   "source": [
    "print(f\"len(train_loader) = {len(train_loader)} & len(test_loader) = {len(test_loader)}\")"
   ]
  },
  {
   "cell_type": "code",
   "execution_count": 28,
   "metadata": {
    "ExecuteTime": {
     "end_time": "2022-03-09T22:28:26.758528Z",
     "start_time": "2022-03-09T22:28:26.753092Z"
    },
    "colab": {
     "base_uri": "https://localhost:8080/"
    },
    "id": "rjGADCMfrhAl",
    "outputId": "e3bb3177-720d-48ce-ef5a-b0e61c5ac9bb"
   },
   "outputs": [
    {
     "data": {
      "text/plain": "(390.625, 78.125, 128)"
     },
     "execution_count": 28,
     "metadata": {},
     "output_type": "execute_result"
    }
   ],
   "source": [
    "# Sanity check-\n",
    "len(train_dataset) / BATCH_SIZE, len(test_dataset) / BATCH_SIZE, BATCH_SIZE"
   ]
  },
  {
   "cell_type": "code",
   "execution_count": 29,
   "metadata": {
    "ExecuteTime": {
     "end_time": "2022-03-09T22:28:27.350849Z",
     "start_time": "2022-03-09T22:28:27.305033Z"
    },
    "colab": {
     "base_uri": "https://localhost:8080/"
    },
    "id": "jhwdHTu0rsf8",
    "outputId": "c84eaa78-265f-4af7-dbdf-f45370c2bb4c"
   },
   "outputs": [
    {
     "data": {
      "text/plain": "(torch.Size([128, 3, 32, 32]), torch.Size([128]))"
     },
     "execution_count": 29,
     "metadata": {},
     "output_type": "execute_result"
    }
   ],
   "source": [
    "# Sanity check-\n",
    "images, labels = next(iter(train_loader))\n",
    "images.size(), labels.shape"
   ]
  },
  {
   "cell_type": "code",
   "execution_count": 30,
   "metadata": {
    "ExecuteTime": {
     "end_time": "2022-03-09T22:28:27.894210Z",
     "start_time": "2022-03-09T22:28:27.888857Z"
    },
    "id": "hoRuYT9srtH1"
   },
   "outputs": [],
   "source": [
    "#Delete images and labels\n",
    "#del images, labels"
   ]
  },
  {
   "cell_type": "markdown",
   "metadata": {
    "id": "zlFoyg5Hruqn"
   },
   "source": [
    "### Define _VGG_ architecture:"
   ]
  },
  {
   "cell_type": "code",
   "execution_count": 31,
   "metadata": {
    "ExecuteTime": {
     "end_time": "2022-03-09T22:28:29.093528Z",
     "start_time": "2022-03-09T22:28:29.083328Z"
    },
    "id": "xqxULQxKrxSM"
   },
   "outputs": [],
   "source": [
    "class VGGBlock(nn.Module):\n",
    "    \"\"\"\n",
    "    VGG block within a VGG-* CNN model\n",
    "    \"\"\"\n",
    "    def __init__(self, input_channels, num_channels, padding_size = 1,\n",
    "                 stride_size = 1, use_extra_conv = False):\n",
    "        super().__init__()\n",
    "        \n",
    "        self.conv1 = nn.Conv2d(\n",
    "            in_channels = input_channels, out_channels = num_channels,\n",
    "            kernel_size = 3, padding = padding_size,\n",
    "            stride = stride_size, bias = False\n",
    "        )\n",
    "        \n",
    "        self.conv2 = nn.Conv2d(\n",
    "            in_channels = num_channels, out_channels = num_channels,\n",
    "            kernel_size = 3, padding = padding_size,\n",
    "            stride = stride_size, bias = False\n",
    "        )\n",
    "        \n",
    "        if use_extra_conv:\n",
    "            self.conv3 = nn.Conv2d(\n",
    "                in_channels = num_channels, out_channels = num_channels,\n",
    "                kernel_size = 3, padding = padding_size,\n",
    "                stride = stride_size, bias = False\n",
    "            )\n",
    "            \n",
    "            self.conv4 = nn.Conv2d(\n",
    "                in_channels = num_channels, out_channels = num_channels,\n",
    "                kernel_size = 3, padding = padding_size,\n",
    "                stride = stride_size, bias = False\n",
    "            )\n",
    "        else:\n",
    "            self.conv3 = False\n",
    "            self.conv4 = False\n",
    "        \n",
    "        self.pool = nn.MaxPool2d(\n",
    "            kernel_size = 2, stride = 2)\n",
    "            # padding = 1)\n",
    "        \n",
    "        self.bn1 = nn.BatchNorm2d(num_features = num_channels)\n",
    "        self.bn2 = nn.BatchNorm2d(num_features = num_channels)\n",
    "\n",
    "        if use_extra_conv:\n",
    "            self.bn3 = nn.BatchNorm2d(num_features = num_channels)\n",
    "            self.bn4 = nn.BatchNorm2d(num_features = num_channels)\n",
    "        \n",
    "        self.initialize_weights()\n",
    "    \n",
    "    \n",
    "    def forward(self, X):\n",
    "        Y = F.relu(self.bn1(self.conv1(X)))\n",
    "        Y = F.relu(self.bn2(self.conv2(Y)))\n",
    "        \n",
    "        if self.conv3 and self.conv4:\n",
    "            Y = F.relu(self.bn3(self.conv3(Y)))\n",
    "            Y = F.relu(self.bn4(self.conv4(Y)))\n",
    "            Y = self.pool(Y)\n",
    "        else:\n",
    "            Y = self.pool(Y)\n",
    "        \n",
    "        return Y\n",
    "    \n",
    "    \n",
    "    def shape_computation(self, X):\n",
    "        Y = self.bn1(self.conv1(X))\n",
    "        print(f\"self.bn(conv1(X)).shape: {Y.shape}\")\n",
    "        \n",
    "        Y = self.bn2(self.conv2(Y))\n",
    "        print(f\"self.bn(conv2(Y)).shape: {Y.shape}\")\n",
    "        \n",
    "        if self.conv3 and self.conv4:\n",
    "            Y = self.bn3(self.conv3(Y))\n",
    "            print(f\"self.bn(conv3(Y)).shape: {Y.shape}\")\n",
    "            \n",
    "            Y = self.bn4(self.conv4(Y))\n",
    "            print(f\"self.bn(conv4(Y)).shape: {Y.shape}\")\n",
    "            \n",
    "            Y = self.pool(Y)\n",
    "            print(f\"self.pool(Y).shape: {Y.shape}\")\n",
    "        else:\n",
    "            Y = self.pool(Y)\n",
    "            print(f\"self.pool(Y).shape: {Y.shape}\")\n",
    "        \n",
    "\n",
    "    def initialize_weights(self):\n",
    "        for m in self.modules():\n",
    "            # print(m)\n",
    "            if isinstance(m, nn.Conv2d):\n",
    "                nn.init.kaiming_uniform_(m.weight)\n",
    "\n",
    "                '''\n",
    "                # Do not initialize bias (due to batchnorm)-\n",
    "                if m.bias is not None:\n",
    "                    nn.init.constant_(m.bias, 0)\n",
    "                '''\n",
    "            \n",
    "            elif isinstance(m, nn.BatchNorm2d):\n",
    "                # Standard initialization for batch normalization-\n",
    "                nn.init.constant_(m.weight, 1)\n",
    "                nn.init.constant_(m.bias, 0)\n",
    "\n",
    "            elif isinstance(m, nn.Linear):\n",
    "                nn.init.kaiming_normal_(m.weight)\n",
    "                nn.init.constant_(m.bias, 0)\n"
   ]
  },
  {
   "cell_type": "code",
   "execution_count": 32,
   "metadata": {
    "ExecuteTime": {
     "end_time": "2022-03-09T22:28:29.807893Z",
     "start_time": "2022-03-09T22:28:29.801227Z"
    },
    "id": "blQAhpclr2HN"
   },
   "outputs": [],
   "source": [
    "class VGG18(nn.Module):\n",
    "    \"\"\"\n",
    "    VGG18 Net\n",
    "    \"\"\"\n",
    "    def __init__(self):\n",
    "        super().__init__()\n",
    "\n",
    "        self.block1 = VGGBlock(input_channels = 3, num_channels = 64)\n",
    "        self.block2 = VGGBlock(input_channels = 64, num_channels = 128)\n",
    "        self.block3 = VGGBlock(input_channels = 128, num_channels = 256, use_extra_conv = True)\n",
    "        self.block4 = VGGBlock(input_channels = 256, num_channels = 512, use_extra_conv = True)\n",
    "        self.block5 = VGGBlock(input_channels = 512, num_channels = 512, use_extra_conv = True)\n",
    "        self.blockA = VGGBlock(input_channels = 3, num_channels = 512, use_extra_conv = True)\n",
    "\n",
    "        self.pool1 = nn.MaxPool2d(kernel_size = 1, stride = 1)\n",
    "        self.poolA = nn.MaxPool2d(kernel_size = 16, stride = 16)\n",
    "        self.flatten = nn.Flatten()\n",
    "        self.dense1 = nn.Linear(in_features = 512, out_features = 256)\n",
    "        self.dense2 = nn.Linear(in_features = 256, out_features = 10)\n",
    "        self.denseA = nn.Linear(in_features = 512, out_features = 10)\n",
    "\n",
    "    def forward(self, x):\n",
    "        #print(f\"After input, x.shape: {x.shape}\") #After input, x.shape: torch.Size([128, 3, 32, 32])\n",
    "        x = self.block1(x)\n",
    "        #print(f\"After block1, x.shape: {x.shape}\") #After block1, x.shape: torch.Size([128, 64, 16, 16])\n",
    "        #x = self.pool1(x)\n",
    "        #print(f\"After pool1, x.shape: {x.shape}\") #After pool1, x.shape: torch.Size([128, 64, 8, 8])\n",
    "        x = self.block2(x)\n",
    "        #print(f\"After block2, x.shape: {x.shape}\") #After block2, x.shape: torch.Size([128, 128, 8, 8])\n",
    "        x = self.block3(x)\n",
    "        #print(f\"After block3, x.shape: {x.shape}\") #After block3, x.shape: torch.Size([128, 256, 4, 4])\n",
    "        x = self.block4(x)\n",
    "        #print(f\"After block4, x.shape: {x.shape}\") #After block4, x.shape: torch.Size([128, 512, 2, 2])\n",
    "        x = self.block5(x)\n",
    "        #print(f\"After block5, x.shape: {x.shape}\") #After block5, x.shape: torch.Size([128, 512, 1, 1])\n",
    "\n",
    "        #x = self.block6(x)\n",
    "        #print(f\"After block6, x.shape: {x.shape}\")\n",
    "        # x = self.pool(x)\n",
    "        x = self.flatten(x)\n",
    "        #print(f\"After flattening, x.shape: {x.shape}\") #After flattening, x.shape: torch.Size([128, 512])\n",
    "        x = self.dense1(x)\n",
    "        #print(f\"After dense1, x.shape: {x.shape}\") #After dense1, x.shape: torch.Size([128, 256])\n",
    "        x = self.dense2(x)\n",
    "        #print(f\"After dense2, x.shape: {x.shape}\") #After dense2, x.shape: torch.Size([128, 10])\n",
    "        #x = self.dense3(x)\n",
    "        return x\n",
    "\n",
    "\n",
    "    # def forward(self, x):\n",
    "    #     #print(f\"After input, x.shape: {x.shape}\") #After input, x.shape: torch.Size([128, 3, 32, 32])\n",
    "    #     x = self.blockA(x)\n",
    "    #     #print(f\"After blockA, x.shape: {x.shape}\") #After blockA, x.shape: torch.Size([128, 512, 16, 16])\n",
    "    #     x = self.poolA(x)\n",
    "    #     #print(f\"After poolA, x.shape: {x.shape}\") #After poolA, x.shape: torch.Size([128, 512, 1, 1])\n",
    "    #\n",
    "    #     x = self.flatten(x)\n",
    "    #     #print(f\"After flattening, x.shape: {x.shape}\") #After flattening, x.shape: torch.Size([128, 512])\n",
    "    #     x = self.denseA(x)\n",
    "    #     #print(f\"After denseA, x.shape: {x.shape}\") #After denseA, x.shape: torch.Size([128, 10])\n",
    "    #     return x\n"
   ]
  },
  {
   "cell_type": "code",
   "execution_count": 36,
   "outputs": [
    {
     "data": {
      "text/plain": "Sequential(\n  (0): VGGBlock(\n    (conv1): Conv2d(3, 512, kernel_size=(3, 3), stride=(1, 1), padding=(1, 1), bias=False)\n    (conv2): Conv2d(512, 512, kernel_size=(3, 3), stride=(1, 1), padding=(1, 1), bias=False)\n    (conv3): Conv2d(512, 512, kernel_size=(3, 3), stride=(1, 1), padding=(1, 1), bias=False)\n    (conv4): Conv2d(512, 512, kernel_size=(3, 3), stride=(1, 1), padding=(1, 1), bias=False)\n    (pool): MaxPool2d(kernel_size=2, stride=2, padding=0, dilation=1, ceil_mode=False)\n    (bn1): BatchNorm2d(512, eps=1e-05, momentum=0.1, affine=True, track_running_stats=True)\n    (bn2): BatchNorm2d(512, eps=1e-05, momentum=0.1, affine=True, track_running_stats=True)\n    (bn3): BatchNorm2d(512, eps=1e-05, momentum=0.1, affine=True, track_running_stats=True)\n    (bn4): BatchNorm2d(512, eps=1e-05, momentum=0.1, affine=True, track_running_stats=True)\n  )\n  (1): MaxPool2d(kernel_size=16, stride=16, padding=0, dilation=1, ceil_mode=False)\n  (2): Flatten(start_dim=1, end_dim=-1)\n  (3): Linear(in_features=512, out_features=10, bias=True)\n)"
     },
     "execution_count": 36,
     "metadata": {},
     "output_type": "execute_result"
    }
   ],
   "source": [
    "#### MODEL\n",
    "## model = VGG18()\n",
    "## model.to(device) # Place model on GPU-\n",
    "\n",
    "\n",
    "# Alternative with using a separate sequential model\n",
    "# Initialize VGG-18 CNN model-\n",
    "\n",
    "\n",
    "# # Initialize VGG-18 CNN model-\n",
    "# model = nn.Sequential(\n",
    "#     VGGBlock(input_channels = 3, num_channels = 64),\n",
    "#     VGGBlock(input_channels = 64, num_channels = 128),\n",
    "#     VGGBlock(input_channels = 128, num_channels = 256, use_extra_conv = True),\n",
    "#     VGGBlock(input_channels = 256, num_channels = 512, use_extra_conv = True),\n",
    "#     VGGBlock(input_channels = 512, num_channels = 512, use_extra_conv = True),\n",
    "#     nn.Flatten(),\n",
    "#     nn.Linear(in_features = 512, out_features = 256),\n",
    "#     nn.Linear(in_features = 256, out_features = 10)\n",
    "#     )\n",
    "\n",
    "# model.to(device) # Place model on GPU-\n",
    "\n",
    "\n",
    "model = nn.Sequential(\n",
    "    VGGBlock(input_channels = 3, num_channels = 512, use_extra_conv = True),\n",
    "    nn.MaxPool2d(kernel_size = 16, stride = 16),\n",
    "    nn.Flatten(),\n",
    "    nn.Linear(in_features = 512, out_features = 10)\n",
    "    )\n",
    "\n",
    "\n",
    "model.to(device) # Place model on GPU-\n"
   ],
   "metadata": {
    "collapsed": false,
    "pycharm": {
     "name": "#%%\n"
    }
   }
  },
  {
   "cell_type": "code",
   "execution_count": 37,
   "metadata": {
    "ExecuteTime": {
     "end_time": "2022-03-09T22:28:31.678479Z",
     "start_time": "2022-03-09T22:28:31.672440Z"
    },
    "id": "v_NeRxjgbOGE"
   },
   "outputs": [
    {
     "name": "stdout",
     "output_type": "stream",
     "text": [
      "torch.Size([128, 10])\n",
      "torch.Size([128, 3, 32, 32])\n"
     ]
    }
   ],
   "source": [
    "\n",
    "images = images.to(device)\n",
    "\n",
    "###Sanity check-\n",
    "model(images).shape\n",
    "print(model(images).shape) #torch.Size([128, 10])\n",
    "print(images.shape) #torch.Size([128, 3, 32, 32])\n"
   ]
  },
  {
   "cell_type": "code",
   "execution_count": 38,
   "metadata": {
    "ExecuteTime": {
     "end_time": "2022-03-09T22:28:38.771951Z",
     "start_time": "2022-03-09T22:28:38.761091Z"
    },
    "colab": {
     "base_uri": "https://localhost:8080/"
    },
    "id": "q8zux0jjsHq0",
    "outputId": "e986b7ad-171b-474c-cb60-2097fdecc112"
   },
   "outputs": [
    {
     "name": "stdout",
     "output_type": "stream",
     "text": [
      "layer.shape = torch.Size([512, 3, 3, 3]) HAS 13824 PARAMETERS\n",
      "layer.shape = torch.Size([512, 512, 3, 3]) HAS 2359296 PARAMETERS\n",
      "layer.shape = torch.Size([512, 512, 3, 3]) HAS 2359296 PARAMETERS\n",
      "layer.shape = torch.Size([512, 512, 3, 3]) HAS 2359296 PARAMETERS\n",
      "layer.shape = torch.Size([512]) HAS 512 PARAMETERS\n",
      "layer.shape = torch.Size([512]) HAS 512 PARAMETERS\n",
      "layer.shape = torch.Size([512]) HAS 512 PARAMETERS\n",
      "layer.shape = torch.Size([512]) HAS 512 PARAMETERS\n",
      "layer.shape = torch.Size([512]) HAS 512 PARAMETERS\n",
      "layer.shape = torch.Size([512]) HAS 512 PARAMETERS\n",
      "layer.shape = torch.Size([512]) HAS 512 PARAMETERS\n",
      "layer.shape = torch.Size([512]) HAS 512 PARAMETERS\n",
      "layer.shape = torch.Size([10, 512]) HAS 5120 PARAMETERS\n",
      "layer.shape = torch.Size([10]) HAS 10 PARAMETERS\n"
     ]
    }
   ],
   "source": [
    "# Count number of layer-wise parameters and total parameters-\n",
    "tot_params = 0\n",
    "for param in model.parameters():\n",
    "    print(f\"layer.shape = {param.shape} HAS {param.nelement()} PARAMETERS\")\n",
    "    tot_params += param.nelement()"
   ]
  },
  {
   "cell_type": "code",
   "execution_count": 39,
   "metadata": {
    "ExecuteTime": {
     "end_time": "2022-03-09T22:28:39.487378Z",
     "start_time": "2022-03-09T22:28:39.480484Z"
    },
    "colab": {
     "base_uri": "https://localhost:8080/"
    },
    "id": "Bp9X8qnOsY1t",
    "outputId": "161ec2b1-37d8-4676-dcf8-aa96cf9bfc3f"
   },
   "outputs": [
    {
     "name": "stdout",
     "output_type": "stream",
     "text": [
      "Total number of parameters in VGG-18 CNN = 7100938\n"
     ]
    }
   ],
   "source": [
    "print(f\"Total number of parameters in VGG-18 CNN = {tot_params}\")"
   ]
  },
  {
   "cell_type": "code",
   "execution_count": 40,
   "metadata": {
    "ExecuteTime": {
     "end_time": "2022-03-09T22:28:40.082657Z",
     "start_time": "2022-03-09T22:28:40.049047Z"
    },
    "id": "5WdKiWsLsZYN"
   },
   "outputs": [
    {
     "name": "stdout",
     "output_type": "stream",
     "text": [
      "0.conv1.weight has dimension = torch.Size([512, 3, 3, 3])\n",
      "0.conv2.weight has dimension = torch.Size([512, 512, 3, 3])\n",
      "0.conv3.weight has dimension = torch.Size([512, 512, 3, 3])\n",
      "0.conv4.weight has dimension = torch.Size([512, 512, 3, 3])\n",
      "0.bn1.weight has dimension = torch.Size([512])\n",
      "0.bn1.bias has dimension = torch.Size([512])\n",
      "0.bn1.running_mean has dimension = torch.Size([512])\n",
      "0.bn1.running_var has dimension = torch.Size([512])\n",
      "0.bn1.num_batches_tracked has dimension = torch.Size([])\n",
      "0.bn2.weight has dimension = torch.Size([512])\n",
      "0.bn2.bias has dimension = torch.Size([512])\n",
      "0.bn2.running_mean has dimension = torch.Size([512])\n",
      "0.bn2.running_var has dimension = torch.Size([512])\n",
      "0.bn2.num_batches_tracked has dimension = torch.Size([])\n",
      "0.bn3.weight has dimension = torch.Size([512])\n",
      "0.bn3.bias has dimension = torch.Size([512])\n",
      "0.bn3.running_mean has dimension = torch.Size([512])\n",
      "0.bn3.running_var has dimension = torch.Size([512])\n",
      "0.bn3.num_batches_tracked has dimension = torch.Size([])\n",
      "0.bn4.weight has dimension = torch.Size([512])\n",
      "0.bn4.bias has dimension = torch.Size([512])\n",
      "0.bn4.running_mean has dimension = torch.Size([512])\n",
      "0.bn4.running_var has dimension = torch.Size([512])\n",
      "0.bn4.num_batches_tracked has dimension = torch.Size([])\n",
      "3.weight has dimension = torch.Size([10, 512])\n",
      "3.bias has dimension = torch.Size([10])\n"
     ]
    }
   ],
   "source": [
    "# Print layer names-\n",
    "for layer in model.state_dict().keys():\n",
    "    print(f\"{layer} has dimension = {model.state_dict()[layer].shape}\")"
   ]
  },
  {
   "cell_type": "code",
   "execution_count": 41,
   "metadata": {
    "ExecuteTime": {
     "end_time": "2022-03-09T22:28:40.790057Z",
     "start_time": "2022-03-09T22:28:40.680525Z"
    },
    "id": "O_WUBfzFscrc"
   },
   "outputs": [],
   "source": [
    "# Save random initial weights-\n",
    "torch.save(model.state_dict(), 'VGG18_random_weights.pth')"
   ]
  },
  {
   "cell_type": "code",
   "execution_count": 42,
   "metadata": {
    "ExecuteTime": {
     "end_time": "2022-03-09T22:28:41.426304Z",
     "start_time": "2022-03-09T22:28:41.385621Z"
    },
    "colab": {
     "base_uri": "https://localhost:8080/"
    },
    "id": "Gdgada5J5mIR",
    "outputId": "4ad9e79d-a499-4831-c030-219544802967"
   },
   "outputs": [
    {
     "data": {
      "text/plain": "<All keys matched successfully>"
     },
     "execution_count": 42,
     "metadata": {},
     "output_type": "execute_result"
    }
   ],
   "source": [
    "# Load randomly initialised weights-\n",
    "model.load_state_dict(torch.load('VGG18_random_weights.pth'))"
   ]
  },
  {
   "cell_type": "code",
   "execution_count": 43,
   "metadata": {
    "ExecuteTime": {
     "end_time": "2022-03-09T22:28:42.069665Z",
     "start_time": "2022-03-09T22:28:42.064791Z"
    },
    "id": "OozQ7SF4st4U"
   },
   "outputs": [],
   "source": [
    "# Define loss function and optimizer-\n",
    "loss = nn.CrossEntropyLoss()\n",
    "\n",
    "# optimizer = torch.optim.Adam(model.parameters(), lr = LEARNING_RATE)\n",
    "optimizer = torch.optim.SGD(model.parameters(), lr = LEARNING_RATE, momentum = 0.9, weight_decay = 5e-4)"
   ]
  },
  {
   "cell_type": "code",
   "execution_count": 44,
   "metadata": {
    "ExecuteTime": {
     "end_time": "2022-03-09T22:28:42.978249Z",
     "start_time": "2022-03-09T22:28:42.974816Z"
    },
    "id": "stjVD5uus0xW"
   },
   "outputs": [],
   "source": [
    "def train_step(model, train_loader):\n",
    "    running_loss = 0.0\n",
    "    running_corrects = 0.0\n",
    "\n",
    "    for batch, (images, labels) in enumerate(train_loader):\n",
    "        # Attempt to push to GPU if available\n",
    "        images = images.to(device)\n",
    "        labels = labels.to(device)\n",
    "\n",
    "        # print(f\"batch # = {batch}\")\n",
    "\n",
    "        model.train()\n",
    "\n",
    "        # Forward pass-\n",
    "        outputs = model(images)\n",
    "\n",
    "        # Compute loss-\n",
    "        J = loss(outputs, labels)\n",
    "\n",
    "        # Backward pass-\n",
    "        optimizer.zero_grad()   # empty accumulated gradients\n",
    "\n",
    "        J.backward()    # perform backpropagation\n",
    "\n",
    "        # Updates parameters-\n",
    "        optimizer.step()\n",
    "        \n",
    "        # Compute model's performance statistics-\n",
    "        running_loss += J.item() * images.size(0)\n",
    "        _, predicted = torch.max(outputs, 1)\n",
    "        running_corrects += torch.sum(predicted == labels.data)\n",
    "\n",
    "        #'''\n",
    "        # Print information every 100 steps-\n",
    "        if (batch + 1) % 100 == 0:\n",
    "            print(f\"epoch {epoch + 1}/{num_epochs}, step {batch + 1}/{num_training_steps}, loss = {J.item():.4f}\")\n",
    "        #'''\n",
    "\n",
    "    epoch_loss = running_loss / len(train_dataset)\n",
    "    epoch_acc = (running_corrects.double() / len(train_dataset)) * 100\n",
    "    \n",
    "    return epoch_loss, epoch_acc.cpu().numpy()\n",
    "    \n"
   ]
  },
  {
   "cell_type": "code",
   "execution_count": 45,
   "metadata": {
    "ExecuteTime": {
     "end_time": "2022-03-09T22:28:43.346848Z",
     "start_time": "2022-03-09T22:28:43.342752Z"
    },
    "id": "0DyTwwRhcOeY"
   },
   "outputs": [],
   "source": [
    "def train_model_progress(model, train_loader):\n",
    "    '''\n",
    "    Function to perform one epoch of training by using 'train_loader'.\n",
    "    Returns loss and number of correct predictions for this epoch.\n",
    "    '''\n",
    "    running_loss = 0.0\n",
    "    running_corrects = 0.0\n",
    "    \n",
    "    model.train()\n",
    "    \n",
    "    with tqdm(train_loader, unit = 'batch') as tepoch:\n",
    "        for images, labels in tepoch:\n",
    "            tepoch.set_description(f\"Training: \")\n",
    "            \n",
    "            images = images.to(device)\n",
    "            labels = labels.to(device)\n",
    "            \n",
    "            # Get model predictions-\n",
    "            outputs = model(images)\n",
    "            \n",
    "            # Compute loss-\n",
    "            J = loss(outputs, labels)\n",
    "            \n",
    "            # Empty accumulated gradients-\n",
    "            optimizer.zero_grad()\n",
    "            \n",
    "            # Perform backprop-\n",
    "            J.backward()\n",
    "            \n",
    "            # Update parameters-\n",
    "            optimizer.step()\n",
    "            \n",
    "            # Compute model's performance statistics-\n",
    "            running_loss += J.item() * images.size(0)\n",
    "            _, predicted = torch.max(outputs, 1)\n",
    "            running_corrects += torch.sum(predicted == labels.data)\n",
    "            \n",
    "            tepoch.set_postfix(\n",
    "                loss = running_loss / len(train_dataset),\n",
    "                accuracy = (running_corrects.double().cpu().numpy() / len(train_dataset)) * 100\n",
    "            )\n",
    "            \n",
    "    \n",
    "    train_loss = running_loss / len(train_dataset)\n",
    "    train_acc = (running_corrects.double() / len(train_dataset)) * 100\n",
    "    \n",
    "\n",
    "    # return running_loss, running_corrects\n",
    "    return train_loss, train_acc.cpu().numpy()\n",
    "    \n"
   ]
  },
  {
   "cell_type": "code",
   "execution_count": 46,
   "metadata": {
    "ExecuteTime": {
     "end_time": "2022-03-09T22:28:43.786845Z",
     "start_time": "2022-03-09T22:28:43.779012Z"
    },
    "id": "lHUDSkX8s8Od"
   },
   "outputs": [],
   "source": [
    "def validate_step(model, test_loader):\n",
    "    total, correct = 0, 0\n",
    "    running_loss_val = 0.0\n",
    "\n",
    "    with torch.no_grad():\n",
    "        for images, labels in test_loader:\n",
    "\n",
    "            # Place features (images) and targets (labels) to GPU-\n",
    "            images = images.to(device)\n",
    "            labels = labels.to(device)\n",
    "\n",
    "            # Set model to evaluation mode-\n",
    "            model.eval()\n",
    "    \n",
    "            # Make predictions using trained model-\n",
    "            outputs = model(images)\n",
    "            _, y_pred = torch.max(outputs, 1)\n",
    "\n",
    "            # Compute validation loss-\n",
    "            J_val = loss(outputs, labels)\n",
    "\n",
    "            running_loss_val += J_val.item() * labels.size(0)\n",
    "    \n",
    "            # Total number of labels-\n",
    "            total += labels.size(0)\n",
    "\n",
    "            # Total number of correct predictions-\n",
    "            correct += (y_pred == labels).sum()\n",
    "\n",
    "    epoch_val_loss = running_loss_val / len(test_dataset)\n",
    "    val_acc = 100 * (correct / total)\n",
    "\n",
    "    return epoch_val_loss, val_acc.cpu().numpy()\n"
   ]
  },
  {
   "cell_type": "code",
   "execution_count": 47,
   "metadata": {
    "ExecuteTime": {
     "end_time": "2022-03-09T22:28:44.163046Z",
     "start_time": "2022-03-09T22:28:44.159201Z"
    },
    "id": "YymBc1UtcnEA"
   },
   "outputs": [],
   "source": [
    "def test_model_progress(model, test_loader):\n",
    "    total = 0.0\n",
    "    correct = 0.0\n",
    "    running_loss_val = 0.0\n",
    "\n",
    "    with torch.no_grad():\n",
    "        with tqdm(test_loader, unit = 'batch') as tepoch:\n",
    "            for images, labels in tepoch:\n",
    "                tepoch.set_description(f\"Validation: \")\n",
    "                \n",
    "                images = images.to(device)\n",
    "                labels = labels.to(device)\n",
    "                \n",
    "                # Set model to evaluation mode-\n",
    "                model.eval()\n",
    "            \n",
    "                # Predict using trained model-\n",
    "                outputs = model(images)\n",
    "                _, y_pred = torch.max(outputs, 1)\n",
    "                \n",
    "                # Compute validation loss-\n",
    "                J_val = loss(outputs, labels)\n",
    "                \n",
    "                running_loss_val += J_val.item() * labels.size(0)\n",
    "    \n",
    "                # Total number of labels-\n",
    "                total += labels.size(0)\n",
    "\n",
    "                # Total number of correct predictions-\n",
    "                correct += (y_pred == labels).sum()\n",
    "                \n",
    "                tepoch.set_postfix(\n",
    "                    val_loss = running_loss_val / len(test_dataset),\n",
    "                    val_acc = 100 * (correct.cpu().numpy() / total)\n",
    "                )\n",
    "            \n",
    "        \n",
    "    # return (running_loss_val, correct, total)\n",
    "    val_loss = running_loss_val / len(test_dataset)\n",
    "    val_acc = (correct / total) * 100\n",
    "\n",
    "    return val_loss, val_acc.cpu().numpy()\n"
   ]
  },
  {
   "cell_type": "code",
   "execution_count": 48,
   "metadata": {
    "ExecuteTime": {
     "end_time": "2022-03-09T22:29:11.252066Z",
     "start_time": "2022-03-09T22:28:44.541407Z"
    },
    "colab": {
     "base_uri": "https://localhost:8080/"
    },
    "id": "n5OVpgCicu1i",
    "outputId": "20d63dcf-26b5-4958-96f7-c134ef794420"
   },
   "outputs": [
    {
     "name": "stderr",
     "output_type": "stream",
     "text": [
      "Training: : 100%|██████████| 391/391 [01:34<00:00,  4.14batch/s, accuracy=25.6, loss=2.43] \n"
     ]
    }
   ],
   "source": [
    "# Sanity check-\n",
    "train_loss, train_acc = train_model_progress(model, train_loader)"
   ]
  },
  {
   "cell_type": "code",
   "execution_count": 49,
   "metadata": {
    "ExecuteTime": {
     "end_time": "2022-03-09T22:29:29.670104Z",
     "start_time": "2022-03-09T22:29:27.419510Z"
    },
    "colab": {
     "base_uri": "https://localhost:8080/"
    },
    "id": "AP1HjJC6c7nS",
    "outputId": "44c7dcd7-c693-4904-9328-d6cf916ab75f"
   },
   "outputs": [
    {
     "name": "stderr",
     "output_type": "stream",
     "text": [
      "Validation: : 100%|██████████| 79/79 [00:07<00:00, 11.10batch/s, val_acc=32.9, val_loss=1.76] \n"
     ]
    }
   ],
   "source": [
    "# Sanity check-\n",
    "val_loss, val_acc = test_model_progress(model, test_loader)"
   ]
  },
  {
   "cell_type": "markdown",
   "metadata": {
    "id": "gDIK4_3W8L95"
   },
   "source": [
    "### Train model _without_ learning rate scheduler, using early-stopping criterion"
   ]
  },
  {
   "cell_type": "code",
   "execution_count": 50,
   "metadata": {
    "ExecuteTime": {
     "end_time": "2022-03-09T22:29:32.887669Z",
     "start_time": "2022-03-09T22:29:32.883330Z"
    },
    "id": "NOytz_v9tPxV"
   },
   "outputs": [],
   "source": [
    "# Initialize parameters for Early Stopping manual implementation-\n",
    "best_val_loss = 100\n",
    "loc_patience = 0"
   ]
  },
  {
   "cell_type": "code",
   "execution_count": 51,
   "metadata": {
    "ExecuteTime": {
     "end_time": "2022-03-09T22:29:35.224857Z",
     "start_time": "2022-03-09T22:29:35.218723Z"
    },
    "id": "SbXa8wiR6OHv"
   },
   "outputs": [],
   "source": [
    "# User input parameters for Early Stopping in manual implementation-\n",
    "minimum_delta = 0.001\n",
    "patience = 3"
   ]
  },
  {
   "cell_type": "code",
   "execution_count": 52,
   "metadata": {
    "ExecuteTime": {
     "end_time": "2022-03-09T22:29:35.911480Z",
     "start_time": "2022-03-09T22:29:35.905765Z"
    },
    "id": "K1oqH6x25YFS"
   },
   "outputs": [],
   "source": [
    "training_history = {}"
   ]
  },
  {
   "cell_type": "code",
   "execution_count": 53,
   "metadata": {
    "ExecuteTime": {
     "end_time": "2022-03-09T22:30:36.012841Z",
     "start_time": "2022-03-09T22:29:36.947784Z"
    },
    "colab": {
     "base_uri": "https://localhost:8080/",
     "height": 1000
    },
    "id": "G7E2MwUJh-Dv",
    "outputId": "e29a407f-e25c-4b77-9ee2-3bd839eb7952"
   },
   "outputs": [
    {
     "name": "stderr",
     "output_type": "stream",
     "text": [
      "Training: : 100%|██████████| 391/391 [01:37<00:00,  4.00batch/s, accuracy=40.3, loss=1.62]  \n",
      "Validation: : 100%|██████████| 79/79 [00:07<00:00, 10.85batch/s, val_acc=43.7, val_loss=1.53] \n"
     ]
    },
    {
     "name": "stdout",
     "output_type": "stream",
     "text": [
      "\n",
      "epoch: 1 training loss = 1.6196, training accuracy = 40.32%, val_loss = 1.5274, val_accuracy = 43.74% & LR = 0.0100\n",
      "\n",
      "Saving model with lowest val_loss = 1.5274\n",
      "\n"
     ]
    },
    {
     "name": "stderr",
     "output_type": "stream",
     "text": [
      "Training: : 100%|██████████| 391/391 [01:37<00:00,  3.99batch/s, accuracy=50.2, loss=1.37]  \n",
      "Validation: : 100%|██████████| 79/79 [00:07<00:00, 11.12batch/s, val_acc=50, val_loss=1.39]   \n"
     ]
    },
    {
     "name": "stdout",
     "output_type": "stream",
     "text": [
      "\n",
      "epoch: 2 training loss = 1.3750, training accuracy = 50.25%, val_loss = 1.3947, val_accuracy = 50.02% & LR = 0.0100\n",
      "\n",
      "Saving model with lowest val_loss = 1.3947\n",
      "\n"
     ]
    }
   ],
   "source": [
    "for epoch in range(num_epochs):\n",
    "\n",
    "    if loc_patience >= patience:\n",
    "        print(\"\\n'EarlyStopping' called!\\n\")\n",
    "        break\n",
    "\n",
    "    train_loss, train_acc = train_model_progress(model, train_loader)\n",
    "    val_loss, val_acc = test_model_progress(model, test_loader)\n",
    "    \n",
    "    print(f\"\\nepoch: {epoch + 1} training loss = {train_loss:.4f}, \"\n",
    "          f\"training accuracy = {train_acc:.2f}%, val_loss = {val_loss:.4f}\"\n",
    "          f\", val_accuracy = {val_acc:.2f}% & \"\n",
    "          f\"LR = {optimizer.param_groups[0]['lr']:.4f}\\n\")\n",
    "    \n",
    "    training_history[epoch + 1] = {\n",
    "        'loss': train_loss, 'acc': train_acc,\n",
    "        'val_loss': val_loss, 'val_acc': val_acc,\n",
    "        'lr': optimizer.param_groups[0]['lr']\n",
    "    }\n",
    "\n",
    "    '''\n",
    "    # Save best weights achieved until now-\n",
    "    if (val_loss < best_val_loss):    \n",
    "        # update 'best_val_loss' variable to lowest loss encountered so far-\n",
    "        best_val_loss = val_loss\n",
    "\n",
    "        print(f\"Saving model with lowest val_loss = {val_loss:.4f}\\n\")\n",
    "        \n",
    "        # Save trained model with 'best' validation accuracy-\n",
    "        torch.save(model.state_dict(), \"VGG18_best_model.pth\")\n",
    "    '''\n",
    "\n",
    "    # Code for manual Early Stopping:\n",
    "    # if np.abs(val_loss < best_val_loss) >= minimum_delta:\n",
    "    if (val_loss < best_val_loss) and \\\n",
    "    (np.abs(val_loss - best_val_loss) >= minimum_delta):\n",
    "\n",
    "        # update 'best_val_loss' variable to lowest loss encountered so far-\n",
    "        best_val_loss = val_loss\n",
    "        \n",
    "        # reset 'loc_patience' variable-\n",
    "        loc_patience = 0\n",
    "\n",
    "        print(f\"Saving model with lowest val_loss = {val_loss:.4f}\\n\")\n",
    "        \n",
    "        # Save trained model with 'best' validation accuracy-\n",
    "        torch.save(model.state_dict(), \"VGG18_best_model.pth\")\n",
    "        \n",
    "    else:  # there is no improvement in monitored metric 'val_loss'\n",
    "        loc_patience += 1  # number of epochs without any improvement\n"
   ]
  },
  {
   "cell_type": "code",
   "execution_count": 54,
   "metadata": {
    "ExecuteTime": {
     "end_time": "2022-03-09T22:30:40.176364Z",
     "start_time": "2022-03-09T22:30:40.171075Z"
    },
    "colab": {
     "base_uri": "https://localhost:8080/"
    },
    "id": "qXesVlcAtj_U",
    "outputId": "fa906693-19de-4aa6-fe1c-b4d197346f26"
   },
   "outputs": [
    {
     "data": {
      "text/plain": "dict_keys([1, 2])"
     },
     "execution_count": 54,
     "metadata": {},
     "output_type": "execute_result"
    }
   ],
   "source": [
    "training_history.keys()"
   ]
  },
  {
   "cell_type": "code",
   "execution_count": 55,
   "metadata": {
    "ExecuteTime": {
     "end_time": "2022-03-09T22:30:42.676791Z",
     "start_time": "2022-03-09T22:30:42.666985Z"
    },
    "colab": {
     "base_uri": "https://localhost:8080/"
    },
    "id": "COrZUx-_P6Zx",
    "outputId": "66e63461-5f0b-436b-b4fd-5615ef5c769b"
   },
   "outputs": [
    {
     "data": {
      "text/plain": "dict_keys(['loss', 'acc', 'val_loss', 'val_acc', 'lr'])"
     },
     "execution_count": 55,
     "metadata": {},
     "output_type": "execute_result"
    }
   ],
   "source": [
    "training_history[2].keys()"
   ]
  },
  {
   "cell_type": "code",
   "execution_count": 56,
   "metadata": {
    "ExecuteTime": {
     "end_time": "2022-03-09T22:30:44.248604Z",
     "start_time": "2022-03-09T22:30:44.242444Z"
    },
    "colab": {
     "base_uri": "https://localhost:8080/"
    },
    "id": "D0ZrNvFoP_fZ",
    "outputId": "d1441b8f-507c-4044-93ae-c4a775c61fb7"
   },
   "outputs": [
    {
     "data": {
      "text/plain": "array(50.019997, dtype=float32)"
     },
     "execution_count": 56,
     "metadata": {},
     "output_type": "execute_result"
    }
   ],
   "source": [
    "training_history[2]['val_acc']"
   ]
  },
  {
   "cell_type": "code",
   "execution_count": 57,
   "metadata": {
    "ExecuteTime": {
     "end_time": "2022-03-09T22:30:45.221373Z",
     "start_time": "2022-03-09T22:30:45.215719Z"
    },
    "id": "yJkajjh9QGKK"
   },
   "outputs": [],
   "source": [
    "import pickle"
   ]
  },
  {
   "cell_type": "code",
   "execution_count": 58,
   "metadata": {
    "ExecuteTime": {
     "end_time": "2022-03-09T22:30:46.148842Z",
     "start_time": "2022-03-09T22:30:46.143861Z"
    },
    "id": "0G1TaNnnQHDI"
   },
   "outputs": [],
   "source": [
    "with open(\"VGG19_training_history.pkl\", \"wb\") as file:\n",
    "    pickle.dump(training_history, file)"
   ]
  },
  {
   "cell_type": "code",
   "execution_count": 59,
   "metadata": {
    "ExecuteTime": {
     "end_time": "2022-03-09T22:30:47.228350Z",
     "start_time": "2022-03-09T22:30:47.115151Z"
    },
    "id": "MuBmbE6CQuPO"
   },
   "outputs": [],
   "source": [
    "# Save trained weights-\n",
    "torch.save(model.state_dict(), 'VGG19_trained_weights.pth')"
   ]
  },
  {
   "cell_type": "markdown",
   "metadata": {},
   "source": [
    "### Train model with _learning rate scheduler_\n",
    "\n",
    "- Training dataset = 50000, batch size = 128, number of training steps/iterations = 50000 / 128 = 391\n",
    "\n",
    "- Initial learning rate warmup: 391 x 10 = 3910 steps or, 10 epochs at LR = 0.1\n",
    "\n",
    "- Until 25th epoch or, 9775 steps use LR = 0.1\n",
    "\n",
    "- From 26th epoch until 40th epoch or, 15640 steps use LR = 0.01\n",
    "\n",
    "- From 41st epoch until 50th epoch or, 19550 steps use LR = 0.001\n",
    "\n",
    "- From 51st epoch until 60th epoch use LR = 0.0001"
   ]
  },
  {
   "cell_type": "code",
   "execution_count": 60,
   "metadata": {
    "ExecuteTime": {
     "end_time": "2022-03-09T22:30:50.630632Z",
     "start_time": "2022-03-09T22:30:50.625853Z"
    }
   },
   "outputs": [],
   "source": [
    "boundaries = [9775, 15640, 19550]\n",
    "values = [0.1, 0.01, 0.001, 0.0001]"
   ]
  },
  {
   "cell_type": "code",
   "execution_count": 61,
   "metadata": {
    "ExecuteTime": {
     "end_time": "2022-03-09T22:30:52.173071Z",
     "start_time": "2022-03-09T22:30:52.167606Z"
    },
    "id": "OozQ7SF4st4U"
   },
   "outputs": [],
   "source": [
    "# Define loss function and optimizer-\n",
    "loss = nn.CrossEntropyLoss()\n",
    "\n",
    "# optimizer = torch.optim.Adam(model.parameters(), lr = LEARNING_RATE)\n",
    "optimizer = torch.optim.SGD(model.parameters(), lr = 0.0, momentum = 0.9, weight_decay = 5e-4)"
   ]
  },
  {
   "cell_type": "code",
   "execution_count": 62,
   "metadata": {
    "ExecuteTime": {
     "end_time": "2022-03-09T22:30:56.707047Z",
     "start_time": "2022-03-09T22:30:56.704103Z"
    }
   },
   "outputs": [
    {
     "data": {
      "text/plain": "0.0"
     },
     "execution_count": 62,
     "metadata": {},
     "output_type": "execute_result"
    }
   ],
   "source": [
    "# Sanity check-\n",
    "optimizer.param_groups[0]['lr']"
   ]
  },
  {
   "cell_type": "code",
   "execution_count": 63,
   "metadata": {
    "ExecuteTime": {
     "end_time": "2022-03-09T22:30:57.720401Z",
     "start_time": "2022-03-09T22:30:57.714641Z"
    }
   },
   "outputs": [],
   "source": [
    "def decay_function(step, boundaries = [9775, 15640, 19550], values = [0.1, 0.01, 0.001, 0.0001]):\n",
    "    '''\n",
    "    1 epoch has 391 steps/iterations using batch size used above.\n",
    "    \n",
    "    Until 25th epochs, or 25 x 391 = 9775 steps, use lr = 0.1\n",
    "    From 26th epoch until 40th epoch, or 15640 steps use LR = 0.01\n",
    "    From 41st epoch until 50th epoch or, 19550 steps use LR = 0.001\n",
    "    From 51st epoch until 60th epoch use LR = 0.0001\n",
    "    '''\n",
    "    \n",
    "    for idx, bound in enumerate(boundaries):\n",
    "        if step < bound:\n",
    "            return values[idx]\n",
    "\n",
    "    return values[-1]\n"
   ]
  },
  {
   "cell_type": "code",
   "execution_count": 64,
   "metadata": {
    "ExecuteTime": {
     "end_time": "2022-03-09T22:31:06.336618Z",
     "start_time": "2022-03-09T22:31:06.331015Z"
    }
   },
   "outputs": [
    {
     "data": {
      "text/plain": "\"\\ndef decay_function(step, boundaries = [15640, 19550], values = [0.01, 0.001, 0.0001]):\\n    '''\\n    1 epoch has 391 steps/iterations using batch size used above.\\n    \\n    Until 40 epochs, or 40 x 391 = 15640 steps, use lr = 0.01\\n    Until 50 epochs, or 50 x 391 = 19550 steps, use lr = 0.001\\n    \\n    For any remaining steps, use lr = 0.0001\\n    '''\\n    \\n    for idx, bound in enumerate(boundaries):\\n        if step < bound:\\n            return values[idx]\\n\\n    return values[-1]\\n\""
     },
     "execution_count": 64,
     "metadata": {},
     "output_type": "execute_result"
    }
   ],
   "source": [
    "\"\"\"\n",
    "def decay_function(step, boundaries = [15640, 19550], values = [0.01, 0.001, 0.0001]):\n",
    "    '''\n",
    "    1 epoch has 391 steps/iterations using batch size used above.\n",
    "    \n",
    "    Until 40 epochs, or 40 x 391 = 15640 steps, use lr = 0.01\n",
    "    Until 50 epochs, or 50 x 391 = 19550 steps, use lr = 0.001\n",
    "    \n",
    "    For any remaining steps, use lr = 0.0001\n",
    "    '''\n",
    "    \n",
    "    for idx, bound in enumerate(boundaries):\n",
    "        if step < bound:\n",
    "            return values[idx]\n",
    "\n",
    "    return values[-1]\n",
    "\"\"\""
   ]
  },
  {
   "cell_type": "code",
   "execution_count": 65,
   "metadata": {
    "ExecuteTime": {
     "end_time": "2022-03-09T22:31:07.346385Z",
     "start_time": "2022-03-09T22:31:07.344390Z"
    }
   },
   "outputs": [],
   "source": [
    "# decay_function(step = 2, boundaries = [0, 2, 4, 6, 8, 10], values = [10, 15, 20, 30, 40, 50, 60])"
   ]
  },
  {
   "cell_type": "code",
   "execution_count": 66,
   "metadata": {
    "ExecuteTime": {
     "end_time": "2022-03-09T22:31:08.560107Z",
     "start_time": "2022-03-09T22:31:08.554024Z"
    }
   },
   "outputs": [],
   "source": [
    "class schedule():\n",
    "\n",
    "    def __init__(self, initial_learning_rate = 0.1, warmup_steps = 1000, decay_func = None):\n",
    "        self.initial_learning_rate = initial_learning_rate\n",
    "        self.warmup_steps = warmup_steps\n",
    "        self.decay_func = decay_func\n",
    "        self.warmup_step_size = initial_learning_rate/warmup_steps\n",
    "        self.current_lr = 0\n",
    "\n",
    "    def get_lr(self, step):\n",
    "        if step == 0:\n",
    "            return self.current_lr\n",
    "        elif step <= self.warmup_steps:\n",
    "            self.current_lr+=self.warmup_step_size\n",
    "            return self.current_lr\n",
    "        elif step > self.warmup_steps:\n",
    "            if self.decay_func:\n",
    "                return self.decay_func(step)\n",
    "        else:\n",
    "            return self.current_lr\n"
   ]
  },
  {
   "cell_type": "code",
   "execution_count": 67,
   "metadata": {
    "ExecuteTime": {
     "end_time": "2022-03-09T22:31:09.592134Z",
     "start_time": "2022-03-09T22:31:09.586814Z"
    }
   },
   "outputs": [],
   "source": [
    "# 391 x 10 = 3910 steps (or, 10 epochs) is learning rate warmup\n",
    "custom_lr_scheduler = schedule(\n",
    "    initial_learning_rate = 0.1, warmup_steps = 3910,\n",
    "    decay_func = decay_function\n",
    ")"
   ]
  },
  {
   "cell_type": "code",
   "execution_count": 68,
   "metadata": {
    "ExecuteTime": {
     "end_time": "2022-03-09T22:31:11.079525Z",
     "start_time": "2022-03-09T22:31:11.073671Z"
    }
   },
   "outputs": [],
   "source": [
    "step = 0"
   ]
  },
  {
   "cell_type": "code",
   "execution_count": 69,
   "metadata": {
    "ExecuteTime": {
     "end_time": "2022-03-09T22:31:13.106143Z",
     "start_time": "2022-03-09T22:31:13.098742Z"
    },
    "id": "0DyTwwRhcOeY"
   },
   "outputs": [],
   "source": [
    "def train_model_progress(model, train_loader):\n",
    "    '''\n",
    "    Function to perform one epoch of training by using 'train_loader'.\n",
    "    Returns loss and number of correct predictions for this epoch.\n",
    "    '''\n",
    "    running_loss = 0.0\n",
    "    running_corrects = 0.0\n",
    "    \n",
    "    model.train()\n",
    "    \n",
    "    with tqdm(train_loader, unit = 'batch') as tepoch:\n",
    "        for images, labels in tepoch:\n",
    "            tepoch.set_description(f\"Training: \")\n",
    "            \n",
    "            images = images.to(device)\n",
    "            labels = labels.to(device)\n",
    "            \n",
    "            # Get model predictions-\n",
    "            outputs = model(images)\n",
    "            \n",
    "            # Compute loss-\n",
    "            J = loss(outputs, labels)\n",
    "            \n",
    "            # Empty accumulated gradients-\n",
    "            optimizer.zero_grad()\n",
    "            \n",
    "            # Perform backprop-\n",
    "            J.backward()\n",
    "            \n",
    "            # Update parameters-\n",
    "            optimizer.step()\n",
    "            \n",
    "            global step\n",
    "            optimizer.param_groups[0]['lr'] = custom_lr_scheduler.get_lr(step)\n",
    "\n",
    "            step += 1\n",
    "            \n",
    "            # Compute model's performance statistics-\n",
    "            running_loss += J.item() * images.size(0)\n",
    "            _, predicted = torch.max(outputs, 1)\n",
    "            running_corrects += torch.sum(predicted == labels.data)\n",
    "            \n",
    "            tepoch.set_postfix(\n",
    "                loss = running_loss / len(train_dataset),\n",
    "                accuracy = (running_corrects.double().cpu().numpy() / len(train_dataset)) * 100\n",
    "            )\n",
    "            \n",
    "    \n",
    "    train_loss = running_loss / len(train_dataset)\n",
    "    train_acc = (running_corrects.double() / len(train_dataset)) * 100\n",
    "    \n",
    "\n",
    "    # return running_loss, running_corrects\n",
    "    return train_loss, train_acc.cpu().numpy()\n",
    "    \n"
   ]
  },
  {
   "cell_type": "code",
   "execution_count": 70,
   "metadata": {
    "ExecuteTime": {
     "end_time": "2022-03-09T22:31:14.501932Z",
     "start_time": "2022-03-09T22:31:14.495425Z"
    },
    "id": "YymBc1UtcnEA"
   },
   "outputs": [],
   "source": [
    "def test_model_progress(model, test_loader):\n",
    "    total = 0.0\n",
    "    correct = 0.0\n",
    "    running_loss_val = 0.0\n",
    "\n",
    "    with torch.no_grad():\n",
    "        with tqdm(test_loader, unit = 'batch') as tepoch:\n",
    "            for images, labels in tepoch:\n",
    "                tepoch.set_description(f\"Validation: \")\n",
    "                \n",
    "                images = images.to(device)\n",
    "                labels = labels.to(device)\n",
    "                \n",
    "                # Set model to evaluation mode-\n",
    "                model.eval()\n",
    "            \n",
    "                # Predict using trained model-\n",
    "                outputs = model(images)\n",
    "                _, y_pred = torch.max(outputs, 1)\n",
    "                \n",
    "                # Compute validation loss-\n",
    "                J_val = loss(outputs, labels)\n",
    "                \n",
    "                running_loss_val += J_val.item() * labels.size(0)\n",
    "    \n",
    "                # Total number of labels-\n",
    "                total += labels.size(0)\n",
    "\n",
    "                # Total number of correct predictions-\n",
    "                correct += (y_pred == labels).sum()\n",
    "                \n",
    "                tepoch.set_postfix(\n",
    "                    val_loss = running_loss_val / len(test_dataset),\n",
    "                    val_acc = 100 * (correct.cpu().numpy() / total)\n",
    "                )\n",
    "            \n",
    "        \n",
    "    # return (running_loss_val, correct, total)\n",
    "    val_loss = running_loss_val / len(test_dataset)\n",
    "    val_acc = (correct / total) * 100\n",
    "\n",
    "    return val_loss, val_acc.cpu().numpy()\n"
   ]
  },
  {
   "cell_type": "code",
   "execution_count": 71,
   "metadata": {
    "ExecuteTime": {
     "end_time": "2022-03-09T22:31:16.103469Z",
     "start_time": "2022-03-09T22:31:16.097724Z"
    }
   },
   "outputs": [],
   "source": [
    "training_history_lr_scheduler = {}"
   ]
  },
  {
   "cell_type": "code",
   "execution_count": 72,
   "metadata": {
    "ExecuteTime": {
     "end_time": "2022-03-09T22:31:17.647399Z",
     "start_time": "2022-03-09T22:31:17.642685Z"
    },
    "id": "NOytz_v9tPxV"
   },
   "outputs": [],
   "source": [
    "# Initialize parameters for Early Stopping manual implementation-\n",
    "best_val_loss = 100\n",
    "loc_patience = 0"
   ]
  },
  {
   "cell_type": "code",
   "execution_count": 73,
   "metadata": {
    "ExecuteTime": {
     "end_time": "2022-03-09T22:32:17.576632Z",
     "start_time": "2022-03-09T22:31:19.475194Z"
    }
   },
   "outputs": [
    {
     "name": "stderr",
     "output_type": "stream",
     "text": [
      "Training: : 100%|██████████| 391/391 [01:34<00:00,  4.15batch/s, accuracy=58.7, loss=1.16]  \n",
      "Validation: : 100%|██████████| 79/79 [00:07<00:00, 11.04batch/s, val_acc=59.4, val_loss=1.13] \n"
     ]
    },
    {
     "name": "stdout",
     "output_type": "stream",
     "text": [
      "\n",
      "epoch: 1 training loss = 1.1558, training accuracy = 58.68%, val_loss = 1.1322, val_accuracy = 59.41% & LR = 0.0100\n",
      "\n",
      "Saving model with lowest val_loss = 1.1322\n",
      "\n"
     ]
    },
    {
     "name": "stderr",
     "output_type": "stream",
     "text": [
      "Training: : 100%|██████████| 391/391 [01:36<00:00,  4.07batch/s, accuracy=57.4, loss=1.21]  \n",
      "Validation: : 100%|██████████| 79/79 [00:07<00:00, 11.01batch/s, val_acc=60.2, val_loss=1.12] \n"
     ]
    },
    {
     "name": "stdout",
     "output_type": "stream",
     "text": [
      "\n",
      "epoch: 2 training loss = 1.2076, training accuracy = 57.38%, val_loss = 1.1154, val_accuracy = 60.21% & LR = 0.0200\n",
      "\n",
      "Saving model with lowest val_loss = 1.1154\n",
      "\n"
     ]
    }
   ],
   "source": [
    "for epoch in range(num_epochs):\n",
    "\n",
    "    train_loss, train_acc = train_model_progress(model, train_loader)\n",
    "    val_loss, val_acc = test_model_progress(model, test_loader)\n",
    "    \n",
    "    print(f\"\\nepoch: {epoch + 1} training loss = {train_loss:.4f}, \"\n",
    "          f\"training accuracy = {train_acc:.2f}%, val_loss = {val_loss:.4f}\"\n",
    "          f\", val_accuracy = {val_acc:.2f}% & \"\n",
    "          f\"LR = {optimizer.param_groups[0]['lr']:.4f}\\n\")\n",
    "    \n",
    "    training_history_lr_scheduler[epoch + 1] = {\n",
    "        'loss': train_loss, 'acc': train_acc,\n",
    "        'val_loss': val_loss, 'val_acc': val_acc,\n",
    "        'lr': optimizer.param_groups[0]['lr']\n",
    "    }\n",
    "\n",
    "    \n",
    "    # Save best weights achieved until now-\n",
    "    if (val_loss < best_val_loss):    \n",
    "        # update 'best_val_loss' variable to lowest loss encountered so far-\n",
    "        best_val_loss = val_loss\n",
    "\n",
    "        print(f\"Saving model with lowest val_loss = {val_loss:.4f}\\n\")\n",
    "        \n",
    "        # Save trained model with 'best' validation accuracy-\n",
    "        torch.save(model.state_dict(), \"VGG18_best_model.pth\")\n",
    "    \n"
   ]
  },
  {
   "cell_type": "code",
   "execution_count": 77,
   "metadata": {
    "ExecuteTime": {
     "end_time": "2022-03-09T22:32:30.877909Z",
     "start_time": "2022-03-09T22:32:30.764875Z"
    }
   },
   "outputs": [],
   "source": [
    "# Save model from last training epoch-\n",
    "torch.save(model.state_dict(), \"VGG18_last_epoch_model.pth\")"
   ]
  },
  {
   "cell_type": "code",
   "execution_count": 79,
   "metadata": {
    "ExecuteTime": {
     "end_time": "2022-03-09T22:32:32.069852Z",
     "start_time": "2022-03-09T22:32:31.937219Z"
    }
   },
   "outputs": [],
   "source": [
    "# Sanity check- Load model from before-\n",
    "\n",
    "\n",
    "# best_model = nn.Sequential(\n",
    "#     VGGBlock(input_channels = 3, num_channels = 64),\n",
    "#     VGGBlock(input_channels = 64, num_channels = 128),\n",
    "#     VGGBlock(input_channels = 128, num_channels = 256, use_extra_conv = True),\n",
    "#     VGGBlock(input_channels = 256, num_channels = 512, use_extra_conv = True),\n",
    "#     VGGBlock(input_channels = 512, num_channels = 512, use_extra_conv = True),\n",
    "#     nn.Flatten(),\n",
    "#     nn.Linear(in_features = 512, out_features = 256),\n",
    "#     nn.Linear(in_features = 256, out_features = 10)\n",
    "#)\n",
    "\n",
    "\n",
    "best_model = nn.Sequential(\n",
    "    VGGBlock(input_channels = 3, num_channels = 512, use_extra_conv = True),\n",
    "    nn.MaxPool2d(kernel_size = 16, stride = 16),\n",
    "    nn.Flatten(),\n",
    "    nn.Linear(in_features = 512, out_features = 10)\n",
    "    )\n"
   ]
  },
  {
   "cell_type": "code",
   "execution_count": 80,
   "metadata": {
    "ExecuteTime": {
     "end_time": "2022-03-09T22:32:32.976340Z",
     "start_time": "2022-03-09T22:32:32.924517Z"
    }
   },
   "outputs": [
    {
     "data": {
      "text/plain": "<All keys matched successfully>"
     },
     "execution_count": 80,
     "metadata": {},
     "output_type": "execute_result"
    }
   ],
   "source": [
    "best_model.load_state_dict(torch.load('VGG18_best_model.pth'))"
   ]
  },
  {
   "cell_type": "code",
   "execution_count": 81,
   "metadata": {
    "ExecuteTime": {
     "end_time": "2022-03-09T22:32:35.965692Z",
     "start_time": "2022-03-09T22:32:35.940161Z"
    }
   },
   "outputs": [
    {
     "data": {
      "text/plain": "Sequential(\n  (0): VGGBlock(\n    (conv1): Conv2d(3, 512, kernel_size=(3, 3), stride=(1, 1), padding=(1, 1), bias=False)\n    (conv2): Conv2d(512, 512, kernel_size=(3, 3), stride=(1, 1), padding=(1, 1), bias=False)\n    (conv3): Conv2d(512, 512, kernel_size=(3, 3), stride=(1, 1), padding=(1, 1), bias=False)\n    (conv4): Conv2d(512, 512, kernel_size=(3, 3), stride=(1, 1), padding=(1, 1), bias=False)\n    (pool): MaxPool2d(kernel_size=2, stride=2, padding=0, dilation=1, ceil_mode=False)\n    (bn1): BatchNorm2d(512, eps=1e-05, momentum=0.1, affine=True, track_running_stats=True)\n    (bn2): BatchNorm2d(512, eps=1e-05, momentum=0.1, affine=True, track_running_stats=True)\n    (bn3): BatchNorm2d(512, eps=1e-05, momentum=0.1, affine=True, track_running_stats=True)\n    (bn4): BatchNorm2d(512, eps=1e-05, momentum=0.1, affine=True, track_running_stats=True)\n  )\n  (1): MaxPool2d(kernel_size=16, stride=16, padding=0, dilation=1, ceil_mode=False)\n  (2): Flatten(start_dim=1, end_dim=-1)\n  (3): Linear(in_features=512, out_features=10, bias=True)\n)"
     },
     "execution_count": 81,
     "metadata": {},
     "output_type": "execute_result"
    }
   ],
   "source": [
    "# Place model on GPU-\n",
    "best_model.to(device)"
   ]
  },
  {
   "cell_type": "code",
   "execution_count": 82,
   "metadata": {
    "ExecuteTime": {
     "end_time": "2022-03-09T22:32:39.046652Z",
     "start_time": "2022-03-09T22:32:36.756883Z"
    }
   },
   "outputs": [
    {
     "name": "stderr",
     "output_type": "stream",
     "text": [
      "Validation: : 100%|██████████| 79/79 [00:06<00:00, 11.36batch/s, val_acc=60.2, val_loss=1.12] \n"
     ]
    }
   ],
   "source": [
    "val_loss, val_acc = test_model_progress(best_model, test_loader)"
   ]
  },
  {
   "cell_type": "code",
   "execution_count": 83,
   "metadata": {
    "ExecuteTime": {
     "end_time": "2022-03-09T22:32:41.273051Z",
     "start_time": "2022-03-09T22:32:41.268263Z"
    }
   },
   "outputs": [
    {
     "name": "stdout",
     "output_type": "stream",
     "text": [
      "VGG-18 'best' model metrics: val_loss = 1.1154 & val_acc = 60.21%\n"
     ]
    }
   ],
   "source": [
    "print(f\"VGG-18 'best' model metrics: val_loss = {val_loss:.4f} & val_acc = {val_acc:.2f}%\")"
   ]
  },
  {
   "cell_type": "code",
   "execution_count": 84,
   "metadata": {
    "ExecuteTime": {
     "end_time": "2022-03-09T22:32:42.315464Z",
     "start_time": "2022-03-09T22:32:42.313307Z"
    }
   },
   "outputs": [],
   "source": [
    "del best_model"
   ]
  },
  {
   "cell_type": "code",
   "execution_count": 86,
   "metadata": {
    "ExecuteTime": {
     "end_time": "2022-03-09T22:32:43.632218Z",
     "start_time": "2022-03-09T22:32:43.497690Z"
    },
    "id": "RMcYwZYBr8io"
   },
   "outputs": [],
   "source": [
    "# Sanity check- Load model from before-\n",
    "\n",
    "\n",
    "# trained_model = nn.Sequential(\n",
    "#     VGGBlock(input_channels = 3, num_channels = 64),\n",
    "#     VGGBlock(input_channels = 64, num_channels = 128),\n",
    "#     VGGBlock(input_channels = 128, num_channels = 256, use_extra_conv = True),\n",
    "#     VGGBlock(input_channels = 256, num_channels = 512, use_extra_conv = True),\n",
    "#     VGGBlock(input_channels = 512, num_channels = 512, use_extra_conv = True),\n",
    "#     nn.Flatten(),\n",
    "#     nn.Linear(in_features = 512, out_features = 256),\n",
    "#     nn.Linear(in_features = 256, out_features = 10)\n",
    "#     )\n",
    "\n",
    "\n",
    "\n",
    "\n",
    "trained_model = nn.Sequential(\n",
    "    VGGBlock(input_channels = 3, num_channels = 512, use_extra_conv = True),\n",
    "    nn.MaxPool2d(kernel_size = 16, stride = 16),\n",
    "    nn.Flatten(),\n",
    "    nn.Linear(in_features = 512, out_features = 10)\n",
    "    )\n"
   ]
  },
  {
   "cell_type": "code",
   "execution_count": 87,
   "metadata": {
    "ExecuteTime": {
     "end_time": "2022-03-09T22:32:44.368465Z",
     "start_time": "2022-03-09T22:32:44.317260Z"
    }
   },
   "outputs": [
    {
     "data": {
      "text/plain": "<All keys matched successfully>"
     },
     "execution_count": 87,
     "metadata": {},
     "output_type": "execute_result"
    }
   ],
   "source": [
    "trained_model.load_state_dict(torch.load('VGG18_last_epoch_model.pth'))"
   ]
  },
  {
   "cell_type": "code",
   "execution_count": 88,
   "metadata": {
    "ExecuteTime": {
     "end_time": "2022-03-09T22:32:45.269201Z",
     "start_time": "2022-03-09T22:32:45.249475Z"
    }
   },
   "outputs": [
    {
     "data": {
      "text/plain": "Sequential(\n  (0): VGGBlock(\n    (conv1): Conv2d(3, 512, kernel_size=(3, 3), stride=(1, 1), padding=(1, 1), bias=False)\n    (conv2): Conv2d(512, 512, kernel_size=(3, 3), stride=(1, 1), padding=(1, 1), bias=False)\n    (conv3): Conv2d(512, 512, kernel_size=(3, 3), stride=(1, 1), padding=(1, 1), bias=False)\n    (conv4): Conv2d(512, 512, kernel_size=(3, 3), stride=(1, 1), padding=(1, 1), bias=False)\n    (pool): MaxPool2d(kernel_size=2, stride=2, padding=0, dilation=1, ceil_mode=False)\n    (bn1): BatchNorm2d(512, eps=1e-05, momentum=0.1, affine=True, track_running_stats=True)\n    (bn2): BatchNorm2d(512, eps=1e-05, momentum=0.1, affine=True, track_running_stats=True)\n    (bn3): BatchNorm2d(512, eps=1e-05, momentum=0.1, affine=True, track_running_stats=True)\n    (bn4): BatchNorm2d(512, eps=1e-05, momentum=0.1, affine=True, track_running_stats=True)\n  )\n  (1): MaxPool2d(kernel_size=16, stride=16, padding=0, dilation=1, ceil_mode=False)\n  (2): Flatten(start_dim=1, end_dim=-1)\n  (3): Linear(in_features=512, out_features=10, bias=True)\n)"
     },
     "execution_count": 88,
     "metadata": {},
     "output_type": "execute_result"
    }
   ],
   "source": [
    "# Place model on GPU-\n",
    "trained_model.to(device)"
   ]
  },
  {
   "cell_type": "code",
   "execution_count": 89,
   "metadata": {
    "ExecuteTime": {
     "end_time": "2022-03-09T22:32:51.524081Z",
     "start_time": "2022-03-09T22:32:49.268975Z"
    }
   },
   "outputs": [
    {
     "name": "stderr",
     "output_type": "stream",
     "text": [
      "Validation: : 100%|██████████| 79/79 [00:06<00:00, 11.45batch/s, val_acc=60.2, val_loss=1.12] \n"
     ]
    }
   ],
   "source": [
    "val_loss, val_acc = test_model_progress(trained_model, test_loader)"
   ]
  },
  {
   "cell_type": "code",
   "execution_count": 90,
   "metadata": {
    "ExecuteTime": {
     "end_time": "2022-03-09T22:32:52.904606Z",
     "start_time": "2022-03-09T22:32:52.899519Z"
    }
   },
   "outputs": [
    {
     "name": "stdout",
     "output_type": "stream",
     "text": [
      "VGG-18 trained model metrics: val_loss = 1.1154 & val_acc = 60.21%\n"
     ]
    }
   ],
   "source": [
    "print(f\"VGG-18 trained model metrics: val_loss = {val_loss:.4f} & val_acc = {val_acc:.2f}%\")"
   ]
  },
  {
   "cell_type": "code",
   "execution_count": 91,
   "metadata": {
    "ExecuteTime": {
     "end_time": "2022-03-09T22:32:53.915106Z",
     "start_time": "2022-03-09T22:32:53.908651Z"
    }
   },
   "outputs": [],
   "source": [
    "del trained_model"
   ]
  },
  {
   "cell_type": "markdown",
   "metadata": {},
   "source": [
    "### Observation:\n",
    "\n",
    "For this particular experiment, it seems that using ```val_loss``` as the metric to save the _best_ model is not the optimum choice.\n",
    "\n",
    "_Highest validation accuracy_ achieved = 92.92%."
   ]
  },
  {
   "cell_type": "code",
   "execution_count": 92,
   "metadata": {
    "ExecuteTime": {
     "end_time": "2022-03-09T22:32:55.314601Z",
     "start_time": "2022-03-09T22:32:55.308846Z"
    },
    "pycharm": {
     "name": "#%%\n"
    }
   },
   "outputs": [
    {
     "data": {
      "text/plain": "dict_keys([1, 2])"
     },
     "execution_count": 92,
     "metadata": {},
     "output_type": "execute_result"
    }
   ],
   "source": [
    "# Sanity check-\n",
    "training_history_lr_scheduler.keys()"
   ]
  },
  {
   "cell_type": "code",
   "execution_count": 96,
   "metadata": {
    "ExecuteTime": {
     "end_time": "2022-03-09T22:32:56.398633Z",
     "start_time": "2022-03-09T22:32:56.389761Z"
    }
   },
   "outputs": [
    {
     "ename": "KeyError",
     "evalue": "12",
     "output_type": "error",
     "traceback": [
      "\u001B[0;31m---------------------------------------------------------------------------\u001B[0m",
      "\u001B[0;31mKeyError\u001B[0m                                  Traceback (most recent call last)",
      "\u001B[0;32m/tmp/ipykernel_24888/965333236.py\u001B[0m in \u001B[0;36m<module>\u001B[0;34m\u001B[0m\n\u001B[0;32m----> 1\u001B[0;31m \u001B[0mtraining_history_lr_scheduler\u001B[0m\u001B[0;34m[\u001B[0m\u001B[0;36m12\u001B[0m\u001B[0;34m]\u001B[0m\u001B[0;34m.\u001B[0m\u001B[0mkeys\u001B[0m\u001B[0;34m(\u001B[0m\u001B[0;34m)\u001B[0m\u001B[0;34m\u001B[0m\u001B[0;34m\u001B[0m\u001B[0m\n\u001B[0m",
      "\u001B[0;31mKeyError\u001B[0m: 12"
     ]
    }
   ],
   "source": [
    "training_history_lr_scheduler[12].keys()"
   ]
  },
  {
   "cell_type": "code",
   "execution_count": 97,
   "metadata": {
    "ExecuteTime": {
     "end_time": "2022-03-09T22:32:59.226051Z",
     "start_time": "2022-03-09T22:32:59.220300Z"
    }
   },
   "outputs": [],
   "source": [
    "import pickle"
   ]
  },
  {
   "cell_type": "code",
   "execution_count": 98,
   "metadata": {
    "ExecuteTime": {
     "end_time": "2022-03-09T22:32:59.819503Z",
     "start_time": "2022-03-09T22:32:59.812288Z"
    }
   },
   "outputs": [],
   "source": [
    "# Save training metrics as Python3 history for later analysis-\n",
    "with open(\"VGG18_training_history_lr_scheduler.pkl\", \"wb\") as file:\n",
    "    pickle.dump(training_history_lr_scheduler, file)"
   ]
  },
  {
   "cell_type": "markdown",
   "metadata": {},
   "source": [
    "### Training Visualizations"
   ]
  },
  {
   "cell_type": "code",
   "execution_count": 99,
   "metadata": {
    "ExecuteTime": {
     "end_time": "2022-03-09T22:33:00.845382Z",
     "start_time": "2022-03-09T22:33:00.761744Z"
    }
   },
   "outputs": [
    {
     "data": {
      "text/plain": "<Figure size 648x504 with 1 Axes>",
      "image/png": "[encoded data removed]"
     },
     "metadata": {
      "needs_background": "light"
     },
     "output_type": "display_data"
    }
   ],
   "source": [
    "plt.figure(figsize = (9, 7))\n",
    "plt.plot(list(training_history_lr_scheduler.keys()), [training_history_lr_scheduler[k]['acc'] for k in training_history_lr_scheduler.keys()], label = 'training acc')\n",
    "plt.plot(list(training_history_lr_scheduler.keys()), [training_history_lr_scheduler[k]['val_acc'] for k in training_history_lr_scheduler.keys()], label = 'val acc')\n",
    "plt.title(\"VGG-18: Training Accuracy\")\n",
    "plt.xlabel(\"epochs\")\n",
    "plt.ylabel(\"accuracy (%)\")\n",
    "plt.legend(loc = 'best')\n",
    "plt.show()"
   ]
  },
  {
   "cell_type": "code",
   "execution_count": 100,
   "metadata": {
    "ExecuteTime": {
     "end_time": "2022-03-09T22:33:01.543242Z",
     "start_time": "2022-03-09T22:33:01.460504Z"
    }
   },
   "outputs": [
    {
     "data": {
      "text/plain": "<Figure size 648x504 with 1 Axes>",
      "image/png": "[encoded data removed]"
     },
     "metadata": {
      "needs_background": "light"
     },
     "output_type": "display_data"
    }
   ],
   "source": [
    "plt.figure(figsize = (9, 7))\n",
    "plt.plot(list(training_history_lr_scheduler.keys()), [training_history_lr_scheduler[k]['loss'] for k in training_history_lr_scheduler.keys()], label = 'training loss')\n",
    "plt.plot(list(training_history_lr_scheduler.keys()), [training_history_lr_scheduler[k]['val_loss'] for k in training_history_lr_scheduler.keys()], label = 'val loss')\n",
    "plt.xlabel(\"epochs\")\n",
    "plt.ylabel(\"loss\")\n",
    "plt.legend(loc = 'best')\n",
    "plt.title(\"VGG-18: Training Loss\")\n",
    "plt.show()"
   ]
  },
  {
   "cell_type": "code",
   "execution_count": 101,
   "metadata": {
    "ExecuteTime": {
     "end_time": "2022-03-09T22:33:02.017099Z",
     "start_time": "2022-03-09T22:33:01.944289Z"
    },
    "pycharm": {
     "name": "#%%\n"
    }
   },
   "outputs": [
    {
     "data": {
      "text/plain": "<Figure size 648x504 with 1 Axes>",
      "image/png": "[encoded data removed]"
     },
     "metadata": {
      "needs_background": "light"
     },
     "output_type": "display_data"
    }
   ],
   "source": [
    "plt.figure(figsize = (9, 7))\n",
    "plt.plot(list(training_history_lr_scheduler.keys()), [training_history_lr_scheduler[k]['lr'] for k in training_history_lr_scheduler.keys()])\n",
    "plt.xlabel(\"epochs\")\n",
    "plt.ylabel(\"lr\")\n",
    "plt.title(\"VGG-18: Learning-Rate\")\n",
    "plt.show()"
   ]
  },
  {
   "cell_type": "code",
   "execution_count": null,
   "outputs": [],
   "source": [],
   "metadata": {
    "collapsed": false,
    "pycharm": {
     "name": "#%%\n"
    }
   }
  }
 ],
 "metadata": {
  "accelerator": "GPU",
  "colab": {
   "collapsed_sections": [],
   "name": "VGG18_PyTorch.ipynb",
   "provenance": []
  },
  "kernelspec": {
   "display_name": "Python 3 (ipykernel)",
   "language": "python",
   "name": "python3"
  },
  "language_info": {
   "codemirror_mode": {
    "name": "ipython",
    "version": 3
   },
   "file_extension": ".py",
   "mimetype": "text/x-python",
   "name": "python",
   "nbconvert_exporter": "python",
   "pygments_lexer": "ipython3",
   "version": "3.8.12"
  }
 },
 "nbformat": 4,
 "nbformat_minor": 4
}