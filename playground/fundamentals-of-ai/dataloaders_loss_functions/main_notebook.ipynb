{
 "cells": [
  {
   "cell_type": "code",
   "execution_count": 1,
   "id": "4d1bdc2d",
   "metadata": {
    "ExecuteTime": {
     "end_time": "2022-02-14T11:22:08.666302Z",
     "start_time": "2022-02-14T11:22:08.392779Z"
    }
   },
   "outputs": [],
   "source": [
    "import torch\n",
    "import torch.nn as nn\n",
    "from torch.utils.data import Dataset, DataLoader, SubsetRandomSampler\n",
    "\n",
    "# https://towardsdatascience.com/pytorch-vision-binary-image-classification-d9a227705cf9 "
   ]
  },
  {
   "cell_type": "code",
   "execution_count": 2,
   "id": "909cd452",
   "metadata": {
    "ExecuteTime": {
     "end_time": "2022-02-14T11:22:08.670274Z",
     "start_time": "2022-02-14T11:22:08.667545Z"
    }
   },
   "outputs": [],
   "source": [
    "class CustomDataset(Dataset):\n",
    "    \n",
    "    def __init__(self, X_data, y_data):\n",
    "        self.X_data = X_data\n",
    "        self.y_data = y_data\n",
    "        \n",
    "    def __getitem__(self, index):\n",
    "        return self.X_data[index], self.y_data[index]\n",
    "        \n",
    "    def __len__ (self):\n",
    "        return len(self.X_data)\n",
    "    "
   ]
  },
  {
   "cell_type": "code",
   "execution_count": 3,
   "id": "311700ea",
   "metadata": {
    "ExecuteTime": {
     "end_time": "2022-02-14T11:22:08.696299Z",
     "start_time": "2022-02-14T11:22:08.671048Z"
    }
   },
   "outputs": [
    {
     "name": "stdout",
     "output_type": "stream",
     "text": [
      "[tensor([3., 9.]), tensor([0., 0.])]\n",
      "tensor([6., 9.]) tensor([1., 0.])\n",
      "tensor([10.,  7.]) tensor([1., 1.])\n",
      "tensor([3., 5.]) tensor([0., 0.])\n",
      "tensor([4., 2.]) tensor([1., 0.])\n",
      "tensor([8., 1.]) tensor([0., 0.])\n"
     ]
    }
   ],
   "source": [
    "X = [1, 2, 3, 4, 5, 6, 7, 8, 9, 10]\n",
    "y= [0, 0, 0, 1, 0, 1, 1, 0, 0, 1]\n",
    "data = CustomDataset(torch.FloatTensor(X), torch.FloatTensor(y))\n",
    "\n",
    "#data.__len__()#10\n",
    "#data.__getitem__(2) #(tensor(3.), tensor(0.))\n",
    "\n",
    "data_loader = DataLoader(dataset=data, batch_size=2, shuffle=True)\n",
    "data_loader_iter = iter(data_loader)\n",
    "print(next(data_loader_iter))\n",
    "\n",
    "\n",
    "for i,j in data_loader:\n",
    "    print(i,j)\n"
   ]
  },
  {
   "cell_type": "code",
   "execution_count": 4,
   "id": "09548185",
   "metadata": {
    "ExecuteTime": {
     "end_time": "2022-02-14T11:22:08.701259Z",
     "start_time": "2022-02-14T11:22:08.697380Z"
    }
   },
   "outputs": [
    {
     "name": "stdout",
     "output_type": "stream",
     "text": [
      "Y Pred: \n",
      " tensor([[1.2000, 2.3000, 3.4000],\n",
      "        [4.5000, 5.6000, 6.7000]], requires_grad=True)\n",
      "\n",
      "Y Pred shape:  torch.Size([2, 3]) \n",
      "\n",
      "==================================================\n",
      "\n",
      "Y Train: \n",
      " tensor([[1.2000, 2.3000, 3.4000],\n",
      "        [7.8000, 8.9000, 9.1000]])\n",
      "\n",
      "Y Train shape:  torch.Size([2, 3])\n"
     ]
    }
   ],
   "source": [
    "###############\n",
    "## Regression\n",
    "\n",
    "y_pred = torch.tensor([[1.2, 2.3, 3.4], [4.5, 5.6, 6.7]], requires_grad=True)\n",
    "print(\"Y Pred: \\n\", y_pred)\n",
    "print(\"\\nY Pred shape: \", y_pred.shape, \"\\n\")\n",
    "print(\"=\" * 50)\n",
    "y_train = torch.tensor([[1.2, 2.3, 3.4], [7.8, 8.9, 9.1]])\n",
    "print(\"\\nY Train: \\n\", y_train)\n",
    "print(\"\\nY Train shape: \", y_train.shape)"
   ]
  },
  {
   "cell_type": "code",
   "execution_count": 5,
   "id": "1f8b3260",
   "metadata": {
    "ExecuteTime": {
     "end_time": "2022-02-14T11:22:08.715792Z",
     "start_time": "2022-02-14T11:22:08.702125Z"
    }
   },
   "outputs": [
    {
     "name": "stdout",
     "output_type": "stream",
     "text": [
      "Y Pred: \n",
      " tensor([[1.2000, 2.3000, 3.4000],\n",
      "        [4.5000, 5.6000, 6.7000]], requires_grad=True)\n",
      "Y Train: \n",
      " tensor([[1.2000, 2.3000, 3.4000],\n",
      "        [7.8000, 8.9000, 9.1000]])\n",
      "MAE Loss\n",
      " tensor(1.5000, grad_fn=<L1LossBackward>)\n"
     ]
    }
   ],
   "source": [
    "### Mean Absolute Error — torch.nn.L1Loss()\n",
    "mae_loss = nn.L1Loss()\n",
    "print(\"Y Pred: \\n\", y_pred)\n",
    "print(\"Y Train: \\n\", y_train)\n",
    "output = mae_loss(y_pred, y_train)\n",
    "print(\"MAE Loss\\n\", output)\n",
    "output.backward()\n",
    "\n"
   ]
  },
  {
   "cell_type": "code",
   "execution_count": 6,
   "id": "a07fa9f5",
   "metadata": {
    "ExecuteTime": {
     "end_time": "2022-02-14T11:22:08.720979Z",
     "start_time": "2022-02-14T11:22:08.716485Z"
    }
   },
   "outputs": [
    {
     "name": "stdout",
     "output_type": "stream",
     "text": [
      "Y Pred: \n",
      " tensor([[1.2000, 2.3000, 3.4000],\n",
      "        [7.8000, 8.9000, 9.1000]], requires_grad=True)\n",
      "\n",
      "Y Pred shape:  torch.Size([2, 3]) \n",
      "\n",
      "==================================================\n",
      "\n",
      "Y Train: \n",
      " tensor([[1, 0, 1],\n",
      "        [0, 0, 1]])\n",
      "\n",
      "Y Train shape:  torch.Size([2, 3])\n"
     ]
    }
   ],
   "source": [
    "############################\n",
    "### Binary Classification\n",
    "# y_train has two classes - 0 and 1. \n",
    "# We use this BCE loss function in the situation when the final output \n",
    "# from the network is a single value (final dense layer is of size 1) that lies between 0 and 1.\n",
    "\n",
    "\n",
    "y_pred = torch.tensor([[1.2, 2.3, 3.4], [7.8, 8.9, 9.1]], requires_grad = True)\n",
    "print(\"Y Pred: \\n\", y_pred)\n",
    "print(\"\\nY Pred shape: \", y_pred.shape, \"\\n\")\n",
    "print(\"=\" * 50)\n",
    "y_train = torch.tensor([[1, 0, 1], [0, 0, 1]])\n",
    "print(\"\\nY Train: \\n\", y_train)\n",
    "print(\"\\nY Train shape: \", y_train.shape)\n",
    "\n"
   ]
  },
  {
   "cell_type": "code",
   "execution_count": 7,
   "id": "58f1742f",
   "metadata": {
    "ExecuteTime": {
     "end_time": "2022-02-14T11:22:08.753795Z",
     "start_time": "2022-02-14T11:22:08.721826Z"
    }
   },
   "outputs": [
    {
     "name": "stdout",
     "output_type": "stream",
     "text": [
      "Y Pred: \n",
      " tensor([[1.2000, 2.3000, 3.4000],\n",
      "        [7.8000, 8.9000, 9.1000]], requires_grad=True)\n",
      "\n",
      "Y Pred Sigmoid: \n",
      " tensor([[0.7685, 0.9089, 0.9677],\n",
      "        [0.9996, 0.9999, 0.9999]], grad_fn=<SigmoidBackward>)\n",
      "\n",
      "Y Train: \n",
      " tensor([[1., 0., 1.],\n",
      "        [0., 0., 1.]])\n",
      "\n",
      "BCE Loss\n",
      " tensor(3.2321, grad_fn=<BinaryCrossEntropyBackward>)\n"
     ]
    }
   ],
   "source": [
    "\n",
    "#Binary Cross Entropy Loss — torch.nn.BCELoss()\n",
    "bce_loss = nn.BCELoss()\n",
    "y_pred_sigmoid = torch.sigmoid(y_pred)\n",
    "print(\"Y Pred: \\n\", y_pred)\n",
    "print(\"\\nY Pred Sigmoid: \\n\", y_pred_sigmoid)\n",
    "print(\"\\nY Train: \\n\", y_train.float())\n",
    "output = bce_loss(y_pred_sigmoid, y_train.float())\n",
    "print(\"\\nBCE Loss\\n\", output)\n",
    "output.backward()\n"
   ]
  },
  {
   "cell_type": "code",
   "execution_count": 8,
   "id": "65c6ba1e",
   "metadata": {
    "ExecuteTime": {
     "end_time": "2022-02-14T11:22:08.758475Z",
     "start_time": "2022-02-14T11:22:08.754567Z"
    }
   },
   "outputs": [
    {
     "name": "stdout",
     "output_type": "stream",
     "text": [
      "Y Pred: \n",
      " tensor([[1.2000, 2.3000, 3.4000],\n",
      "        [7.8000, 8.9000, 9.1000]], requires_grad=True)\n",
      "\n",
      "Y Train: \n",
      " tensor([[1., 0., 1.],\n",
      "        [0., 0., 1.]])\n",
      "\n",
      "BCE Loss\n",
      " tensor(3.2321, grad_fn=<BinaryCrossEntropyWithLogitsBackward>)\n"
     ]
    }
   ],
   "source": [
    "#############################\n",
    "# Binary Cross Entropy with Logits Loss — torch.nn.BCEWithLogitsLoss()\n",
    "# The input and output have to be the same size and have the dtype float. \n",
    "# This class combines Sigmoid and BCELoss into a single class. \n",
    "# This version is numerically more stable than using Sigmoid and BCELoss individually.\n",
    "\n",
    "bce_logits_loss = nn.BCEWithLogitsLoss()\n",
    "print(\"Y Pred: \\n\", y_pred)\n",
    "print(\"\\nY Train: \\n\", y_train.float())\n",
    "output = bce_logits_loss(y_pred, y_train.float())\n",
    "print(\"\\nBCE Loss\\n\", output)\n",
    "output.backward()\n"
   ]
  },
  {
   "cell_type": "code",
   "execution_count": 9,
   "id": "dbfa9a1b",
   "metadata": {
    "ExecuteTime": {
     "end_time": "2022-02-14T11:22:08.762988Z",
     "start_time": "2022-02-14T11:22:08.759198Z"
    }
   },
   "outputs": [
    {
     "name": "stdout",
     "output_type": "stream",
     "text": [
      "Y Pred: \n",
      " tensor([[1.2000, 2.3000, 3.4000, 1.0000],\n",
      "        [4.5000, 5.6000, 6.7000, 1.0000],\n",
      "        [7.8000, 8.9000, 9.1000, 1.0000],\n",
      "        [7.8000, 8.9000, 9.1000, 1.0000]], requires_grad=True)\n",
      "\n",
      "Y Pred shape:  torch.Size([4, 4]) \n",
      "\n",
      "==================================================\n",
      "\n",
      "Y Train: \n",
      " tensor([0, 1, 2, 3])\n",
      "\n",
      "Y Train shape:  torch.Size([4])\n"
     ]
    }
   ],
   "source": [
    "################################\n",
    "################################\n",
    "################################\n",
    "################################\n",
    "## Multiclass Classification\n",
    "# Let’s define the actual and predicted output tensors in order to calculate the loss.\n",
    "# y_train has 3 classes 0, 1, 2, and 3.\n",
    "\n",
    "y_pred = torch.tensor([[1.2, 2.3, 3.4, 1.0], [4.5, 5.6, 6.7, 1.0], [7.8, 8.9, 9.1, 1.0], [7.8, 8.9, 9.1, 1.0]], requires_grad = True)\n",
    "print(\"Y Pred: \\n\", y_pred)\n",
    "print(\"\\nY Pred shape: \", y_pred.shape, \"\\n\")\n",
    "print(\"=\" * 50)\n",
    "y_train = torch.tensor([0, 1, 2, 3])\n",
    "print(\"\\nY Train: \\n\", y_train)\n",
    "print(\"\\nY Train shape: \", y_train.shape)\n"
   ]
  },
  {
   "cell_type": "code",
   "execution_count": 10,
   "id": "eca705fa",
   "metadata": {
    "ExecuteTime": {
     "end_time": "2022-02-14T11:22:08.767681Z",
     "start_time": "2022-02-14T11:22:08.763996Z"
    }
   },
   "outputs": [
    {
     "name": "stdout",
     "output_type": "stream",
     "text": [
      "Y Pred: \n",
      " tensor([[1.2000, 2.3000, 3.4000, 1.0000],\n",
      "        [4.5000, 5.6000, 6.7000, 1.0000],\n",
      "        [7.8000, 8.9000, 9.1000, 1.0000],\n",
      "        [7.8000, 8.9000, 9.1000, 1.0000]], requires_grad=True)\n",
      "\n",
      "Y Pred LogSoftmax: \n",
      " tensor([[-2.6281, -1.5281, -0.4281, -2.8281],\n",
      "        [-2.5695, -1.4695, -0.3695, -6.0695],\n",
      "        [-2.0379, -0.9379, -0.7379, -8.8379],\n",
      "        [-2.0379, -0.9379, -0.7379, -8.8379]], grad_fn=<LogSoftmaxBackward>)\n",
      "\n",
      "Y Train: \n",
      " tensor([0, 1, 2, 3])\n",
      "\n",
      "NLL Loss\n",
      " tensor(3.4184, grad_fn=<NllLossBackward>)\n"
     ]
    }
   ],
   "source": [
    "# Negative Log Likelihood — torch.nn.NLLLoss()\n",
    "\n",
    "nll_loss = nn.NLLLoss()\n",
    "y_pred_logsoftmax = torch.log_softmax(y_pred, dim = 1)\n",
    "print(\"Y Pred: \\n\", y_pred)\n",
    "print(\"\\nY Pred LogSoftmax: \\n\", y_pred_logsoftmax)\n",
    "print(\"\\nY Train: \\n\", y_train)\n",
    "output = nll_loss(y_pred_logsoftmax, y_train)\n",
    "print(\"\\nNLL Loss\\n\", output)\n",
    "output.backward()"
   ]
  },
  {
   "cell_type": "code",
   "execution_count": 11,
   "id": "590487f1",
   "metadata": {
    "ExecuteTime": {
     "end_time": "2022-02-14T11:22:08.771856Z",
     "start_time": "2022-02-14T11:22:08.768468Z"
    }
   },
   "outputs": [
    {
     "name": "stdout",
     "output_type": "stream",
     "text": [
      "Y Pred: \n",
      " tensor([[1.2000, 2.3000, 3.4000, 1.0000],\n",
      "        [4.5000, 5.6000, 6.7000, 1.0000],\n",
      "        [7.8000, 8.9000, 9.1000, 1.0000],\n",
      "        [7.8000, 8.9000, 9.1000, 1.0000]], requires_grad=True)\n",
      "\n",
      "Y Train: \n",
      " tensor([0, 1, 2, 3])\n",
      "\n",
      "NLL Loss\n",
      " tensor(3.4184, grad_fn=<NllLossBackward>)\n"
     ]
    }
   ],
   "source": [
    "# CrossEntropyLoss — torch.nn.CrossEntropyLoss()\n",
    "# This class combines LogSoftmax and NLLLoss into a single class.\n",
    "\n",
    "ce_loss = nn.CrossEntropyLoss()\n",
    "print(\"Y Pred: \\n\", y_pred)\n",
    "print(\"\\nY Train: \\n\", y_train)\n",
    "output = ce_loss(y_pred, y_train)\n",
    "print(\"\\nNLL Loss\\n\", output)\n",
    "output.backward()"
   ]
  },
  {
   "cell_type": "code",
   "execution_count": null,
   "id": "7bc693b9",
   "metadata": {},
   "outputs": [],
   "source": []
  },
  {
   "cell_type": "code",
   "execution_count": null,
   "id": "538c1628",
   "metadata": {},
   "outputs": [],
   "source": []
  },
  {
   "cell_type": "code",
   "execution_count": null,
   "id": "b1149968",
   "metadata": {},
   "outputs": [],
   "source": []
  }
 ],
 "metadata": {
  "kernelspec": {
   "display_name": "Python 3 (ipykernel)",
   "language": "python",
   "name": "python3"
  },
  "language_info": {
   "codemirror_mode": {
    "name": "ipython",
    "version": 3
   },
   "file_extension": ".py",
   "mimetype": "text/x-python",
   "name": "python",
   "nbconvert_exporter": "python",
   "pygments_lexer": "ipython3",
   "version": "3.8.12"
  }
 },
 "nbformat": 4,
 "nbformat_minor": 5
}
