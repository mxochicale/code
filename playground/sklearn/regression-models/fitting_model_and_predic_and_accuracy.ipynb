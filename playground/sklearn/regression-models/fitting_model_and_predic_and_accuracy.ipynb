{
 "cells": [
  {
   "cell_type": "code",
   "execution_count": 1,
   "id": "bd456d09",
   "metadata": {},
   "outputs": [],
   "source": [
    "# STEP-1: Importing Libraries & Data Set\n",
    "\n",
    "import pandas as pd\n",
    "import numpy as np\n",
    "\n",
    "import matplotlib.pyplot as plt\n",
    "import seaborn as sns\n",
    "\n",
    "import warnings\n",
    "warnings.simplefilter(action='ignore', category=FutureWarning)\n"
   ]
  },
  {
   "cell_type": "code",
   "execution_count": 2,
   "id": "f758279e",
   "metadata": {},
   "outputs": [],
   "source": [
    "#Read the Data \n",
    "\n",
    "insdata = pd.read_csv('insurance.csv')"
   ]
  },
  {
   "cell_type": "code",
   "execution_count": 3,
   "id": "fe372fa3",
   "metadata": {},
   "outputs": [
    {
     "data": {
      "text/html": [
       "<div>\n",
       "<style scoped>\n",
       "    .dataframe tbody tr th:only-of-type {\n",
       "        vertical-align: middle;\n",
       "    }\n",
       "\n",
       "    .dataframe tbody tr th {\n",
       "        vertical-align: top;\n",
       "    }\n",
       "\n",
       "    .dataframe thead th {\n",
       "        text-align: right;\n",
       "    }\n",
       "</style>\n",
       "<table border=\"1\" class=\"dataframe\">\n",
       "  <thead>\n",
       "    <tr style=\"text-align: right;\">\n",
       "      <th></th>\n",
       "      <th>age</th>\n",
       "      <th>sex</th>\n",
       "      <th>bmi</th>\n",
       "      <th>children</th>\n",
       "      <th>smoker</th>\n",
       "      <th>region</th>\n",
       "      <th>charges</th>\n",
       "    </tr>\n",
       "  </thead>\n",
       "  <tbody>\n",
       "    <tr>\n",
       "      <th>0</th>\n",
       "      <td>19</td>\n",
       "      <td>female</td>\n",
       "      <td>27.900</td>\n",
       "      <td>0</td>\n",
       "      <td>yes</td>\n",
       "      <td>southwest</td>\n",
       "      <td>16884.92400</td>\n",
       "    </tr>\n",
       "    <tr>\n",
       "      <th>1</th>\n",
       "      <td>18</td>\n",
       "      <td>male</td>\n",
       "      <td>33.770</td>\n",
       "      <td>1</td>\n",
       "      <td>no</td>\n",
       "      <td>southeast</td>\n",
       "      <td>1725.55230</td>\n",
       "    </tr>\n",
       "    <tr>\n",
       "      <th>2</th>\n",
       "      <td>28</td>\n",
       "      <td>male</td>\n",
       "      <td>33.000</td>\n",
       "      <td>3</td>\n",
       "      <td>no</td>\n",
       "      <td>southeast</td>\n",
       "      <td>4449.46200</td>\n",
       "    </tr>\n",
       "    <tr>\n",
       "      <th>3</th>\n",
       "      <td>33</td>\n",
       "      <td>male</td>\n",
       "      <td>22.705</td>\n",
       "      <td>0</td>\n",
       "      <td>no</td>\n",
       "      <td>northwest</td>\n",
       "      <td>21984.47061</td>\n",
       "    </tr>\n",
       "    <tr>\n",
       "      <th>4</th>\n",
       "      <td>32</td>\n",
       "      <td>male</td>\n",
       "      <td>28.880</td>\n",
       "      <td>0</td>\n",
       "      <td>no</td>\n",
       "      <td>northwest</td>\n",
       "      <td>3866.85520</td>\n",
       "    </tr>\n",
       "  </tbody>\n",
       "</table>\n",
       "</div>"
      ],
      "text/plain": [
       "   age     sex     bmi  children smoker     region      charges\n",
       "0   19  female  27.900         0    yes  southwest  16884.92400\n",
       "1   18    male  33.770         1     no  southeast   1725.55230\n",
       "2   28    male  33.000         3     no  southeast   4449.46200\n",
       "3   33    male  22.705         0     no  northwest  21984.47061\n",
       "4   32    male  28.880         0     no  northwest   3866.85520"
      ]
     },
     "execution_count": 3,
     "metadata": {},
     "output_type": "execute_result"
    }
   ],
   "source": [
    "# STEP-2:Exploratory Data Analysis (EDA)\n",
    "insdata.head(5)\n"
   ]
  },
  {
   "cell_type": "code",
   "execution_count": 4,
   "id": "ef37edcb",
   "metadata": {},
   "outputs": [
    {
     "name": "stdout",
     "output_type": "stream",
     "text": [
      "Dimensions: 1338 Rows and 7 Columns \n"
     ]
    }
   ],
   "source": [
    "print('Dimensions: {} Rows and {} Columns '.format(insdata.shape[0], insdata.shape[1]))\n"
   ]
  },
  {
   "cell_type": "code",
   "execution_count": 5,
   "id": "2ba8db6c",
   "metadata": {},
   "outputs": [
    {
     "data": {
      "text/html": [
       "<div>\n",
       "<style scoped>\n",
       "    .dataframe tbody tr th:only-of-type {\n",
       "        vertical-align: middle;\n",
       "    }\n",
       "\n",
       "    .dataframe tbody tr th {\n",
       "        vertical-align: top;\n",
       "    }\n",
       "\n",
       "    .dataframe thead th {\n",
       "        text-align: right;\n",
       "    }\n",
       "</style>\n",
       "<table border=\"1\" class=\"dataframe\">\n",
       "  <thead>\n",
       "    <tr style=\"text-align: right;\">\n",
       "      <th></th>\n",
       "      <th>age</th>\n",
       "      <th>bmi</th>\n",
       "      <th>children</th>\n",
       "      <th>charges</th>\n",
       "    </tr>\n",
       "  </thead>\n",
       "  <tbody>\n",
       "    <tr>\n",
       "      <th>count</th>\n",
       "      <td>1338.000000</td>\n",
       "      <td>1338.000000</td>\n",
       "      <td>1338.000000</td>\n",
       "      <td>1338.000000</td>\n",
       "    </tr>\n",
       "    <tr>\n",
       "      <th>mean</th>\n",
       "      <td>39.207025</td>\n",
       "      <td>30.663397</td>\n",
       "      <td>1.094918</td>\n",
       "      <td>13270.422265</td>\n",
       "    </tr>\n",
       "    <tr>\n",
       "      <th>std</th>\n",
       "      <td>14.049960</td>\n",
       "      <td>6.098187</td>\n",
       "      <td>1.205493</td>\n",
       "      <td>12110.011237</td>\n",
       "    </tr>\n",
       "    <tr>\n",
       "      <th>min</th>\n",
       "      <td>18.000000</td>\n",
       "      <td>15.960000</td>\n",
       "      <td>0.000000</td>\n",
       "      <td>1121.873900</td>\n",
       "    </tr>\n",
       "    <tr>\n",
       "      <th>25%</th>\n",
       "      <td>27.000000</td>\n",
       "      <td>26.296250</td>\n",
       "      <td>0.000000</td>\n",
       "      <td>4740.287150</td>\n",
       "    </tr>\n",
       "    <tr>\n",
       "      <th>50%</th>\n",
       "      <td>39.000000</td>\n",
       "      <td>30.400000</td>\n",
       "      <td>1.000000</td>\n",
       "      <td>9382.033000</td>\n",
       "    </tr>\n",
       "    <tr>\n",
       "      <th>75%</th>\n",
       "      <td>51.000000</td>\n",
       "      <td>34.693750</td>\n",
       "      <td>2.000000</td>\n",
       "      <td>16639.912515</td>\n",
       "    </tr>\n",
       "    <tr>\n",
       "      <th>max</th>\n",
       "      <td>64.000000</td>\n",
       "      <td>53.130000</td>\n",
       "      <td>5.000000</td>\n",
       "      <td>63770.428010</td>\n",
       "    </tr>\n",
       "  </tbody>\n",
       "</table>\n",
       "</div>"
      ],
      "text/plain": [
       "               age          bmi     children       charges\n",
       "count  1338.000000  1338.000000  1338.000000   1338.000000\n",
       "mean     39.207025    30.663397     1.094918  13270.422265\n",
       "std      14.049960     6.098187     1.205493  12110.011237\n",
       "min      18.000000    15.960000     0.000000   1121.873900\n",
       "25%      27.000000    26.296250     0.000000   4740.287150\n",
       "50%      39.000000    30.400000     1.000000   9382.033000\n",
       "75%      51.000000    34.693750     2.000000  16639.912515\n",
       "max      64.000000    53.130000     5.000000  63770.428010"
      ]
     },
     "execution_count": 5,
     "metadata": {},
     "output_type": "execute_result"
    }
   ],
   "source": [
    "# Descriptive stats\n",
    "\n",
    "insdata.describe()"
   ]
  },
  {
   "cell_type": "code",
   "execution_count": 6,
   "id": "8cbc945b",
   "metadata": {},
   "outputs": [
    {
     "name": "stdout",
     "output_type": "stream",
     "text": [
      "<class 'pandas.core.frame.DataFrame'>\n",
      "RangeIndex: 1338 entries, 0 to 1337\n",
      "Data columns (total 7 columns):\n",
      " #   Column    Non-Null Count  Dtype  \n",
      "---  ------    --------------  -----  \n",
      " 0   age       1338 non-null   int64  \n",
      " 1   sex       1338 non-null   object \n",
      " 2   bmi       1338 non-null   float64\n",
      " 3   children  1338 non-null   int64  \n",
      " 4   smoker    1338 non-null   object \n",
      " 5   region    1338 non-null   object \n",
      " 6   charges   1338 non-null   float64\n",
      "dtypes: float64(2), int64(2), object(3)\n",
      "memory usage: 73.3+ KB\n"
     ]
    }
   ],
   "source": [
    "# dataset information\n",
    "\n",
    "insdata.info()"
   ]
  },
  {
   "cell_type": "code",
   "execution_count": 7,
   "id": "34f420e8",
   "metadata": {},
   "outputs": [
    {
     "data": {
      "text/plain": [
       "age         0\n",
       "sex         0\n",
       "bmi         0\n",
       "children    0\n",
       "smoker      0\n",
       "region      0\n",
       "charges     0\n",
       "dtype: int64"
      ]
     },
     "execution_count": 7,
     "metadata": {},
     "output_type": "execute_result"
    }
   ],
   "source": [
    "insdata.isnull().sum()\n"
   ]
  },
  {
   "cell_type": "code",
   "execution_count": 8,
   "id": "49d80371",
   "metadata": {},
   "outputs": [
    {
     "data": {
      "text/plain": [
       "smoker\n",
       "no     1064\n",
       "yes     274\n",
       "Name: count, dtype: int64"
      ]
     },
     "execution_count": 8,
     "metadata": {},
     "output_type": "execute_result"
    }
   ],
   "source": [
    "insdata['smoker'].value_counts()\n"
   ]
  },
  {
   "cell_type": "code",
   "execution_count": 9,
   "id": "4bef8be5",
   "metadata": {},
   "outputs": [
    {
     "data": {
      "text/plain": [
       "region\n",
       "southeast    364\n",
       "southwest    325\n",
       "northwest    325\n",
       "northeast    324\n",
       "Name: count, dtype: int64"
      ]
     },
     "execution_count": 9,
     "metadata": {},
     "output_type": "execute_result"
    }
   ],
   "source": [
    "insdata['region'].value_counts()\n"
   ]
  },
  {
   "cell_type": "code",
   "execution_count": 10,
   "id": "98fd65ae",
   "metadata": {},
   "outputs": [],
   "source": [
    "# insdata_nogender = insdata.drop('sex', axis=1)\n",
    "# # insdata.drop('sex'\n",
    "# insdata_nogender.sample(5)\n",
    "# insdata_nogender.corr()\n",
    "# ValueError: could not convert string to float: 'yes'"
   ]
  },
  {
   "cell_type": "code",
   "execution_count": 11,
   "id": "f96a0e87",
   "metadata": {},
   "outputs": [
    {
     "data": {
      "text/plain": [
       "Text(0.5, 1.0, 'Age vs Charges')"
      ]
     },
     "execution_count": 11,
     "metadata": {},
     "output_type": "execute_result"
    },
    {
     "data": {
      "image/png": "[encoded data removed]",
      "text/plain": [
       "<Figure size 1200x800 with 1 Axes>"
      ]
     },
     "metadata": {},
     "output_type": "display_data"
    }
   ],
   "source": [
    "# Age vs Charges\n",
    "# the more the age the more will be insurance charge\n",
    "\n",
    "plt.figure(figsize = (12, 8))\n",
    "sns.barplot(x = 'age', y = 'charges', data = insdata)\n",
    "plt.title(\"Age vs Charges\")"
   ]
  },
  {
   "cell_type": "code",
   "execution_count": 12,
   "id": "886dd65c",
   "metadata": {},
   "outputs": [
    {
     "data": {
      "text/plain": [
       "Text(0.5, 1.0, 'sex vs charges')"
      ]
     },
     "execution_count": 12,
     "metadata": {},
     "output_type": "execute_result"
    },
    {
     "data": {
      "image/png": "[encoded data removed]",
      "text/plain": [
       "<Figure size 600x600 with 1 Axes>"
      ]
     },
     "metadata": {},
     "output_type": "display_data"
    }
   ],
   "source": [
    "# sex vs charges\n",
    "# males insurance charges more than females.\n",
    "\n",
    "plt.figure(figsize = (6, 6))\n",
    "sns.barplot(x = 'sex', y = 'charges', data = insdata)\n",
    "\n",
    "plt.title('sex vs charges')"
   ]
  },
  {
   "cell_type": "code",
   "execution_count": 13,
   "id": "a3155ab2",
   "metadata": {},
   "outputs": [
    {
     "data": {
      "text/plain": [
       "Text(0.5, 1.0, 'smoker vs charges')"
      ]
     },
     "execution_count": 13,
     "metadata": {},
     "output_type": "execute_result"
    },
    {
     "data": {
      "image/png": "[encoded data removed]",
      "text/plain": [
       "<Figure size 600x600 with 1 Axes>"
      ]
     },
     "metadata": {},
     "output_type": "display_data"
    }
   ],
   "source": [
    "# smoker vs charges\n",
    "# smokers have more insurance charges than the non smokers\n",
    "\n",
    "plt.figure(figsize = (6, 6))\n",
    "sns.barplot(x = 'smoker', y = 'charges', data = insdata)\n",
    "\n",
    "plt.title('smoker vs charges')"
   ]
  },
  {
   "cell_type": "code",
   "execution_count": 14,
   "id": "6309e483",
   "metadata": {},
   "outputs": [
    {
     "data": {
      "text/plain": [
       "Text(0.5, 1.0, 'region vs charges')"
      ]
     },
     "execution_count": 14,
     "metadata": {},
     "output_type": "execute_result"
    },
    {
     "data": {
      "image/png": "[encoded data removed]",
      "text/plain": [
       "<Figure size 1200x800 with 1 Axes>"
      ]
     },
     "metadata": {},
     "output_type": "display_data"
    }
   ],
   "source": [
    "# region vs charges\n",
    "# region actually does not play any role in determining the insurance charges\n",
    "\n",
    "plt.figure(figsize = (12, 8))\n",
    "sns.barplot(x = 'region', y = 'charges', data = insdata)\n",
    "\n",
    "plt.title('region vs charges')"
   ]
  },
  {
   "cell_type": "code",
   "execution_count": 15,
   "id": "a4c7e8a4",
   "metadata": {},
   "outputs": [],
   "source": [
    "# # plotting the correlation plot for the dataset\n",
    "\n",
    "# f, ax = plt.subplots(figsize = (10, 10))\n",
    "# corr = insdata.corr()\n",
    "# sns.heatmap(corr, mask = np.zeros_like(corr, dtype = bool), \n",
    "#             cmap = sns.diverging_palette(50, 10, as_cmap = True), square = True, ax = ax)\n",
    "# ValueError: could not convert string to float: 'female'"
   ]
  },
  {
   "cell_type": "code",
   "execution_count": 16,
   "id": "badc705c",
   "metadata": {},
   "outputs": [
    {
     "name": "stdout",
     "output_type": "stream",
     "text": [
      "(1338, 6)\n"
     ]
    },
    {
     "data": {
      "text/plain": [
       "Index(['age', 'sex', 'bmi', 'children', 'smoker', 'charges'], dtype='object')"
      ]
     },
     "execution_count": 16,
     "metadata": {},
     "output_type": "execute_result"
    }
   ],
   "source": [
    "# STEP-3:Data Preprocessing / Clean the Data\n",
    "# removing unnecassary columns from the dataset\n",
    "\n",
    "insdata = insdata.drop('region', axis = 1)\n",
    "\n",
    "print(insdata.shape)\n",
    "insdata.columns"
   ]
  },
  {
   "cell_type": "code",
   "execution_count": 17,
   "id": "d6301efd",
   "metadata": {},
   "outputs": [],
   "source": [
    "# Label Encoding for sex and smoker\n",
    "\n",
    "# importing label encoder\n",
    "from sklearn.preprocessing import LabelEncoder\n",
    "\n",
    "# creating a label encoder\n",
    "le = LabelEncoder()\n",
    "\n",
    "\n",
    "# label encoding for sex\n",
    "# 0 for females and 1 for males\n",
    "insdata['sex'] = le.fit_transform(insdata['sex'])\n",
    "\n",
    "# label encoding for smoker\n",
    "# 0 for smokers and 1 for non smokers\n",
    "insdata['smoker'] = le.fit_transform(insdata['smoker'])"
   ]
  },
  {
   "cell_type": "code",
   "execution_count": 18,
   "id": "7cd069cc",
   "metadata": {},
   "outputs": [
    {
     "data": {
      "text/plain": [
       "sex\n",
       "1    676\n",
       "0    662\n",
       "Name: count, dtype: int64"
      ]
     },
     "execution_count": 18,
     "metadata": {},
     "output_type": "execute_result"
    }
   ],
   "source": [
    "insdata['sex'].value_counts()\n"
   ]
  },
  {
   "cell_type": "code",
   "execution_count": 19,
   "id": "9de65f0e",
   "metadata": {},
   "outputs": [
    {
     "data": {
      "text/plain": [
       "smoker\n",
       "0    1064\n",
       "1     274\n",
       "Name: count, dtype: int64"
      ]
     },
     "execution_count": 19,
     "metadata": {},
     "output_type": "execute_result"
    }
   ],
   "source": [
    "insdata['smoker'].value_counts()\n"
   ]
  },
  {
   "cell_type": "code",
   "execution_count": 20,
   "id": "2bbec280",
   "metadata": {},
   "outputs": [],
   "source": [
    "#Selecting Independent (Features) & Dependent(Target) variables\n",
    "\n",
    "#x = insdata.iloc[:,:5]\n",
    "#y = insdata.iloc[:,5]\n",
    "\n",
    "X = insdata.drop(columns=['charges'])\n",
    "y = insdata['charges']"
   ]
  },
  {
   "cell_type": "code",
   "execution_count": 21,
   "id": "0fa1ae86",
   "metadata": {},
   "outputs": [
    {
     "name": "stdout",
     "output_type": "stream",
     "text": [
      "(1338, 5)\n"
     ]
    },
    {
     "data": {
      "text/html": [
       "<div>\n",
       "<style scoped>\n",
       "    .dataframe tbody tr th:only-of-type {\n",
       "        vertical-align: middle;\n",
       "    }\n",
       "\n",
       "    .dataframe tbody tr th {\n",
       "        vertical-align: top;\n",
       "    }\n",
       "\n",
       "    .dataframe thead th {\n",
       "        text-align: right;\n",
       "    }\n",
       "</style>\n",
       "<table border=\"1\" class=\"dataframe\">\n",
       "  <thead>\n",
       "    <tr style=\"text-align: right;\">\n",
       "      <th></th>\n",
       "      <th>age</th>\n",
       "      <th>sex</th>\n",
       "      <th>bmi</th>\n",
       "      <th>children</th>\n",
       "      <th>smoker</th>\n",
       "    </tr>\n",
       "  </thead>\n",
       "  <tbody>\n",
       "    <tr>\n",
       "      <th>1108</th>\n",
       "      <td>26</td>\n",
       "      <td>1</td>\n",
       "      <td>30.000</td>\n",
       "      <td>1</td>\n",
       "      <td>0</td>\n",
       "    </tr>\n",
       "    <tr>\n",
       "      <th>290</th>\n",
       "      <td>28</td>\n",
       "      <td>0</td>\n",
       "      <td>33.400</td>\n",
       "      <td>0</td>\n",
       "      <td>0</td>\n",
       "    </tr>\n",
       "    <tr>\n",
       "      <th>764</th>\n",
       "      <td>45</td>\n",
       "      <td>0</td>\n",
       "      <td>25.175</td>\n",
       "      <td>2</td>\n",
       "      <td>0</td>\n",
       "    </tr>\n",
       "  </tbody>\n",
       "</table>\n",
       "</div>"
      ],
      "text/plain": [
       "      age  sex     bmi  children  smoker\n",
       "1108   26    1  30.000         1       0\n",
       "290    28    0  33.400         0       0\n",
       "764    45    0  25.175         2       0"
      ]
     },
     "execution_count": 21,
     "metadata": {},
     "output_type": "execute_result"
    }
   ],
   "source": [
    "print(X.shape)\n",
    "X.sample(3) # display 3 samples"
   ]
  },
  {
   "cell_type": "code",
   "execution_count": 22,
   "id": "d4df6201",
   "metadata": {},
   "outputs": [
    {
     "name": "stdout",
     "output_type": "stream",
     "text": [
      "(1338,)\n"
     ]
    },
    {
     "data": {
      "text/plain": [
       "1335     1629.8335\n",
       "1336     2007.9450\n",
       "1337    29141.3603\n",
       "Name: charges, dtype: float64"
      ]
     },
     "execution_count": 22,
     "metadata": {},
     "output_type": "execute_result"
    }
   ],
   "source": [
    "print(y.shape)\n",
    "y.tail(3)"
   ]
  },
  {
   "cell_type": "code",
   "execution_count": 23,
   "id": "6a85582b",
   "metadata": {},
   "outputs": [],
   "source": [
    "# Splitting the dataset into the Training set and Test set\n",
    "from sklearn.model_selection import train_test_split\n",
    "X_train, X_test, y_train, y_test = train_test_split(X, y, test_size = 0.2 , random_state = 1)"
   ]
  },
  {
   "cell_type": "code",
   "execution_count": 24,
   "id": "048b0572",
   "metadata": {},
   "outputs": [
    {
     "name": "stdout",
     "output_type": "stream",
     "text": [
      "(1070, 5)\n",
      "(268, 5)\n",
      "(1070,)\n",
      "(268,)\n"
     ]
    }
   ],
   "source": [
    "print(X_train.shape)\n",
    "print(X_test.shape)\n",
    "print(y_train.shape)\n",
    "print(y_test.shape)"
   ]
  },
  {
   "cell_type": "code",
   "execution_count": 25,
   "id": "76b27a6a",
   "metadata": {},
   "outputs": [
    {
     "name": "stdout",
     "output_type": "stream",
     "text": [
      "MSE:  35699244.58251515\n",
      "RMSE:  5974.884482775809\n",
      "R2 : 0.760858175073853\n"
     ]
    }
   ],
   "source": [
    "# STEP-4 : Fit the Model & Predict , check the Accuracy\n",
    "# Linear Regression\n",
    "\n",
    "from sklearn.linear_model import LinearRegression\n",
    "from sklearn.metrics import mean_squared_error,accuracy_score,r2_score\n",
    "\n",
    "from math import sqrt\n",
    "\n",
    "# creating the model\n",
    "lrmodel = LinearRegression()\n",
    "\n",
    "# feeding the training data to the model\n",
    "lrmodel.fit(X_train, y_train)\n",
    "\n",
    "# predicting the test set results\n",
    "y_pred = lrmodel.predict(X_test)\n",
    "\n",
    "# calculating the mean squared error\n",
    "MSE = mean_squared_error(y_test, y_pred)\n",
    "print('MSE: ', MSE)\n",
    "\n",
    "# Calculating the root mean squared error\n",
    "RMSE = sqrt(mean_squared_error(y_test, y_pred))       \n",
    "print('RMSE: ', RMSE)\n",
    "\n",
    "# Calculating the r2 score\n",
    "R2 = r2_score(y_test, y_pred)\n",
    "print('R2 :', R2)"
   ]
  },
  {
   "cell_type": "code",
   "execution_count": 26,
   "id": "c31d1176",
   "metadata": {},
   "outputs": [
    {
     "name": "stdout",
     "output_type": "stream",
     "text": [
      "MSE:  166561198.51123333\n",
      "RMSE:  12905.859076839222\n",
      "R2 : -0.11575887500351878\n"
     ]
    }
   ],
   "source": [
    "# Support Vector Machine\n",
    "from sklearn.svm import SVR\n",
    "\n",
    "# creating the model\n",
    "svrmodel = SVR()\n",
    "\n",
    "# feeding the training data to the model\n",
    "svrmodel.fit(X_train, y_train)\n",
    "\n",
    "# predicting the test set results\n",
    "y_pred = svrmodel.predict(X_test)\n",
    "\n",
    "# calculating the mean squared error\n",
    "MSE = mean_squared_error(y_test, y_pred)\n",
    "print('MSE: ', MSE)\n",
    "\n",
    "# Calculating the root mean squared error\n",
    "RMSE = sqrt(mean_squared_error(y_test, y_pred))       \n",
    "print('RMSE: ', RMSE)\n",
    "\n",
    "# Calculating the r2 score\n",
    "R2 = r2_score(y_test, y_pred)\n",
    "print('R2 :', R2)"
   ]
  },
  {
   "cell_type": "code",
   "execution_count": 27,
   "id": "16556f6b",
   "metadata": {},
   "outputs": [
    {
     "name": "stdout",
     "output_type": "stream",
     "text": [
      "MSE:  39924047.621307\n",
      "RMSE:  6318.547904487787\n",
      "R2 : 0.732557096984793\n"
     ]
    }
   ],
   "source": [
    "# Decision Tree\n",
    "from sklearn.tree import DecisionTreeRegressor\n",
    "\n",
    "# creating the model\n",
    "dtrmodel = DecisionTreeRegressor()\n",
    "\n",
    "# feeding the training data to the model\n",
    "dtrmodel.fit(X_train, y_train)\n",
    "\n",
    "# predicting the test set results\n",
    "y_pred = dtrmodel.predict(X_test)\n",
    "\n",
    "# calculating the mean squared error\n",
    "MSE = mean_squared_error(y_test, y_pred)\n",
    "print('MSE: ', MSE)\n",
    "\n",
    "# Calculating the root mean squared error\n",
    "RMSE = sqrt(mean_squared_error(y_test, y_pred))       \n",
    "print('RMSE: ', RMSE)\n",
    "\n",
    "# Calculating the r2 score\n",
    "R2 = r2_score(y_test, y_pred)\n",
    "print('R2 :', R2)"
   ]
  },
  {
   "cell_type": "code",
   "execution_count": 28,
   "id": "77861124",
   "metadata": {},
   "outputs": [
    {
     "name": "stdout",
     "output_type": "stream",
     "text": [
      "MSE:  19219562.310546882\n",
      "RMSE:  4384.012124817504\n",
      "R2 : 0.871252143876537\n"
     ]
    }
   ],
   "source": [
    "# Random Forest\n",
    "from sklearn.ensemble import RandomForestRegressor\n",
    "\n",
    "# creating the model\n",
    "#rfrmodel = RandomForestRegressor()\n",
    "rfrmodel = RandomForestRegressor(n_estimators = 40, max_depth = 4, n_jobs = -1)\n",
    "\n",
    "# feeding the training data to the model\n",
    "rfrmodel.fit(X_train, y_train)\n",
    "\n",
    "# predicting the test set results\n",
    "y_pred = rfrmodel.predict(X_test)\n",
    "\n",
    "# calculating the mean squared error\n",
    "MSE = mean_squared_error(y_test, y_pred)\n",
    "print('MSE: ', MSE)\n",
    "\n",
    "# Calculating the root mean squared error\n",
    "RMSE = sqrt(mean_squared_error(y_test, y_pred))       \n",
    "print('RMSE: ', RMSE)\n",
    "\n",
    "# Calculating the r2 score\n",
    "R2 = r2_score(y_test, y_pred)\n",
    "print('R2 :', R2)"
   ]
  },
  {
   "cell_type": "markdown",
   "id": "bb9f96fe",
   "metadata": {},
   "source": [
    "# Random Forest Model score is best with R2 score as 0.87\n"
   ]
  },
  {
   "cell_type": "code",
   "execution_count": null,
   "id": "bf562a99",
   "metadata": {},
   "outputs": [],
   "source": []
  },
  {
   "cell_type": "code",
   "execution_count": null,
   "id": "9c063dd3",
   "metadata": {},
   "outputs": [],
   "source": []
  },
  {
   "cell_type": "code",
   "execution_count": null,
   "id": "aa406acc",
   "metadata": {},
   "outputs": [],
   "source": []
  }
 ],
 "metadata": {
  "kernelspec": {
   "display_name": "Python 3 (ipykernel)",
   "language": "python",
   "name": "python3"
  },
  "language_info": {
   "codemirror_mode": {
    "name": "ipython",
    "version": 3
   },
   "file_extension": ".py",
   "mimetype": "text/x-python",
   "name": "python",
   "nbconvert_exporter": "python",
   "pygments_lexer": "ipython3",
   "version": "3.11.4"
  }
 },
 "nbformat": 4,
 "nbformat_minor": 5
}
