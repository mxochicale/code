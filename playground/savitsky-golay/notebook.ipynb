{
 "cells": [
  {
   "cell_type": "code",
   "execution_count": null,
   "metadata": {},
   "outputs": [],
   "source": [
    "#%matplotlib inline\n",
    "#%config InlineBackend.figure_format = 'svg'\n",
    "#import timeit\n",
    "import numpy as np\n",
    "import scipy.signal\n",
    "import matplotlib.pyplot as plt"
   ]
  },
  {
   "cell_type": "code",
   "execution_count": null,
   "metadata": {},
   "outputs": [],
   "source": [
    "win_radius = 1000\n",
    "win_length = 2*win_radius+1\n",
    "xidx = range(-win_radius,win_radius+1)\n",
    "\n",
    "kernelA = scipy.signal.savgol_coeffs(win_length,1)\n",
    "kernelB = scipy.signal.savgol_coeffs(win_length,2)\n",
    "kernelC = scipy.signal.savgol_coeffs(win_length,7)\n",
    "kernelD = scipy.signal.savgol_coeffs(win_length,10)\n",
    "\n",
    "\n",
    "plt.plot(xidx,kernelC, 'tab:green')\n",
    "plt.show()\n",
    "\n",
    "\n",
    "\n",
    "fig, axs = plt.subplots(2, 2)\n",
    "axs[0, 0].plot(xidx,kernelA)\n",
    "axs[0, 0].set_title('Axis [0,0]')\n",
    "axs[0, 1].plot(xidx,kernelB, 'tab:orange')\n",
    "axs[0, 1].set_title('Axis [0,1]')\n",
    "axs[1, 0].plot(xidx,kernelC, 'tab:green')\n",
    "axs[1, 0].set_title('Axis [1,0]')\n",
    "axs[1, 1].plot(xidx,kernelD, 'tab:red')\n",
    "axs[1, 1].set_title('Axis [1,1]')\n",
    "\n",
    "for ax in axs.flat:\n",
    "    ax.set(xlabel='x-label', ylabel='y-label')\n",
    "\n",
    "# Hide x labels and tick labels for top plots and y ticks for right plots.\n",
    "for ax in axs.flat:\n",
    "    ax.label_outer()\n"
   ]
  },
  {
   "cell_type": "code",
   "execution_count": null,
   "metadata": {},
   "outputs": [],
   "source": [
    "\n",
    "plt.figure(figsize=(15,10))       # set dimensions of the figure\n",
    "number_of_kernels=6\n",
    "for i in range(1,(number_of_kernels+1)):\n",
    "    plt.subplot(2,3, i)         # create subplots on a grid with 2 rows and 3 columns\n",
    "    plt.xticks([])              # set no ticks on x-axis\n",
    "    plt.yticks([])              # set no ticks on y-axis\n",
    "    plt.plot(xidx,  scipy.signal.savgol_coeffs(win_length, i )  )\n",
    "    plt.title('subplot' + '(2,3,' + str(i) + ')')\n",
    "\n",
    "plt.show()"
   ]
  },
  {
   "cell_type": "code",
   "execution_count": null,
   "metadata": {},
   "outputs": [],
   "source": []
  }
 ],
 "metadata": {
  "kernelspec": {
   "display_name": "Python 3",
   "language": "python",
   "name": "python3"
  },
  "language_info": {
   "codemirror_mode": {
    "name": "ipython",
    "version": 3
   },
   "file_extension": ".py",
   "mimetype": "text/x-python",
   "name": "python",
   "nbconvert_exporter": "python",
   "pygments_lexer": "ipython3",
   "version": "3.8.5"
  }
 },
 "nbformat": 4,
 "nbformat_minor": 4
}
